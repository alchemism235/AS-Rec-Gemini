{
 "cells": [
  {
   "cell_type": "code",
   "execution_count": 2,
   "id": "28c407d2-d2ec-4b3b-9e94-b8f48774d6ba",
   "metadata": {},
   "outputs": [
    {
     "name": "stdout",
     "output_type": "stream",
     "text": [
      "Using device: cuda\n",
      "✅ Data loaded and preprocessed successfully.\n",
      "\n",
      "--- Starting Randomized Hyperparameter Search with 10 trials ---\n",
      "Data Split Random State: 42\n",
      "Fixed Data Split: Train=313456, Val=44780, Test=89560\n",
      "\n",
      "==================== Trial 1/10 ====================\n",
      "Current Parameters: {'mf_dim': 32, 'mlp_dims': [128, 64, 32], 'learning_rate': 0.0005, 'batch_size': 256, 'patience': 5}\n",
      "모델 학습 시작...\n"
     ]
    },
    {
     "name": "stderr",
     "output_type": "stream",
     "text": [
      "                                                                                            "
     ]
    },
    {
     "name": "stdout",
     "output_type": "stream",
     "text": [
      "Epoch 1 | Train Loss: 2.0312 | Val RMSE: 1.1586, MAE: 0.9284\n"
     ]
    },
    {
     "name": "stderr",
     "output_type": "stream",
     "text": [
      "                                                                                             "
     ]
    },
    {
     "name": "stdout",
     "output_type": "stream",
     "text": [
      "Epoch 2 | Train Loss: 1.2605 | Val RMSE: 1.1252, MAE: 0.8877\n"
     ]
    },
    {
     "name": "stderr",
     "output_type": "stream",
     "text": [
      "                                                                                             "
     ]
    },
    {
     "name": "stdout",
     "output_type": "stream",
     "text": [
      "Epoch 3 | Train Loss: 1.1770 | Val RMSE: 1.1092, MAE: 0.8901\n"
     ]
    },
    {
     "name": "stderr",
     "output_type": "stream",
     "text": [
      "                                                                                             "
     ]
    },
    {
     "name": "stdout",
     "output_type": "stream",
     "text": [
      "Epoch 4 | Train Loss: 1.1163 | Val RMSE: 1.0971, MAE: 0.8650\n"
     ]
    },
    {
     "name": "stderr",
     "output_type": "stream",
     "text": [
      "                                                                                             "
     ]
    },
    {
     "name": "stdout",
     "output_type": "stream",
     "text": [
      "Epoch 5 | Train Loss: 1.0613 | Val RMSE: 1.0927, MAE: 0.8620\n"
     ]
    },
    {
     "name": "stderr",
     "output_type": "stream",
     "text": [
      "                                                                                             "
     ]
    },
    {
     "name": "stdout",
     "output_type": "stream",
     "text": [
      "Epoch 6 | Train Loss: 1.0079 | Val RMSE: 1.0905, MAE: 0.8644\n"
     ]
    },
    {
     "name": "stderr",
     "output_type": "stream",
     "text": [
      "                                                                                             "
     ]
    },
    {
     "name": "stdout",
     "output_type": "stream",
     "text": [
      "Epoch 7 | Train Loss: 0.9554 | Val RMSE: 1.0939, MAE: 0.8547\n"
     ]
    },
    {
     "name": "stderr",
     "output_type": "stream",
     "text": [
      "                                                                                             "
     ]
    },
    {
     "name": "stdout",
     "output_type": "stream",
     "text": [
      "Epoch 8 | Train Loss: 0.9050 | Val RMSE: 1.1001, MAE: 0.8569\n"
     ]
    },
    {
     "name": "stderr",
     "output_type": "stream",
     "text": [
      "                                                                                             "
     ]
    },
    {
     "name": "stdout",
     "output_type": "stream",
     "text": [
      "Epoch 9 | Train Loss: 0.8569 | Val RMSE: 1.1033, MAE: 0.8653\n"
     ]
    },
    {
     "name": "stderr",
     "output_type": "stream",
     "text": [
      "                                                                                              "
     ]
    },
    {
     "name": "stdout",
     "output_type": "stream",
     "text": [
      "Epoch 10 | Train Loss: 0.8104 | Val RMSE: 1.1154, MAE: 0.8761\n"
     ]
    },
    {
     "name": "stderr",
     "output_type": "stream",
     "text": [
      "                                                                                              "
     ]
    },
    {
     "name": "stdout",
     "output_type": "stream",
     "text": [
      "Epoch 11 | Train Loss: 0.7652 | Val RMSE: 1.1238, MAE: 0.8835\n",
      "Early stopping triggered for this trial.\n",
      "\n",
      "Loaded best model for trial 1 from temp_neumf_model_trial_1.pt\n",
      "\n",
      "✅ Trial 1 Test Results:\n",
      " - MSE  : 1.1811\n",
      " - RMSE : 1.0868\n",
      " - MAE  : 0.8602\n",
      " - MAPE : 34.35%\n",
      "  --> New overall best RMSE found: 1.0868 with params: {'mf_dim': 32, 'mlp_dims': [128, 64, 32], 'learning_rate': 0.0005, 'batch_size': 256, 'patience': 5}\n",
      "\n",
      "==================== Trial 2/10 ====================\n",
      "Current Parameters: {'mf_dim': 32, 'mlp_dims': [128, 64, 32], 'learning_rate': 0.002, 'batch_size': 512, 'patience': 7}\n",
      "모델 학습 시작...\n"
     ]
    },
    {
     "name": "stderr",
     "output_type": "stream",
     "text": [
      "                                                                                          "
     ]
    },
    {
     "name": "stdout",
     "output_type": "stream",
     "text": [
      "Epoch 1 | Train Loss: 1.7446 | Val RMSE: 1.1193, MAE: 0.8874\n"
     ]
    },
    {
     "name": "stderr",
     "output_type": "stream",
     "text": [
      "                                                                                           "
     ]
    },
    {
     "name": "stdout",
     "output_type": "stream",
     "text": [
      "Epoch 2 | Train Loss: 1.1491 | Val RMSE: 1.0915, MAE: 0.8658\n"
     ]
    },
    {
     "name": "stderr",
     "output_type": "stream",
     "text": [
      "                                                                                           "
     ]
    },
    {
     "name": "stdout",
     "output_type": "stream",
     "text": [
      "Epoch 3 | Train Loss: 1.0384 | Val RMSE: 1.0835, MAE: 0.8558\n"
     ]
    },
    {
     "name": "stderr",
     "output_type": "stream",
     "text": [
      "                                                                                           "
     ]
    },
    {
     "name": "stdout",
     "output_type": "stream",
     "text": [
      "Epoch 4 | Train Loss: 0.9405 | Val RMSE: 1.0857, MAE: 0.8500\n"
     ]
    },
    {
     "name": "stderr",
     "output_type": "stream",
     "text": [
      "                                                                                           "
     ]
    },
    {
     "name": "stdout",
     "output_type": "stream",
     "text": [
      "Epoch 5 | Train Loss: 0.8401 | Val RMSE: 1.1066, MAE: 0.8584\n"
     ]
    },
    {
     "name": "stderr",
     "output_type": "stream",
     "text": [
      "                                                                                           "
     ]
    },
    {
     "name": "stdout",
     "output_type": "stream",
     "text": [
      "Epoch 6 | Train Loss: 0.7381 | Val RMSE: 1.1280, MAE: 0.8893\n"
     ]
    },
    {
     "name": "stderr",
     "output_type": "stream",
     "text": [
      "                                                                                           "
     ]
    },
    {
     "name": "stdout",
     "output_type": "stream",
     "text": [
      "Epoch 7 | Train Loss: 0.6330 | Val RMSE: 1.1587, MAE: 0.8983\n"
     ]
    },
    {
     "name": "stderr",
     "output_type": "stream",
     "text": [
      "                                                                                           "
     ]
    },
    {
     "name": "stdout",
     "output_type": "stream",
     "text": [
      "Epoch 8 | Train Loss: 0.5343 | Val RMSE: 1.1845, MAE: 0.9267\n"
     ]
    },
    {
     "name": "stderr",
     "output_type": "stream",
     "text": [
      "                                                                                           "
     ]
    },
    {
     "name": "stdout",
     "output_type": "stream",
     "text": [
      "Epoch 9 | Train Loss: 0.4477 | Val RMSE: 1.2093, MAE: 0.9470\n"
     ]
    },
    {
     "name": "stderr",
     "output_type": "stream",
     "text": [
      "                                                                                            "
     ]
    },
    {
     "name": "stdout",
     "output_type": "stream",
     "text": [
      "Epoch 10 | Train Loss: 0.3741 | Val RMSE: 1.2261, MAE: 0.9621\n",
      "Early stopping triggered for this trial.\n",
      "\n",
      "Loaded best model for trial 2 from temp_neumf_model_trial_2.pt\n",
      "\n",
      "✅ Trial 2 Test Results:\n",
      " - MSE  : 1.1632\n",
      " - RMSE : 1.0785\n",
      " - MAE  : 0.8517\n",
      " - MAPE : 34.13%\n",
      "  --> New overall best RMSE found: 1.0785 with params: {'mf_dim': 32, 'mlp_dims': [128, 64, 32], 'learning_rate': 0.002, 'batch_size': 512, 'patience': 7}\n",
      "\n",
      "==================== Trial 3/10 ====================\n",
      "Current Parameters: {'mf_dim': 32, 'mlp_dims': [64, 32], 'learning_rate': 0.002, 'batch_size': 128, 'patience': 7}\n",
      "모델 학습 시작...\n"
     ]
    },
    {
     "name": "stderr",
     "output_type": "stream",
     "text": [
      "                                                                                             "
     ]
    },
    {
     "name": "stdout",
     "output_type": "stream",
     "text": [
      "Epoch 1 | Train Loss: 1.7053 | Val RMSE: 1.1115, MAE: 0.8923\n"
     ]
    },
    {
     "name": "stderr",
     "output_type": "stream",
     "text": [
      "                                                                                             "
     ]
    },
    {
     "name": "stdout",
     "output_type": "stream",
     "text": [
      "Epoch 2 | Train Loss: 1.1335 | Val RMSE: 1.0839, MAE: 0.8589\n"
     ]
    },
    {
     "name": "stderr",
     "output_type": "stream",
     "text": [
      "                                                                                             "
     ]
    },
    {
     "name": "stdout",
     "output_type": "stream",
     "text": [
      "Epoch 3 | Train Loss: 1.0080 | Val RMSE: 1.0837, MAE: 0.8461\n"
     ]
    },
    {
     "name": "stderr",
     "output_type": "stream",
     "text": [
      "                                                                                             "
     ]
    },
    {
     "name": "stdout",
     "output_type": "stream",
     "text": [
      "Epoch 4 | Train Loss: 0.8870 | Val RMSE: 1.1000, MAE: 0.8667\n"
     ]
    },
    {
     "name": "stderr",
     "output_type": "stream",
     "text": [
      "                                                                                             "
     ]
    },
    {
     "name": "stdout",
     "output_type": "stream",
     "text": [
      "Epoch 5 | Train Loss: 0.7610 | Val RMSE: 1.1352, MAE: 0.8862\n"
     ]
    },
    {
     "name": "stderr",
     "output_type": "stream",
     "text": [
      "                                                                                             "
     ]
    },
    {
     "name": "stdout",
     "output_type": "stream",
     "text": [
      "Epoch 6 | Train Loss: 0.6328 | Val RMSE: 1.1656, MAE: 0.9164\n"
     ]
    },
    {
     "name": "stderr",
     "output_type": "stream",
     "text": [
      "                                                                                             "
     ]
    },
    {
     "name": "stdout",
     "output_type": "stream",
     "text": [
      "Epoch 7 | Train Loss: 0.5161 | Val RMSE: 1.1950, MAE: 0.9340\n"
     ]
    },
    {
     "name": "stderr",
     "output_type": "stream",
     "text": [
      "                                                                                             "
     ]
    },
    {
     "name": "stdout",
     "output_type": "stream",
     "text": [
      "Epoch 8 | Train Loss: 0.4177 | Val RMSE: 1.2295, MAE: 0.9613\n"
     ]
    },
    {
     "name": "stderr",
     "output_type": "stream",
     "text": [
      "                                                                                             "
     ]
    },
    {
     "name": "stdout",
     "output_type": "stream",
     "text": [
      "Epoch 9 | Train Loss: 0.3401 | Val RMSE: 1.2503, MAE: 0.9801\n"
     ]
    },
    {
     "name": "stderr",
     "output_type": "stream",
     "text": [
      "                                                                                              "
     ]
    },
    {
     "name": "stdout",
     "output_type": "stream",
     "text": [
      "Epoch 10 | Train Loss: 0.2796 | Val RMSE: 1.2779, MAE: 1.0022\n",
      "Early stopping triggered for this trial.\n",
      "\n",
      "Loaded best model for trial 3 from temp_neumf_model_trial_3.pt\n",
      "\n",
      "✅ Trial 3 Test Results:\n",
      " - MSE  : 1.1590\n",
      " - RMSE : 1.0766\n",
      " - MAE  : 0.8396\n",
      " - MAPE : 34.12%\n",
      "  --> New overall best RMSE found: 1.0766 with params: {'mf_dim': 32, 'mlp_dims': [64, 32], 'learning_rate': 0.002, 'batch_size': 128, 'patience': 7}\n",
      "\n",
      "==================== Trial 4/10 ====================\n",
      "Current Parameters: {'mf_dim': 32, 'mlp_dims': [64, 32], 'learning_rate': 0.002, 'batch_size': 512, 'patience': 7}\n",
      "모델 학습 시작...\n"
     ]
    },
    {
     "name": "stderr",
     "output_type": "stream",
     "text": [
      "                                                                                          "
     ]
    },
    {
     "name": "stdout",
     "output_type": "stream",
     "text": [
      "Epoch 1 | Train Loss: 2.3984 | Val RMSE: 1.1617, MAE: 0.9226\n"
     ]
    },
    {
     "name": "stderr",
     "output_type": "stream",
     "text": [
      "                                                                                           "
     ]
    },
    {
     "name": "stdout",
     "output_type": "stream",
     "text": [
      "Epoch 2 | Train Loss: 1.2271 | Val RMSE: 1.1112, MAE: 0.8806\n"
     ]
    },
    {
     "name": "stderr",
     "output_type": "stream",
     "text": [
      "                                                                                           "
     ]
    },
    {
     "name": "stdout",
     "output_type": "stream",
     "text": [
      "Epoch 3 | Train Loss: 1.1085 | Val RMSE: 1.0958, MAE: 0.8667\n"
     ]
    },
    {
     "name": "stderr",
     "output_type": "stream",
     "text": [
      "                                                                                           "
     ]
    },
    {
     "name": "stdout",
     "output_type": "stream",
     "text": [
      "Epoch 4 | Train Loss: 1.0174 | Val RMSE: 1.0909, MAE: 0.8610\n"
     ]
    },
    {
     "name": "stderr",
     "output_type": "stream",
     "text": [
      "                                                                                           "
     ]
    },
    {
     "name": "stdout",
     "output_type": "stream",
     "text": [
      "Epoch 5 | Train Loss: 0.9265 | Val RMSE: 1.1020, MAE: 0.8662\n"
     ]
    },
    {
     "name": "stderr",
     "output_type": "stream",
     "text": [
      "                                                                                           "
     ]
    },
    {
     "name": "stdout",
     "output_type": "stream",
     "text": [
      "Epoch 6 | Train Loss: 0.8311 | Val RMSE: 1.1185, MAE: 0.8718\n"
     ]
    },
    {
     "name": "stderr",
     "output_type": "stream",
     "text": [
      "                                                                                           "
     ]
    },
    {
     "name": "stdout",
     "output_type": "stream",
     "text": [
      "Epoch 7 | Train Loss: 0.7337 | Val RMSE: 1.1408, MAE: 0.8956\n"
     ]
    },
    {
     "name": "stderr",
     "output_type": "stream",
     "text": [
      "                                                                                           "
     ]
    },
    {
     "name": "stdout",
     "output_type": "stream",
     "text": [
      "Epoch 8 | Train Loss: 0.6397 | Val RMSE: 1.1646, MAE: 0.9133\n"
     ]
    },
    {
     "name": "stderr",
     "output_type": "stream",
     "text": [
      "                                                                                           "
     ]
    },
    {
     "name": "stdout",
     "output_type": "stream",
     "text": [
      "Epoch 9 | Train Loss: 0.5527 | Val RMSE: 1.1896, MAE: 0.9328\n"
     ]
    },
    {
     "name": "stderr",
     "output_type": "stream",
     "text": [
      "                                                                                            "
     ]
    },
    {
     "name": "stdout",
     "output_type": "stream",
     "text": [
      "Epoch 10 | Train Loss: 0.4763 | Val RMSE: 1.2132, MAE: 0.9519\n"
     ]
    },
    {
     "name": "stderr",
     "output_type": "stream",
     "text": [
      "                                                                                            "
     ]
    },
    {
     "name": "stdout",
     "output_type": "stream",
     "text": [
      "Epoch 11 | Train Loss: 0.4107 | Val RMSE: 1.2380, MAE: 0.9723\n",
      "Early stopping triggered for this trial.\n",
      "\n",
      "Loaded best model for trial 4 from temp_neumf_model_trial_4.pt\n",
      "\n",
      "✅ Trial 4 Test Results:\n",
      " - MSE  : 1.1825\n",
      " - RMSE : 1.0874\n",
      " - MAE  : 0.8575\n",
      " - MAPE : 34.45%\n",
      "\n",
      "==================== Trial 5/10 ====================\n",
      "Current Parameters: {'mf_dim': 8, 'mlp_dims': [128, 64, 32], 'learning_rate': 0.0005, 'batch_size': 256, 'patience': 10}\n",
      "모델 학습 시작...\n"
     ]
    },
    {
     "name": "stderr",
     "output_type": "stream",
     "text": [
      "                                                                                            "
     ]
    },
    {
     "name": "stdout",
     "output_type": "stream",
     "text": [
      "Epoch 1 | Train Loss: 1.9417 | Val RMSE: 1.1555, MAE: 0.9242\n"
     ]
    },
    {
     "name": "stderr",
     "output_type": "stream",
     "text": [
      "                                                                                             "
     ]
    },
    {
     "name": "stdout",
     "output_type": "stream",
     "text": [
      "Epoch 2 | Train Loss: 1.2569 | Val RMSE: 1.1234, MAE: 0.8977\n"
     ]
    },
    {
     "name": "stderr",
     "output_type": "stream",
     "text": [
      "                                                                                            "
     ]
    },
    {
     "name": "stdout",
     "output_type": "stream",
     "text": [
      "Epoch 3 | Train Loss: 1.1752 | Val RMSE: 1.1074, MAE: 0.8846\n"
     ]
    },
    {
     "name": "stderr",
     "output_type": "stream",
     "text": [
      "                                                                                             "
     ]
    },
    {
     "name": "stdout",
     "output_type": "stream",
     "text": [
      "Epoch 4 | Train Loss: 1.1144 | Val RMSE: 1.0971, MAE: 0.8637\n"
     ]
    },
    {
     "name": "stderr",
     "output_type": "stream",
     "text": [
      "                                                                                             "
     ]
    },
    {
     "name": "stdout",
     "output_type": "stream",
     "text": [
      "Epoch 5 | Train Loss: 1.0607 | Val RMSE: 1.0925, MAE: 0.8569\n"
     ]
    },
    {
     "name": "stderr",
     "output_type": "stream",
     "text": [
      "                                                                                             "
     ]
    },
    {
     "name": "stdout",
     "output_type": "stream",
     "text": [
      "Epoch 6 | Train Loss: 1.0104 | Val RMSE: 1.0905, MAE: 0.8591\n"
     ]
    },
    {
     "name": "stderr",
     "output_type": "stream",
     "text": [
      "                                                                                             "
     ]
    },
    {
     "name": "stdout",
     "output_type": "stream",
     "text": [
      "Epoch 7 | Train Loss: 0.9633 | Val RMSE: 1.0904, MAE: 0.8560\n"
     ]
    },
    {
     "name": "stderr",
     "output_type": "stream",
     "text": [
      "                                                                                             "
     ]
    },
    {
     "name": "stdout",
     "output_type": "stream",
     "text": [
      "Epoch 8 | Train Loss: 0.9204 | Val RMSE: 1.0943, MAE: 0.8581\n"
     ]
    },
    {
     "name": "stderr",
     "output_type": "stream",
     "text": [
      "                                                                                            "
     ]
    },
    {
     "name": "stdout",
     "output_type": "stream",
     "text": [
      "Epoch 9 | Train Loss: 0.8789 | Val RMSE: 1.0997, MAE: 0.8680\n"
     ]
    },
    {
     "name": "stderr",
     "output_type": "stream",
     "text": [
      "                                                                                              "
     ]
    },
    {
     "name": "stdout",
     "output_type": "stream",
     "text": [
      "Epoch 10 | Train Loss: 0.8396 | Val RMSE: 1.1060, MAE: 0.8712\n"
     ]
    },
    {
     "name": "stderr",
     "output_type": "stream",
     "text": [
      "                                                                                              "
     ]
    },
    {
     "name": "stdout",
     "output_type": "stream",
     "text": [
      "Epoch 11 | Train Loss: 0.8029 | Val RMSE: 1.1107, MAE: 0.8673\n"
     ]
    },
    {
     "name": "stderr",
     "output_type": "stream",
     "text": [
      "                                                                                              "
     ]
    },
    {
     "name": "stdout",
     "output_type": "stream",
     "text": [
      "Epoch 12 | Train Loss: 0.7670 | Val RMSE: 1.1171, MAE: 0.8757\n"
     ]
    },
    {
     "name": "stderr",
     "output_type": "stream",
     "text": [
      "                                                                                              "
     ]
    },
    {
     "name": "stdout",
     "output_type": "stream",
     "text": [
      "Epoch 13 | Train Loss: 0.7328 | Val RMSE: 1.1253, MAE: 0.8806\n"
     ]
    },
    {
     "name": "stderr",
     "output_type": "stream",
     "text": [
      "                                                                                              "
     ]
    },
    {
     "name": "stdout",
     "output_type": "stream",
     "text": [
      "Epoch 14 | Train Loss: 0.6988 | Val RMSE: 1.1338, MAE: 0.8899\n"
     ]
    },
    {
     "name": "stderr",
     "output_type": "stream",
     "text": [
      "                                                                                              "
     ]
    },
    {
     "name": "stdout",
     "output_type": "stream",
     "text": [
      "Epoch 15 | Train Loss: 0.6666 | Val RMSE: 1.1445, MAE: 0.8916\n"
     ]
    },
    {
     "name": "stderr",
     "output_type": "stream",
     "text": [
      "                                                                                              "
     ]
    },
    {
     "name": "stdout",
     "output_type": "stream",
     "text": [
      "Epoch 16 | Train Loss: 0.6347 | Val RMSE: 1.1495, MAE: 0.8971\n"
     ]
    },
    {
     "name": "stderr",
     "output_type": "stream",
     "text": [
      "                                                                                             "
     ]
    },
    {
     "name": "stdout",
     "output_type": "stream",
     "text": [
      "Epoch 17 | Train Loss: 0.6047 | Val RMSE: 1.1597, MAE: 0.9039\n",
      "Early stopping triggered for this trial.\n",
      "\n",
      "Loaded best model for trial 5 from temp_neumf_model_trial_5.pt\n",
      "\n",
      "✅ Trial 5 Test Results:\n",
      " - MSE  : 1.1704\n",
      " - RMSE : 1.0818\n",
      " - MAE  : 0.8476\n",
      " - MAPE : 34.19%\n",
      "\n",
      "==================== Trial 6/10 ====================\n",
      "Current Parameters: {'mf_dim': 32, 'mlp_dims': [128, 64], 'learning_rate': 0.002, 'batch_size': 128, 'patience': 10}\n",
      "모델 학습 시작...\n"
     ]
    },
    {
     "name": "stderr",
     "output_type": "stream",
     "text": [
      "                                                                                             "
     ]
    },
    {
     "name": "stdout",
     "output_type": "stream",
     "text": [
      "Epoch 1 | Train Loss: 1.4514 | Val RMSE: 1.1073, MAE: 0.8742\n"
     ]
    },
    {
     "name": "stderr",
     "output_type": "stream",
     "text": [
      "                                                                                             "
     ]
    },
    {
     "name": "stdout",
     "output_type": "stream",
     "text": [
      "Epoch 2 | Train Loss: 1.0974 | Val RMSE: 1.0860, MAE: 0.8661\n"
     ]
    },
    {
     "name": "stderr",
     "output_type": "stream",
     "text": [
      "                                                                                             "
     ]
    },
    {
     "name": "stdout",
     "output_type": "stream",
     "text": [
      "Epoch 3 | Train Loss: 0.9631 | Val RMSE: 1.0844, MAE: 0.8522\n"
     ]
    },
    {
     "name": "stderr",
     "output_type": "stream",
     "text": [
      "                                                                                             "
     ]
    },
    {
     "name": "stdout",
     "output_type": "stream",
     "text": [
      "Epoch 4 | Train Loss: 0.8324 | Val RMSE: 1.1081, MAE: 0.8761\n"
     ]
    },
    {
     "name": "stderr",
     "output_type": "stream",
     "text": [
      "                                                                                             "
     ]
    },
    {
     "name": "stdout",
     "output_type": "stream",
     "text": [
      "Epoch 5 | Train Loss: 0.6925 | Val RMSE: 1.1417, MAE: 0.8959\n"
     ]
    },
    {
     "name": "stderr",
     "output_type": "stream",
     "text": [
      "                                                                                             "
     ]
    },
    {
     "name": "stdout",
     "output_type": "stream",
     "text": [
      "Epoch 6 | Train Loss: 0.5568 | Val RMSE: 1.1730, MAE: 0.9197\n"
     ]
    },
    {
     "name": "stderr",
     "output_type": "stream",
     "text": [
      "                                                                                             "
     ]
    },
    {
     "name": "stdout",
     "output_type": "stream",
     "text": [
      "Epoch 7 | Train Loss: 0.4386 | Val RMSE: 1.2074, MAE: 0.9536\n"
     ]
    },
    {
     "name": "stderr",
     "output_type": "stream",
     "text": [
      "                                                                                             "
     ]
    },
    {
     "name": "stdout",
     "output_type": "stream",
     "text": [
      "Epoch 8 | Train Loss: 0.3455 | Val RMSE: 1.2395, MAE: 0.9767\n"
     ]
    },
    {
     "name": "stderr",
     "output_type": "stream",
     "text": [
      "                                                                                             "
     ]
    },
    {
     "name": "stdout",
     "output_type": "stream",
     "text": [
      "Epoch 9 | Train Loss: 0.2757 | Val RMSE: 1.2498, MAE: 0.9764\n"
     ]
    },
    {
     "name": "stderr",
     "output_type": "stream",
     "text": [
      "                                                                                              "
     ]
    },
    {
     "name": "stdout",
     "output_type": "stream",
     "text": [
      "Epoch 10 | Train Loss: 0.2256 | Val RMSE: 1.2724, MAE: 0.9909\n"
     ]
    },
    {
     "name": "stderr",
     "output_type": "stream",
     "text": [
      "                                                                                               "
     ]
    },
    {
     "name": "stdout",
     "output_type": "stream",
     "text": [
      "Epoch 11 | Train Loss: 0.1901 | Val RMSE: 1.2856, MAE: 1.0056\n"
     ]
    },
    {
     "name": "stderr",
     "output_type": "stream",
     "text": [
      "                                                                                               "
     ]
    },
    {
     "name": "stdout",
     "output_type": "stream",
     "text": [
      "Epoch 12 | Train Loss: 0.1650 | Val RMSE: 1.2899, MAE: 1.0119\n"
     ]
    },
    {
     "name": "stderr",
     "output_type": "stream",
     "text": [
      "                                                                                               "
     ]
    },
    {
     "name": "stdout",
     "output_type": "stream",
     "text": [
      "Epoch 13 | Train Loss: 0.1469 | Val RMSE: 1.2941, MAE: 1.0127\n",
      "Early stopping triggered for this trial.\n",
      "\n",
      "Loaded best model for trial 6 from temp_neumf_model_trial_6.pt\n",
      "\n",
      "✅ Trial 6 Test Results:\n",
      " - MSE  : 1.1625\n",
      " - RMSE : 1.0782\n",
      " - MAE  : 0.8474\n",
      " - MAPE : 33.65%\n",
      "\n",
      "==================== Trial 7/10 ====================\n",
      "Current Parameters: {'mf_dim': 32, 'mlp_dims': [64, 32], 'learning_rate': 0.0005, 'batch_size': 128, 'patience': 10}\n",
      "모델 학습 시작...\n"
     ]
    },
    {
     "name": "stderr",
     "output_type": "stream",
     "text": [
      "                                                                                             "
     ]
    },
    {
     "name": "stdout",
     "output_type": "stream",
     "text": [
      "Epoch 1 | Train Loss: 2.5018 | Val RMSE: 1.1906, MAE: 0.9575\n"
     ]
    },
    {
     "name": "stderr",
     "output_type": "stream",
     "text": [
      "                                                                                             "
     ]
    },
    {
     "name": "stdout",
     "output_type": "stream",
     "text": [
      "Epoch 2 | Train Loss: 1.3251 | Val RMSE: 1.1419, MAE: 0.9116\n"
     ]
    },
    {
     "name": "stderr",
     "output_type": "stream",
     "text": [
      "                                                                                             "
     ]
    },
    {
     "name": "stdout",
     "output_type": "stream",
     "text": [
      "Epoch 3 | Train Loss: 1.2215 | Val RMSE: 1.1170, MAE: 0.8855\n"
     ]
    },
    {
     "name": "stderr",
     "output_type": "stream",
     "text": [
      "                                                                                             "
     ]
    },
    {
     "name": "stdout",
     "output_type": "stream",
     "text": [
      "Epoch 4 | Train Loss: 1.1512 | Val RMSE: 1.1045, MAE: 0.8776\n"
     ]
    },
    {
     "name": "stderr",
     "output_type": "stream",
     "text": [
      "                                                                                             "
     ]
    },
    {
     "name": "stdout",
     "output_type": "stream",
     "text": [
      "Epoch 5 | Train Loss: 1.0914 | Val RMSE: 1.0997, MAE: 0.8702\n"
     ]
    },
    {
     "name": "stderr",
     "output_type": "stream",
     "text": [
      "                                                                                             "
     ]
    },
    {
     "name": "stdout",
     "output_type": "stream",
     "text": [
      "Epoch 6 | Train Loss: 1.0359 | Val RMSE: 1.0977, MAE: 0.8643\n"
     ]
    },
    {
     "name": "stderr",
     "output_type": "stream",
     "text": [
      "                                                                                             "
     ]
    },
    {
     "name": "stdout",
     "output_type": "stream",
     "text": [
      "Epoch 7 | Train Loss: 0.9831 | Val RMSE: 1.1002, MAE: 0.8684\n"
     ]
    },
    {
     "name": "stderr",
     "output_type": "stream",
     "text": [
      "                                                                                             "
     ]
    },
    {
     "name": "stdout",
     "output_type": "stream",
     "text": [
      "Epoch 8 | Train Loss: 0.9318 | Val RMSE: 1.1049, MAE: 0.8703\n"
     ]
    },
    {
     "name": "stderr",
     "output_type": "stream",
     "text": [
      "                                                                                             "
     ]
    },
    {
     "name": "stdout",
     "output_type": "stream",
     "text": [
      "Epoch 9 | Train Loss: 0.8831 | Val RMSE: 1.1121, MAE: 0.8722\n"
     ]
    },
    {
     "name": "stderr",
     "output_type": "stream",
     "text": [
      "                                                                                              "
     ]
    },
    {
     "name": "stdout",
     "output_type": "stream",
     "text": [
      "Epoch 10 | Train Loss: 0.8360 | Val RMSE: 1.1186, MAE: 0.8808\n"
     ]
    },
    {
     "name": "stderr",
     "output_type": "stream",
     "text": [
      "                                                                                              "
     ]
    },
    {
     "name": "stdout",
     "output_type": "stream",
     "text": [
      "Epoch 11 | Train Loss: 0.7907 | Val RMSE: 1.1267, MAE: 0.8853\n"
     ]
    },
    {
     "name": "stderr",
     "output_type": "stream",
     "text": [
      "                                                                                              "
     ]
    },
    {
     "name": "stdout",
     "output_type": "stream",
     "text": [
      "Epoch 12 | Train Loss: 0.7469 | Val RMSE: 1.1390, MAE: 0.8936\n"
     ]
    },
    {
     "name": "stderr",
     "output_type": "stream",
     "text": [
      "                                                                                              "
     ]
    },
    {
     "name": "stdout",
     "output_type": "stream",
     "text": [
      "Epoch 13 | Train Loss: 0.7044 | Val RMSE: 1.1459, MAE: 0.8993\n"
     ]
    },
    {
     "name": "stderr",
     "output_type": "stream",
     "text": [
      "                                                                                              "
     ]
    },
    {
     "name": "stdout",
     "output_type": "stream",
     "text": [
      "Epoch 14 | Train Loss: 0.6641 | Val RMSE: 1.1603, MAE: 0.9105\n"
     ]
    },
    {
     "name": "stderr",
     "output_type": "stream",
     "text": [
      "                                                                                              "
     ]
    },
    {
     "name": "stdout",
     "output_type": "stream",
     "text": [
      "Epoch 15 | Train Loss: 0.6247 | Val RMSE: 1.1710, MAE: 0.9216\n"
     ]
    },
    {
     "name": "stderr",
     "output_type": "stream",
     "text": [
      "                                                                                              "
     ]
    },
    {
     "name": "stdout",
     "output_type": "stream",
     "text": [
      "Epoch 16 | Train Loss: 0.5869 | Val RMSE: 1.1823, MAE: 0.9275\n",
      "Early stopping triggered for this trial.\n",
      "\n",
      "Loaded best model for trial 7 from temp_neumf_model_trial_7.pt\n",
      "\n",
      "✅ Trial 7 Test Results:\n",
      " - MSE  : 1.1905\n",
      " - RMSE : 1.0911\n",
      " - MAE  : 0.8585\n",
      " - MAPE : 34.92%\n",
      "\n",
      "==================== Trial 8/10 ====================\n",
      "Current Parameters: {'mf_dim': 32, 'mlp_dims': [128, 64, 32], 'learning_rate': 0.001, 'batch_size': 512, 'patience': 10}\n",
      "모델 학습 시작...\n"
     ]
    },
    {
     "name": "stderr",
     "output_type": "stream",
     "text": [
      "                                                                                         "
     ]
    },
    {
     "name": "stdout",
     "output_type": "stream",
     "text": [
      "Epoch 1 | Train Loss: 2.1086 | Val RMSE: 1.1455, MAE: 0.9168\n"
     ]
    },
    {
     "name": "stderr",
     "output_type": "stream",
     "text": [
      "                                                                                          "
     ]
    },
    {
     "name": "stdout",
     "output_type": "stream",
     "text": [
      "Epoch 2 | Train Loss: 1.2230 | Val RMSE: 1.1117, MAE: 0.8775\n"
     ]
    },
    {
     "name": "stderr",
     "output_type": "stream",
     "text": [
      "                                                                                          "
     ]
    },
    {
     "name": "stdout",
     "output_type": "stream",
     "text": [
      "Epoch 3 | Train Loss: 1.1327 | Val RMSE: 1.0946, MAE: 0.8656\n"
     ]
    },
    {
     "name": "stderr",
     "output_type": "stream",
     "text": [
      "                                                                                          "
     ]
    },
    {
     "name": "stdout",
     "output_type": "stream",
     "text": [
      "Epoch 4 | Train Loss: 1.0619 | Val RMSE: 1.0861, MAE: 0.8592\n"
     ]
    },
    {
     "name": "stderr",
     "output_type": "stream",
     "text": [
      "                                                                                          "
     ]
    },
    {
     "name": "stdout",
     "output_type": "stream",
     "text": [
      "Epoch 5 | Train Loss: 0.9963 | Val RMSE: 1.0844, MAE: 0.8513\n"
     ]
    },
    {
     "name": "stderr",
     "output_type": "stream",
     "text": [
      "                                                                                          "
     ]
    },
    {
     "name": "stdout",
     "output_type": "stream",
     "text": [
      "Epoch 6 | Train Loss: 0.9305 | Val RMSE: 1.0886, MAE: 0.8572\n"
     ]
    },
    {
     "name": "stderr",
     "output_type": "stream",
     "text": [
      "                                                                                           "
     ]
    },
    {
     "name": "stdout",
     "output_type": "stream",
     "text": [
      "Epoch 7 | Train Loss: 0.8653 | Val RMSE: 1.0982, MAE: 0.8651\n"
     ]
    },
    {
     "name": "stderr",
     "output_type": "stream",
     "text": [
      "                                                                                           "
     ]
    },
    {
     "name": "stdout",
     "output_type": "stream",
     "text": [
      "Epoch 8 | Train Loss: 0.8002 | Val RMSE: 1.1132, MAE: 0.8797\n"
     ]
    },
    {
     "name": "stderr",
     "output_type": "stream",
     "text": [
      "                                                                                           "
     ]
    },
    {
     "name": "stdout",
     "output_type": "stream",
     "text": [
      "Epoch 9 | Train Loss: 0.7363 | Val RMSE: 1.1268, MAE: 0.8830\n"
     ]
    },
    {
     "name": "stderr",
     "output_type": "stream",
     "text": [
      "                                                                                            "
     ]
    },
    {
     "name": "stdout",
     "output_type": "stream",
     "text": [
      "Epoch 10 | Train Loss: 0.6743 | Val RMSE: 1.1448, MAE: 0.8916\n"
     ]
    },
    {
     "name": "stderr",
     "output_type": "stream",
     "text": [
      "                                                                                            "
     ]
    },
    {
     "name": "stdout",
     "output_type": "stream",
     "text": [
      "Epoch 11 | Train Loss: 0.6153 | Val RMSE: 1.1632, MAE: 0.9121\n"
     ]
    },
    {
     "name": "stderr",
     "output_type": "stream",
     "text": [
      "                                                                                           "
     ]
    },
    {
     "name": "stdout",
     "output_type": "stream",
     "text": [
      "Epoch 12 | Train Loss: 0.5594 | Val RMSE: 1.1782, MAE: 0.9209\n"
     ]
    },
    {
     "name": "stderr",
     "output_type": "stream",
     "text": [
      "                                                                                            "
     ]
    },
    {
     "name": "stdout",
     "output_type": "stream",
     "text": [
      "Epoch 13 | Train Loss: 0.5067 | Val RMSE: 1.1942, MAE: 0.9355\n"
     ]
    },
    {
     "name": "stderr",
     "output_type": "stream",
     "text": [
      "                                                                                            "
     ]
    },
    {
     "name": "stdout",
     "output_type": "stream",
     "text": [
      "Epoch 14 | Train Loss: 0.4593 | Val RMSE: 1.2124, MAE: 0.9433\n"
     ]
    },
    {
     "name": "stderr",
     "output_type": "stream",
     "text": [
      "                                                                                            "
     ]
    },
    {
     "name": "stdout",
     "output_type": "stream",
     "text": [
      "Epoch 15 | Train Loss: 0.4147 | Val RMSE: 1.2242, MAE: 0.9573\n",
      "Early stopping triggered for this trial.\n",
      "\n",
      "Loaded best model for trial 8 from temp_neumf_model_trial_8.pt\n",
      "\n",
      "✅ Trial 8 Test Results:\n",
      " - MSE  : 1.1661\n",
      " - RMSE : 1.0799\n",
      " - MAE  : 0.8474\n",
      " - MAPE : 34.32%\n",
      "\n",
      "==================== Trial 9/10 ====================\n",
      "Current Parameters: {'mf_dim': 32, 'mlp_dims': [128, 64, 32], 'learning_rate': 0.002, 'batch_size': 512, 'patience': 10}\n",
      "모델 학습 시작...\n"
     ]
    },
    {
     "name": "stderr",
     "output_type": "stream",
     "text": [
      "                                                                                          "
     ]
    },
    {
     "name": "stdout",
     "output_type": "stream",
     "text": [
      "Epoch 1 | Train Loss: 1.7645 | Val RMSE: 1.1158, MAE: 0.8885\n"
     ]
    },
    {
     "name": "stderr",
     "output_type": "stream",
     "text": [
      "                                                                                          "
     ]
    },
    {
     "name": "stdout",
     "output_type": "stream",
     "text": [
      "Epoch 2 | Train Loss: 1.1463 | Val RMSE: 1.0902, MAE: 0.8654\n"
     ]
    },
    {
     "name": "stderr",
     "output_type": "stream",
     "text": [
      "                                                                                           "
     ]
    },
    {
     "name": "stdout",
     "output_type": "stream",
     "text": [
      "Epoch 3 | Train Loss: 1.0361 | Val RMSE: 1.0815, MAE: 0.8513\n"
     ]
    },
    {
     "name": "stderr",
     "output_type": "stream",
     "text": [
      "                                                                                           "
     ]
    },
    {
     "name": "stdout",
     "output_type": "stream",
     "text": [
      "Epoch 4 | Train Loss: 0.9379 | Val RMSE: 1.0858, MAE: 0.8523\n"
     ]
    },
    {
     "name": "stderr",
     "output_type": "stream",
     "text": [
      "                                                                                           "
     ]
    },
    {
     "name": "stdout",
     "output_type": "stream",
     "text": [
      "Epoch 5 | Train Loss: 0.8395 | Val RMSE: 1.1045, MAE: 0.8616\n"
     ]
    },
    {
     "name": "stderr",
     "output_type": "stream",
     "text": [
      "                                                                                          "
     ]
    },
    {
     "name": "stdout",
     "output_type": "stream",
     "text": [
      "Epoch 6 | Train Loss: 0.7389 | Val RMSE: 1.1299, MAE: 0.8863\n"
     ]
    },
    {
     "name": "stderr",
     "output_type": "stream",
     "text": [
      "                                                                                           "
     ]
    },
    {
     "name": "stdout",
     "output_type": "stream",
     "text": [
      "Epoch 7 | Train Loss: 0.6349 | Val RMSE: 1.1569, MAE: 0.9028\n"
     ]
    },
    {
     "name": "stderr",
     "output_type": "stream",
     "text": [
      "                                                                                           "
     ]
    },
    {
     "name": "stdout",
     "output_type": "stream",
     "text": [
      "Epoch 8 | Train Loss: 0.5368 | Val RMSE: 1.1850, MAE: 0.9308\n"
     ]
    },
    {
     "name": "stderr",
     "output_type": "stream",
     "text": [
      "                                                                                           "
     ]
    },
    {
     "name": "stdout",
     "output_type": "stream",
     "text": [
      "Epoch 9 | Train Loss: 0.4475 | Val RMSE: 1.2168, MAE: 0.9455\n"
     ]
    },
    {
     "name": "stderr",
     "output_type": "stream",
     "text": [
      "                                                                                            "
     ]
    },
    {
     "name": "stdout",
     "output_type": "stream",
     "text": [
      "Epoch 10 | Train Loss: 0.3745 | Val RMSE: 1.2335, MAE: 0.9648\n"
     ]
    },
    {
     "name": "stderr",
     "output_type": "stream",
     "text": [
      "                                                                                            "
     ]
    },
    {
     "name": "stdout",
     "output_type": "stream",
     "text": [
      "Epoch 11 | Train Loss: 0.3135 | Val RMSE: 1.2554, MAE: 0.9845\n"
     ]
    },
    {
     "name": "stderr",
     "output_type": "stream",
     "text": [
      "                                                                                            "
     ]
    },
    {
     "name": "stdout",
     "output_type": "stream",
     "text": [
      "Epoch 12 | Train Loss: 0.2656 | Val RMSE: 1.2746, MAE: 0.9957\n"
     ]
    },
    {
     "name": "stderr",
     "output_type": "stream",
     "text": [
      "                                                                                            "
     ]
    },
    {
     "name": "stdout",
     "output_type": "stream",
     "text": [
      "Epoch 13 | Train Loss: 0.2278 | Val RMSE: 1.2889, MAE: 1.0038\n",
      "Early stopping triggered for this trial.\n",
      "\n",
      "Loaded best model for trial 9 from temp_neumf_model_trial_9.pt\n",
      "\n",
      "✅ Trial 9 Test Results:\n",
      " - MSE  : 1.1620\n",
      " - RMSE : 1.0779\n",
      " - MAE  : 0.8475\n",
      " - MAPE : 34.25%\n",
      "\n",
      "==================== Trial 10/10 ====================\n",
      "Current Parameters: {'mf_dim': 32, 'mlp_dims': [64, 32], 'learning_rate': 0.0005, 'batch_size': 128, 'patience': 10}\n",
      "모델 학습 시작...\n"
     ]
    },
    {
     "name": "stderr",
     "output_type": "stream",
     "text": [
      "                                                                                              "
     ]
    },
    {
     "name": "stdout",
     "output_type": "stream",
     "text": [
      "Epoch 1 | Train Loss: 2.7444 | Val RMSE: 1.1973, MAE: 0.9594\n"
     ]
    },
    {
     "name": "stderr",
     "output_type": "stream",
     "text": [
      "                                                                                              "
     ]
    },
    {
     "name": "stdout",
     "output_type": "stream",
     "text": [
      "Epoch 2 | Train Loss: 1.3296 | Val RMSE: 1.1433, MAE: 0.9144\n"
     ]
    },
    {
     "name": "stderr",
     "output_type": "stream",
     "text": [
      "                                                                                              "
     ]
    },
    {
     "name": "stdout",
     "output_type": "stream",
     "text": [
      "Epoch 3 | Train Loss: 1.2210 | Val RMSE: 1.1185, MAE: 0.8900\n"
     ]
    },
    {
     "name": "stderr",
     "output_type": "stream",
     "text": [
      "                                                                                              "
     ]
    },
    {
     "name": "stdout",
     "output_type": "stream",
     "text": [
      "Epoch 4 | Train Loss: 1.1509 | Val RMSE: 1.1046, MAE: 0.8764\n"
     ]
    },
    {
     "name": "stderr",
     "output_type": "stream",
     "text": [
      "                                                                                              "
     ]
    },
    {
     "name": "stdout",
     "output_type": "stream",
     "text": [
      "Epoch 5 | Train Loss: 1.0916 | Val RMSE: 1.0990, MAE: 0.8659\n"
     ]
    },
    {
     "name": "stderr",
     "output_type": "stream",
     "text": [
      "                                                                                              "
     ]
    },
    {
     "name": "stdout",
     "output_type": "stream",
     "text": [
      "Epoch 6 | Train Loss: 1.0373 | Val RMSE: 1.0975, MAE: 0.8611\n"
     ]
    },
    {
     "name": "stderr",
     "output_type": "stream",
     "text": [
      "                                                                                              "
     ]
    },
    {
     "name": "stdout",
     "output_type": "stream",
     "text": [
      "Epoch 7 | Train Loss: 0.9853 | Val RMSE: 1.0982, MAE: 0.8656\n"
     ]
    },
    {
     "name": "stderr",
     "output_type": "stream",
     "text": [
      "                                                                                              "
     ]
    },
    {
     "name": "stdout",
     "output_type": "stream",
     "text": [
      "Epoch 8 | Train Loss: 0.9355 | Val RMSE: 1.1023, MAE: 0.8679\n"
     ]
    },
    {
     "name": "stderr",
     "output_type": "stream",
     "text": [
      "                                                                                              "
     ]
    },
    {
     "name": "stdout",
     "output_type": "stream",
     "text": [
      "Epoch 9 | Train Loss: 0.8874 | Val RMSE: 1.1104, MAE: 0.8707\n"
     ]
    },
    {
     "name": "stderr",
     "output_type": "stream",
     "text": [
      "                                                                                               "
     ]
    },
    {
     "name": "stdout",
     "output_type": "stream",
     "text": [
      "Epoch 10 | Train Loss: 0.8414 | Val RMSE: 1.1185, MAE: 0.8842\n"
     ]
    },
    {
     "name": "stderr",
     "output_type": "stream",
     "text": [
      "                                                                                               "
     ]
    },
    {
     "name": "stdout",
     "output_type": "stream",
     "text": [
      "Epoch 11 | Train Loss: 0.7965 | Val RMSE: 1.1248, MAE: 0.8862\n"
     ]
    },
    {
     "name": "stderr",
     "output_type": "stream",
     "text": [
      "                                                                                               "
     ]
    },
    {
     "name": "stdout",
     "output_type": "stream",
     "text": [
      "Epoch 12 | Train Loss: 0.7535 | Val RMSE: 1.1346, MAE: 0.8912\n"
     ]
    },
    {
     "name": "stderr",
     "output_type": "stream",
     "text": [
      "                                                                                               "
     ]
    },
    {
     "name": "stdout",
     "output_type": "stream",
     "text": [
      "Epoch 13 | Train Loss: 0.7115 | Val RMSE: 1.1461, MAE: 0.9018\n"
     ]
    },
    {
     "name": "stderr",
     "output_type": "stream",
     "text": [
      "                                                                                               "
     ]
    },
    {
     "name": "stdout",
     "output_type": "stream",
     "text": [
      "Epoch 14 | Train Loss: 0.6709 | Val RMSE: 1.1568, MAE: 0.9086\n"
     ]
    },
    {
     "name": "stderr",
     "output_type": "stream",
     "text": [
      "                                                                                               "
     ]
    },
    {
     "name": "stdout",
     "output_type": "stream",
     "text": [
      "Epoch 15 | Train Loss: 0.6321 | Val RMSE: 1.1658, MAE: 0.9177\n"
     ]
    },
    {
     "name": "stderr",
     "output_type": "stream",
     "text": [
      "                                                                                               "
     ]
    },
    {
     "name": "stdout",
     "output_type": "stream",
     "text": [
      "Epoch 16 | Train Loss: 0.5942 | Val RMSE: 1.1798, MAE: 0.9267\n",
      "Early stopping triggered for this trial.\n",
      "\n",
      "Loaded best model for trial 10 from temp_neumf_model_trial_10.pt\n",
      "\n",
      "✅ Trial 10 Test Results:\n",
      " - MSE  : 1.1948\n",
      " - RMSE : 1.0931\n",
      " - MAE  : 0.8574\n",
      " - MAPE : 35.03%\n",
      "\n",
      "--- Hyperparameter Search Completed ---\n",
      "Overall Best RMSE found: 1.0766\n",
      "Optimal Parameters: {'mf_dim': 32, 'mlp_dims': [64, 32], 'learning_rate': 0.002, 'batch_size': 128, 'patience': 7}\n",
      "Full results logged to 'neumf_hyperparameter_search_results.json'\n",
      "Overall best model weights saved to 'best_overall_neumf_model.pt'\n"
     ]
    }
   ],
   "source": [
    "import pandas as pd\n",
    "import numpy as np\n",
    "from sklearn.model_selection import train_test_split\n",
    "from sklearn.preprocessing import LabelEncoder\n",
    "from sklearn.metrics import mean_squared_error, mean_absolute_error\n",
    "from tqdm import tqdm\n",
    "import torch\n",
    "import torch.nn as nn\n",
    "import torch.optim as optim\n",
    "from torch.utils.data import Dataset, DataLoader\n",
    "import os\n",
    "import random\n",
    "import json\n",
    "import sys\n",
    "\n",
    "# -------------------- Utility Functions --------------------\n",
    "def mean_absolute_percentage_error(y_true, y_pred):\n",
    "    \"\"\"\n",
    "    Calculates MAPE, preventing division by zero.\n",
    "    \"\"\"\n",
    "    y_true = np.array(y_true)\n",
    "    y_pred = np.array(y_pred)\n",
    "    epsilon = 1e-10 # Small epsilon to prevent division by zero\n",
    "    return np.mean(np.abs((y_true - y_pred) / (y_true + epsilon))) * 100\n",
    "\n",
    "# -------------------- Device Setup --------------------\n",
    "device = torch.device(\"cuda\" if torch.cuda.is_available() else \"cpu\")\n",
    "print(f\"Using device: {device}\")\n",
    "\n",
    "# -------------------- Data Loading and Preprocessing --------------------\n",
    "# Reads the 'review_data_optimized.parquet' file.\n",
    "try:\n",
    "    df = pd.read_parquet('review_data_optimized.parquet', engine='pyarrow')\n",
    "    df_processed = df[['user_id', 'business_id', 'stars']].copy()\n",
    "\n",
    "    # Converts user_id and business_id to integers using Label Encoding.\n",
    "    user_encoder = LabelEncoder()\n",
    "    business_encoder = LabelEncoder()\n",
    "    df_processed['user_encoded'] = user_encoder.fit_transform(df_processed['user_id'])\n",
    "    df_processed['business_encoded'] = business_encoder.fit_transform(df_processed['business_id'])\n",
    "\n",
    "    num_users = len(user_encoder.classes_)\n",
    "    num_businesses = len(business_encoder.classes_)\n",
    "\n",
    "    print(\"✅ Data loaded and preprocessed successfully.\")\n",
    "\n",
    "except FileNotFoundError:\n",
    "    print(\"❌ Error: 'review_data_optimized.parquet' not found.\")\n",
    "    sys.exit()\n",
    "\n",
    "# -------------------- Dataset Definition --------------------\n",
    "class NeuMFDataset(Dataset):\n",
    "    def __init__(self, user_ids, item_ids, ratings):\n",
    "        self.user_ids = torch.tensor(user_ids, dtype=torch.long)\n",
    "        self.item_ids = torch.tensor(item_ids, dtype=torch.long)\n",
    "        self.ratings = torch.tensor(ratings, dtype=torch.float)\n",
    "\n",
    "    def __len__(self):\n",
    "        return len(self.ratings)\n",
    "\n",
    "    def __getitem__(self, idx):\n",
    "        return self.user_ids[idx], self.item_ids[idx], self.ratings[idx]\n",
    "\n",
    "# -------------------- Model Definition --------------------\n",
    "class NeuMF(nn.Module):\n",
    "    def __init__(self, num_users, num_items, mf_dim=16, mlp_dims=[64, 32]):\n",
    "        super(NeuMF, self).__init__()\n",
    "        self.user_embedding_gmf = nn.Embedding(num_users, mf_dim)\n",
    "        self.item_embedding_gmf = nn.Embedding(num_items, mf_dim)\n",
    "        \n",
    "        self.user_embedding_mlp = nn.Embedding(num_users, mlp_dims[0] // 2)\n",
    "        self.item_embedding_mlp = nn.Embedding(num_items, mlp_dims[0] // 2)\n",
    "\n",
    "        mlp_layers = []\n",
    "        input_dim = mlp_dims[0]\n",
    "        for dim in mlp_dims[1:]:\n",
    "            mlp_layers.append(nn.Linear(input_dim, dim))\n",
    "            mlp_layers.append(nn.ReLU())\n",
    "            input_dim = dim\n",
    "        self.mlp = nn.Sequential(*mlp_layers)\n",
    "\n",
    "        self.final_layer = nn.Linear(mf_dim + mlp_dims[-1], 1)\n",
    "\n",
    "    def forward(self, user_ids, item_ids):\n",
    "        gmf_user = self.user_embedding_gmf(user_ids)\n",
    "        gmf_item = self.item_embedding_gmf(item_ids)\n",
    "        gmf_output = gmf_user * gmf_item\n",
    "\n",
    "        mlp_user = self.user_embedding_mlp(user_ids)\n",
    "        mlp_item = self.item_embedding_mlp(item_ids)\n",
    "        mlp_input = torch.cat((mlp_user, mlp_item), dim=1)\n",
    "        mlp_output = self.mlp(mlp_input)\n",
    "\n",
    "        concat = torch.cat((gmf_output, mlp_output), dim=1)\n",
    "        prediction = self.final_layer(concat)\n",
    "        return prediction.view(-1)\n",
    "\n",
    "# -------------------- Evaluation Function --------------------\n",
    "def evaluate_model(model, data_loader, device):\n",
    "    model.eval()\n",
    "    preds, targets = [], []\n",
    "    with torch.no_grad():\n",
    "        for user_ids, item_ids, ratings in data_loader:\n",
    "            user_ids, item_ids, ratings = user_ids.to(device), item_ids.to(device), ratings.to(device)\n",
    "            output = model(user_ids, item_ids)\n",
    "            preds.extend(output.cpu().numpy())\n",
    "            targets.extend(ratings.cpu().numpy())\n",
    "    \n",
    "    preds = np.array(preds)\n",
    "    targets = np.array(targets)\n",
    "\n",
    "    mae = mean_absolute_error(targets, preds)\n",
    "    mse = mean_squared_error(targets, preds)\n",
    "    rmse = np.sqrt(mse)\n",
    "    mape = mean_absolute_percentage_error(targets, preds)\n",
    "\n",
    "    return mae, mse, rmse, mape\n",
    "\n",
    "# -------------------- Hyperparameter Search Setup --------------------\n",
    "param_grid = {\n",
    "    'mf_dim': [8, 16, 32],\n",
    "    'mlp_dims': [[64, 32], [128, 64], [128, 64, 32]],\n",
    "    'learning_rate': [0.0005, 0.001, 0.002],\n",
    "    'batch_size': [128, 256, 512],\n",
    "    'patience': [5, 7, 10]\n",
    "}\n",
    "\n",
    "num_trials = 10\n",
    "best_params = None\n",
    "best_rmse = float('inf')\n",
    "results_log = []\n",
    "min_delta = 0.0001\n",
    "epochs = 50\n",
    "DATA_SPLIT_RANDOM_STATE = 42\n",
    "\n",
    "print(f\"\\n--- Starting Randomized Hyperparameter Search with {num_trials} trials ---\")\n",
    "print(f\"Data Split Random State: {DATA_SPLIT_RANDOM_STATE}\")\n",
    "\n",
    "# Perform data splitting ONCE to ensure fair comparison\n",
    "train_val_df, test_df = train_test_split(df_processed, test_size=0.2, random_state=DATA_SPLIT_RANDOM_STATE)\n",
    "val_size_ratio = 1/8\n",
    "train_df, val_df = train_test_split(train_val_df, test_size=val_size_ratio, random_state=DATA_SPLIT_RANDOM_STATE)\n",
    "\n",
    "print(f\"Fixed Data Split: Train={len(train_df)}, Val={len(val_df)}, Test={len(test_df)}\")\n",
    "\n",
    "# Create DataLoader for test set once\n",
    "test_dataset = NeuMFDataset(test_df['user_encoded'].values, test_df['business_encoded'].values, test_df['stars'].values)\n",
    "# Use a reasonable batch size for the test loader, or match the one from the best trial\n",
    "test_loader = DataLoader(test_dataset, batch_size=512, shuffle=False) \n",
    "\n",
    "# --- Randomized Search Loop ---\n",
    "for trial_num in range(num_trials):\n",
    "    print(f\"\\n==================== Trial {trial_num + 1}/{num_trials} ====================\")\n",
    "    \n",
    "    # Randomly select hyperparameters for the current trial\n",
    "    current_params = {k: random.choice(v) for k, v in param_grid.items()}\n",
    "    print(f\"Current Parameters: {current_params}\")\n",
    "    \n",
    "    # Create DataLoaders for the current trial's batch size\n",
    "    train_dataset = NeuMFDataset(train_df['user_encoded'].values, train_df['business_encoded'].values, train_df['stars'].values)\n",
    "    val_dataset = NeuMFDataset(val_df['user_encoded'].values, val_df['business_encoded'].values, val_df['stars'].values)\n",
    "\n",
    "    train_loader = DataLoader(train_dataset, batch_size=current_params['batch_size'], shuffle=True)\n",
    "    val_loader = DataLoader(val_dataset, batch_size=current_params['batch_size'], shuffle=False)\n",
    "\n",
    "    # Initialize model with current trial's parameters\n",
    "    model = NeuMF(num_users, num_businesses, mf_dim=current_params['mf_dim'], mlp_dims=current_params['mlp_dims']).to(device)\n",
    "    optimizer = optim.Adam(model.parameters(), lr=current_params['learning_rate'])\n",
    "    criterion = nn.MSELoss()\n",
    "    \n",
    "    trial_model_save_path = f'temp_neumf_model_trial_{trial_num+1}.pt'\n",
    "    trial_best_val_rmse = float('inf')\n",
    "    epochs_no_improve = 0\n",
    "    patience = current_params['patience']\n",
    "\n",
    "    # --- Training Loop for current trial ---\n",
    "    print(\"모델 학습 시작...\")\n",
    "    for epoch in range(epochs):\n",
    "        model.train()\n",
    "        total_train_loss = 0\n",
    "        train_bar = tqdm(train_loader, desc=f\"[Trial {trial_num+1}, Epoch {epoch+1}] Training\", leave=False)\n",
    "        for user_ids, item_ids, ratings in train_bar:\n",
    "            user_ids, item_ids, ratings = user_ids.to(device), item_ids.to(device), ratings.to(device)\n",
    "            optimizer.zero_grad()\n",
    "            predictions = model(user_ids, item_ids)\n",
    "            loss = criterion(predictions, ratings)\n",
    "            loss.backward()\n",
    "            optimizer.step()\n",
    "            total_train_loss += loss.item()\n",
    "            train_bar.set_postfix(loss=loss.item())\n",
    "\n",
    "        # --- Validation after each epoch ---\n",
    "        val_mae, val_mse, val_rmse, val_mape = evaluate_model(model, val_loader, device)\n",
    "        print(f\"Epoch {epoch+1} | Train Loss: {total_train_loss / len(train_loader):.4f} | \"\n",
    "              f\"Val RMSE: {val_rmse:.4f}, MAE: {val_mae:.4f}\")\n",
    "\n",
    "        # Early stopping logic for this trial\n",
    "        if val_rmse < trial_best_val_rmse - min_delta:\n",
    "            trial_best_val_rmse = val_rmse\n",
    "            epochs_no_improve = 0\n",
    "            torch.save(model.state_dict(), trial_model_save_path)\n",
    "        else:\n",
    "            epochs_no_improve += 1\n",
    "            if epochs_no_improve == patience:\n",
    "                print(\"Early stopping triggered for this trial.\")\n",
    "                break\n",
    "    \n",
    "    # --- Evaluate the best model from this trial on the Test Set ---\n",
    "    if os.path.exists(trial_model_save_path):\n",
    "        model.load_state_dict(torch.load(trial_model_save_path))\n",
    "        print(f\"\\nLoaded best model for trial {trial_num+1} from {trial_model_save_path}\")\n",
    "        test_mae, test_mse, test_rmse, test_mape = evaluate_model(model, test_loader, device)\n",
    "    else:\n",
    "        print(f\"\\nWarning: Best model for trial {trial_num+1} not found. Testing with last model state.\")\n",
    "        test_mae, test_mse, test_rmse, test_mape = evaluate_model(model, test_loader, device)\n",
    "\n",
    "    print(f\"\\n✅ Trial {trial_num+1} Test Results:\")\n",
    "    print(f\" - MSE  : {test_mse:.4f}\")\n",
    "    print(f\" - RMSE : {test_rmse:.4f}\")\n",
    "    print(f\" - MAE  : {test_mae:.4f}\")\n",
    "    print(f\" - MAPE : {test_mape:.2f}%\")\n",
    "\n",
    "    # Store results for this trial\n",
    "    trial_results = {\n",
    "        'trial_num': trial_num + 1,\n",
    "        'parameters': current_params,\n",
    "        'test_mse': float(test_mse),\n",
    "        'test_rmse': float(test_rmse),\n",
    "        'test_mae': float(test_mae),\n",
    "        'test_mape': float(test_mape)\n",
    "    }\n",
    "    results_log.append(trial_results)\n",
    "\n",
    "    # Check if this trial yielded the overall best RMSE\n",
    "    if test_rmse < best_rmse:\n",
    "        best_rmse = test_rmse\n",
    "        best_params = current_params\n",
    "        torch.save(model.state_dict(), 'best_overall_neumf_model.pt')\n",
    "        print(f\"  --> New overall best RMSE found: {best_rmse:.4f} with params: {best_params}\")\n",
    "\n",
    "    # Clean up the temporary model file for this trial\n",
    "    if os.path.exists(trial_model_save_path):\n",
    "        os.remove(trial_model_save_path)\n",
    "\n",
    "# -------------------- Final Results Output --------------------\n",
    "print(f\"\\n--- Hyperparameter Search Completed ---\")\n",
    "print(f\"Overall Best RMSE found: {best_rmse:.4f}\")\n",
    "print(f\"Optimal Parameters: {best_params}\")\n",
    "\n",
    "# Save the full results log to a JSON file\n",
    "with open('neumf_hyperparameter_search_results.json', 'w') as f:\n",
    "    json.dump(results_log, f, indent=4)\n",
    "print(f\"Full results logged to 'neumf_hyperparameter_search_results.json'\")\n",
    "print(f\"Overall best model weights saved to 'best_overall_neumf_model.pt'\")"
   ]
  },
  {
   "cell_type": "code",
   "execution_count": 3,
   "id": "3d962a17-2788-4dac-9c3f-6c798d9ad282",
   "metadata": {},
   "outputs": [
    {
     "name": "stdout",
     "output_type": "stream",
     "text": [
      "✅ 데이터 로딩 및 전처리 완료.\n",
      "\n",
      "==================== 1번째 반복 시작 ====================\n",
      "하이퍼파라미터: MF Dim=32, MLP Dims=[64, 32], LR=0.002, Batch Size=128, Patience=7\n"
     ]
    },
    {
     "name": "stderr",
     "output_type": "stream",
     "text": [
      "                                                                                           "
     ]
    },
    {
     "name": "stdout",
     "output_type": "stream",
     "text": [
      "Epoch 1 | Train Loss: 1.6381 | Val RMSE: 1.1074\n",
      "  --> 개선됨. 모델 저장됨 (RMSE: 1.1074)\n"
     ]
    },
    {
     "name": "stderr",
     "output_type": "stream",
     "text": [
      "                                                                                           "
     ]
    },
    {
     "name": "stdout",
     "output_type": "stream",
     "text": [
      "Epoch 2 | Train Loss: 1.1352 | Val RMSE: 1.0801\n",
      "  --> 개선됨. 모델 저장됨 (RMSE: 1.0801)\n"
     ]
    },
    {
     "name": "stderr",
     "output_type": "stream",
     "text": [
      "                                                                                           "
     ]
    },
    {
     "name": "stdout",
     "output_type": "stream",
     "text": [
      "Epoch 3 | Train Loss: 1.0164 | Val RMSE: 1.0776\n",
      "  --> 개선됨. 모델 저장됨 (RMSE: 1.0776)\n"
     ]
    },
    {
     "name": "stderr",
     "output_type": "stream",
     "text": [
      "                                                                                           "
     ]
    },
    {
     "name": "stdout",
     "output_type": "stream",
     "text": [
      "Epoch 4 | Train Loss: 0.9021 | Val RMSE: 1.0947\n"
     ]
    },
    {
     "name": "stderr",
     "output_type": "stream",
     "text": [
      "                                                                                           "
     ]
    },
    {
     "name": "stdout",
     "output_type": "stream",
     "text": [
      "Epoch 5 | Train Loss: 0.7773 | Val RMSE: 1.1221\n"
     ]
    },
    {
     "name": "stderr",
     "output_type": "stream",
     "text": [
      "                                                                                           "
     ]
    },
    {
     "name": "stdout",
     "output_type": "stream",
     "text": [
      "Epoch 6 | Train Loss: 0.6495 | Val RMSE: 1.1526\n"
     ]
    },
    {
     "name": "stderr",
     "output_type": "stream",
     "text": [
      "                                                                                           "
     ]
    },
    {
     "name": "stdout",
     "output_type": "stream",
     "text": [
      "Epoch 7 | Train Loss: 0.5318 | Val RMSE: 1.1885\n"
     ]
    },
    {
     "name": "stderr",
     "output_type": "stream",
     "text": [
      "                                                                                           "
     ]
    },
    {
     "name": "stdout",
     "output_type": "stream",
     "text": [
      "Epoch 8 | Train Loss: 0.4303 | Val RMSE: 1.2196\n"
     ]
    },
    {
     "name": "stderr",
     "output_type": "stream",
     "text": [
      "                                                                                           "
     ]
    },
    {
     "name": "stdout",
     "output_type": "stream",
     "text": [
      "Epoch 9 | Train Loss: 0.3489 | Val RMSE: 1.2515\n"
     ]
    },
    {
     "name": "stderr",
     "output_type": "stream",
     "text": [
      "                                                                                            "
     ]
    },
    {
     "name": "stdout",
     "output_type": "stream",
     "text": [
      "Epoch 10 | Train Loss: 0.2867 | Val RMSE: 1.2648\n",
      "조기 종료 발생. (Run 1)\n",
      "최적 모델 로드 완료: best_neumf_model_run_1.pt\n",
      "\n",
      "✅ [NeuMF] 1번째 테스트 결과:\n",
      " - MSE  : 1.1561\n",
      " - RMSE : 1.0752\n",
      " - MAE  : 0.8497\n",
      " - MAPE : 33.70%\n",
      "임시 모델 파일 삭제: best_neumf_model_run_1.pt\n",
      "\n",
      "==================== 2번째 반복 시작 ====================\n",
      "하이퍼파라미터: MF Dim=32, MLP Dims=[64, 32], LR=0.002, Batch Size=128, Patience=7\n"
     ]
    },
    {
     "name": "stderr",
     "output_type": "stream",
     "text": [
      "                                                                                           "
     ]
    },
    {
     "name": "stdout",
     "output_type": "stream",
     "text": [
      "Epoch 1 | Train Loss: 1.5897 | Val RMSE: 1.1073\n",
      "  --> 개선됨. 모델 저장됨 (RMSE: 1.1073)\n"
     ]
    },
    {
     "name": "stderr",
     "output_type": "stream",
     "text": [
      "                                                                                          "
     ]
    },
    {
     "name": "stdout",
     "output_type": "stream",
     "text": [
      "Epoch 2 | Train Loss: 1.1318 | Val RMSE: 1.0796\n",
      "  --> 개선됨. 모델 저장됨 (RMSE: 1.0796)\n"
     ]
    },
    {
     "name": "stderr",
     "output_type": "stream",
     "text": [
      "                                                                                          "
     ]
    },
    {
     "name": "stdout",
     "output_type": "stream",
     "text": [
      "Epoch 3 | Train Loss: 1.0101 | Val RMSE: 1.0779\n",
      "  --> 개선됨. 모델 저장됨 (RMSE: 1.0779)\n"
     ]
    },
    {
     "name": "stderr",
     "output_type": "stream",
     "text": [
      "                                                                                          "
     ]
    },
    {
     "name": "stdout",
     "output_type": "stream",
     "text": [
      "Epoch 4 | Train Loss: 0.8943 | Val RMSE: 1.0910\n"
     ]
    },
    {
     "name": "stderr",
     "output_type": "stream",
     "text": [
      "                                                                                          "
     ]
    },
    {
     "name": "stdout",
     "output_type": "stream",
     "text": [
      "Epoch 5 | Train Loss: 0.7682 | Val RMSE: 1.1190\n"
     ]
    },
    {
     "name": "stderr",
     "output_type": "stream",
     "text": [
      "                                                                                          "
     ]
    },
    {
     "name": "stdout",
     "output_type": "stream",
     "text": [
      "Epoch 6 | Train Loss: 0.6384 | Val RMSE: 1.1526\n"
     ]
    },
    {
     "name": "stderr",
     "output_type": "stream",
     "text": [
      "                                                                                           "
     ]
    },
    {
     "name": "stdout",
     "output_type": "stream",
     "text": [
      "Epoch 7 | Train Loss: 0.5185 | Val RMSE: 1.1912\n"
     ]
    },
    {
     "name": "stderr",
     "output_type": "stream",
     "text": [
      "                                                                                           "
     ]
    },
    {
     "name": "stdout",
     "output_type": "stream",
     "text": [
      "Epoch 8 | Train Loss: 0.4179 | Val RMSE: 1.2208\n"
     ]
    },
    {
     "name": "stderr",
     "output_type": "stream",
     "text": [
      "                                                                                           "
     ]
    },
    {
     "name": "stdout",
     "output_type": "stream",
     "text": [
      "Epoch 9 | Train Loss: 0.3381 | Val RMSE: 1.2543\n"
     ]
    },
    {
     "name": "stderr",
     "output_type": "stream",
     "text": [
      "                                                                                            "
     ]
    },
    {
     "name": "stdout",
     "output_type": "stream",
     "text": [
      "Epoch 10 | Train Loss: 0.2772 | Val RMSE: 1.2751\n",
      "조기 종료 발생. (Run 2)\n",
      "최적 모델 로드 완료: best_neumf_model_run_2.pt\n",
      "\n",
      "✅ [NeuMF] 2번째 테스트 결과:\n",
      " - MSE  : 1.1673\n",
      " - RMSE : 1.0804\n",
      " - MAE  : 0.8591\n",
      " - MAPE : 33.83%\n",
      "임시 모델 파일 삭제: best_neumf_model_run_2.pt\n",
      "\n",
      "==================== 3번째 반복 시작 ====================\n",
      "하이퍼파라미터: MF Dim=32, MLP Dims=[64, 32], LR=0.002, Batch Size=128, Patience=7\n"
     ]
    },
    {
     "name": "stderr",
     "output_type": "stream",
     "text": [
      "                                                                                           "
     ]
    },
    {
     "name": "stdout",
     "output_type": "stream",
     "text": [
      "Epoch 1 | Train Loss: 1.6624 | Val RMSE: 1.1104\n",
      "  --> 개선됨. 모델 저장됨 (RMSE: 1.1104)\n"
     ]
    },
    {
     "name": "stderr",
     "output_type": "stream",
     "text": [
      "                                                                                           "
     ]
    },
    {
     "name": "stdout",
     "output_type": "stream",
     "text": [
      "Epoch 2 | Train Loss: 1.1331 | Val RMSE: 1.0862\n",
      "  --> 개선됨. 모델 저장됨 (RMSE: 1.0862)\n"
     ]
    },
    {
     "name": "stderr",
     "output_type": "stream",
     "text": [
      "                                                                                           "
     ]
    },
    {
     "name": "stdout",
     "output_type": "stream",
     "text": [
      "Epoch 3 | Train Loss: 1.0115 | Val RMSE: 1.0817\n",
      "  --> 개선됨. 모델 저장됨 (RMSE: 1.0817)\n"
     ]
    },
    {
     "name": "stderr",
     "output_type": "stream",
     "text": [
      "                                                                                           "
     ]
    },
    {
     "name": "stdout",
     "output_type": "stream",
     "text": [
      "Epoch 4 | Train Loss: 0.8898 | Val RMSE: 1.0960\n"
     ]
    },
    {
     "name": "stderr",
     "output_type": "stream",
     "text": [
      "                                                                                           "
     ]
    },
    {
     "name": "stdout",
     "output_type": "stream",
     "text": [
      "Epoch 5 | Train Loss: 0.7620 | Val RMSE: 1.1304\n"
     ]
    },
    {
     "name": "stderr",
     "output_type": "stream",
     "text": [
      "                                                                                           "
     ]
    },
    {
     "name": "stdout",
     "output_type": "stream",
     "text": [
      "Epoch 6 | Train Loss: 0.6313 | Val RMSE: 1.1528\n"
     ]
    },
    {
     "name": "stderr",
     "output_type": "stream",
     "text": [
      "                                                                                           "
     ]
    },
    {
     "name": "stdout",
     "output_type": "stream",
     "text": [
      "Epoch 7 | Train Loss: 0.5137 | Val RMSE: 1.1932\n"
     ]
    },
    {
     "name": "stderr",
     "output_type": "stream",
     "text": [
      "                                                                                           "
     ]
    },
    {
     "name": "stdout",
     "output_type": "stream",
     "text": [
      "Epoch 8 | Train Loss: 0.4146 | Val RMSE: 1.2196\n"
     ]
    },
    {
     "name": "stderr",
     "output_type": "stream",
     "text": [
      "                                                                                           "
     ]
    },
    {
     "name": "stdout",
     "output_type": "stream",
     "text": [
      "Epoch 9 | Train Loss: 0.3359 | Val RMSE: 1.2556\n"
     ]
    },
    {
     "name": "stderr",
     "output_type": "stream",
     "text": [
      "                                                                                            "
     ]
    },
    {
     "name": "stdout",
     "output_type": "stream",
     "text": [
      "Epoch 10 | Train Loss: 0.2750 | Val RMSE: 1.2751\n",
      "조기 종료 발생. (Run 3)\n",
      "최적 모델 로드 완료: best_neumf_model_run_3.pt\n",
      "\n",
      "✅ [NeuMF] 3번째 테스트 결과:\n",
      " - MSE  : 1.1667\n",
      " - RMSE : 1.0801\n",
      " - MAE  : 0.8480\n",
      " - MAPE : 34.21%\n",
      "임시 모델 파일 삭제: best_neumf_model_run_3.pt\n",
      "\n",
      "==================== 4번째 반복 시작 ====================\n",
      "하이퍼파라미터: MF Dim=32, MLP Dims=[64, 32], LR=0.002, Batch Size=128, Patience=7\n"
     ]
    },
    {
     "name": "stderr",
     "output_type": "stream",
     "text": [
      "                                                                                           "
     ]
    },
    {
     "name": "stdout",
     "output_type": "stream",
     "text": [
      "Epoch 1 | Train Loss: 1.6660 | Val RMSE: 1.1132\n",
      "  --> 개선됨. 모델 저장됨 (RMSE: 1.1132)\n"
     ]
    },
    {
     "name": "stderr",
     "output_type": "stream",
     "text": [
      "                                                                                           "
     ]
    },
    {
     "name": "stdout",
     "output_type": "stream",
     "text": [
      "Epoch 2 | Train Loss: 1.1308 | Val RMSE: 1.0881\n",
      "  --> 개선됨. 모델 저장됨 (RMSE: 1.0881)\n"
     ]
    },
    {
     "name": "stderr",
     "output_type": "stream",
     "text": [
      "                                                                                           "
     ]
    },
    {
     "name": "stdout",
     "output_type": "stream",
     "text": [
      "Epoch 3 | Train Loss: 1.0044 | Val RMSE: 1.0830\n",
      "  --> 개선됨. 모델 저장됨 (RMSE: 1.0830)\n"
     ]
    },
    {
     "name": "stderr",
     "output_type": "stream",
     "text": [
      "                                                                                           "
     ]
    },
    {
     "name": "stdout",
     "output_type": "stream",
     "text": [
      "Epoch 4 | Train Loss: 0.8829 | Val RMSE: 1.1002\n"
     ]
    },
    {
     "name": "stderr",
     "output_type": "stream",
     "text": [
      "                                                                                           "
     ]
    },
    {
     "name": "stdout",
     "output_type": "stream",
     "text": [
      "Epoch 5 | Train Loss: 0.7559 | Val RMSE: 1.1237\n"
     ]
    },
    {
     "name": "stderr",
     "output_type": "stream",
     "text": [
      "                                                                                           "
     ]
    },
    {
     "name": "stdout",
     "output_type": "stream",
     "text": [
      "Epoch 6 | Train Loss: 0.6291 | Val RMSE: 1.1538\n"
     ]
    },
    {
     "name": "stderr",
     "output_type": "stream",
     "text": [
      "                                                                                           "
     ]
    },
    {
     "name": "stdout",
     "output_type": "stream",
     "text": [
      "Epoch 7 | Train Loss: 0.5119 | Val RMSE: 1.1916\n"
     ]
    },
    {
     "name": "stderr",
     "output_type": "stream",
     "text": [
      "                                                                                           "
     ]
    },
    {
     "name": "stdout",
     "output_type": "stream",
     "text": [
      "Epoch 8 | Train Loss: 0.4134 | Val RMSE: 1.2245\n"
     ]
    },
    {
     "name": "stderr",
     "output_type": "stream",
     "text": [
      "                                                                                           "
     ]
    },
    {
     "name": "stdout",
     "output_type": "stream",
     "text": [
      "Epoch 9 | Train Loss: 0.3353 | Val RMSE: 1.2411\n"
     ]
    },
    {
     "name": "stderr",
     "output_type": "stream",
     "text": [
      "                                                                                            "
     ]
    },
    {
     "name": "stdout",
     "output_type": "stream",
     "text": [
      "Epoch 10 | Train Loss: 0.2754 | Val RMSE: 1.2649\n",
      "조기 종료 발생. (Run 4)\n",
      "최적 모델 로드 완료: best_neumf_model_run_4.pt\n",
      "\n",
      "✅ [NeuMF] 4번째 테스트 결과:\n",
      " - MSE  : 1.1770\n",
      " - RMSE : 1.0849\n",
      " - MAE  : 0.8528\n",
      " - MAPE : 34.42%\n",
      "임시 모델 파일 삭제: best_neumf_model_run_4.pt\n",
      "\n",
      "==================== 5번째 반복 시작 ====================\n",
      "하이퍼파라미터: MF Dim=32, MLP Dims=[64, 32], LR=0.002, Batch Size=128, Patience=7\n"
     ]
    },
    {
     "name": "stderr",
     "output_type": "stream",
     "text": [
      "                                                                                           "
     ]
    },
    {
     "name": "stdout",
     "output_type": "stream",
     "text": [
      "Epoch 1 | Train Loss: 1.6038 | Val RMSE: 1.1105\n",
      "  --> 개선됨. 모델 저장됨 (RMSE: 1.1105)\n"
     ]
    },
    {
     "name": "stderr",
     "output_type": "stream",
     "text": [
      "                                                                                           "
     ]
    },
    {
     "name": "stdout",
     "output_type": "stream",
     "text": [
      "Epoch 2 | Train Loss: 1.1346 | Val RMSE: 1.0822\n",
      "  --> 개선됨. 모델 저장됨 (RMSE: 1.0822)\n"
     ]
    },
    {
     "name": "stderr",
     "output_type": "stream",
     "text": [
      "                                                                                           "
     ]
    },
    {
     "name": "stdout",
     "output_type": "stream",
     "text": [
      "Epoch 3 | Train Loss: 1.0085 | Val RMSE: 1.0776\n",
      "  --> 개선됨. 모델 저장됨 (RMSE: 1.0776)\n"
     ]
    },
    {
     "name": "stderr",
     "output_type": "stream",
     "text": [
      "                                                                                           "
     ]
    },
    {
     "name": "stdout",
     "output_type": "stream",
     "text": [
      "Epoch 4 | Train Loss: 0.8836 | Val RMSE: 1.0914\n"
     ]
    },
    {
     "name": "stderr",
     "output_type": "stream",
     "text": [
      "                                                                                           "
     ]
    },
    {
     "name": "stdout",
     "output_type": "stream",
     "text": [
      "Epoch 5 | Train Loss: 0.7477 | Val RMSE: 1.1239\n"
     ]
    },
    {
     "name": "stderr",
     "output_type": "stream",
     "text": [
      "                                                                                           "
     ]
    },
    {
     "name": "stdout",
     "output_type": "stream",
     "text": [
      "Epoch 6 | Train Loss: 0.6151 | Val RMSE: 1.1652\n"
     ]
    },
    {
     "name": "stderr",
     "output_type": "stream",
     "text": [
      "                                                                                           "
     ]
    },
    {
     "name": "stdout",
     "output_type": "stream",
     "text": [
      "Epoch 7 | Train Loss: 0.4960 | Val RMSE: 1.1917\n"
     ]
    },
    {
     "name": "stderr",
     "output_type": "stream",
     "text": [
      "                                                                                           "
     ]
    },
    {
     "name": "stdout",
     "output_type": "stream",
     "text": [
      "Epoch 8 | Train Loss: 0.3995 | Val RMSE: 1.2180\n"
     ]
    },
    {
     "name": "stderr",
     "output_type": "stream",
     "text": [
      "                                                                                           "
     ]
    },
    {
     "name": "stdout",
     "output_type": "stream",
     "text": [
      "Epoch 9 | Train Loss: 0.3229 | Val RMSE: 1.2455\n"
     ]
    },
    {
     "name": "stderr",
     "output_type": "stream",
     "text": [
      "                                                                                            "
     ]
    },
    {
     "name": "stdout",
     "output_type": "stream",
     "text": [
      "Epoch 10 | Train Loss: 0.2659 | Val RMSE: 1.2652\n",
      "조기 종료 발생. (Run 5)\n",
      "최적 모델 로드 완료: best_neumf_model_run_5.pt\n",
      "\n",
      "✅ [NeuMF] 5번째 테스트 결과:\n",
      " - MSE  : 1.1677\n",
      " - RMSE : 1.0806\n",
      " - MAE  : 0.8544\n",
      " - MAPE : 34.10%\n",
      "임시 모델 파일 삭제: best_neumf_model_run_5.pt\n",
      "\n",
      "\n",
      "==================== 5회 반복 최종 평균 결과 ====================\n",
      " - 평균 MSE  : 1.1669\n",
      " - 평균 RMSE : 1.0802\n",
      " - 평균 MAE  : 0.8528\n",
      " - 평균 MAPE : 34.05%\n"
     ]
    }
   ],
   "source": [
    "import pandas as pd\n",
    "import numpy as np\n",
    "from sklearn.model_selection import train_test_split\n",
    "from sklearn.preprocessing import LabelEncoder\n",
    "from sklearn.metrics import mean_squared_error, mean_absolute_error\n",
    "from tqdm import tqdm\n",
    "import torch\n",
    "import torch.nn as nn\n",
    "import torch.optim as optim\n",
    "from torch.utils.data import Dataset, DataLoader\n",
    "import os\n",
    "import sys\n",
    "\n",
    "# -------------------- 데이터 로딩 및 전처리 --------------------\n",
    "# 'review_data_optimized.parquet' 파일을 읽어옵니다.\n",
    "try:\n",
    "    df = pd.read_parquet('review_data_optimized.parquet', engine='pyarrow')\n",
    "    df_processed = df[['user_id', 'business_id', 'stars']].copy()\n",
    "\n",
    "    # Label Encoding을 사용하여 user_id와 business_id를 정수형으로 변환합니다.\n",
    "    user_encoder = LabelEncoder()\n",
    "    business_encoder = LabelEncoder()\n",
    "    df_processed['user_encoded'] = user_encoder.fit_transform(df_processed['user_id'])\n",
    "    df_processed['business_encoded'] = business_encoder.fit_transform(df_processed['business_id'])\n",
    "\n",
    "    num_users = len(user_encoder.classes_)\n",
    "    num_businesses = len(business_encoder.classes_)\n",
    "    print(\"✅ 데이터 로딩 및 전처리 완료.\")\n",
    "\n",
    "except FileNotFoundError:\n",
    "    print(\"❌ Error: 'review_data_optimized.parquet' 파일이 존재하지 않습니다.\")\n",
    "    sys.exit()\n",
    "\n",
    "# -------------------- Dataset 정의 --------------------\n",
    "class NeuMFDataset(Dataset):\n",
    "    def __init__(self, df):\n",
    "        self.user_ids = torch.tensor(df['user_encoded'].values, dtype=torch.long)\n",
    "        self.item_ids = torch.tensor(df['business_encoded'].values, dtype=torch.long)\n",
    "        self.ratings = torch.tensor(df['stars'].values, dtype=torch.float)\n",
    "\n",
    "    def __len__(self):\n",
    "        return len(self.ratings)\n",
    "\n",
    "    def __getitem__(self, idx):\n",
    "        return self.user_ids[idx], self.item_ids[idx], self.ratings[idx]\n",
    "\n",
    "# -------------------- 모델 정의 (최적 하이퍼파라미터 적용) --------------------\n",
    "class NeuMF(nn.Module):\n",
    "    def __init__(self, num_users, num_items, mf_dim=32, mlp_dims=[64, 32]):\n",
    "        super(NeuMF, self).__init__()\n",
    "        self.user_embedding_gmf = nn.Embedding(num_users, mf_dim)\n",
    "        self.item_embedding_gmf = nn.Embedding(num_items, mf_dim)\n",
    "        \n",
    "        # mlp_dims[0] 값에 따라 입력 차원 조정\n",
    "        self.user_embedding_mlp = nn.Embedding(num_users, mlp_dims[0] // 2)\n",
    "        self.item_embedding_mlp = nn.Embedding(num_items, mlp_dims[0] // 2)\n",
    "\n",
    "        mlp_layers = []\n",
    "        input_dim = mlp_dims[0]\n",
    "        for dim in mlp_dims[1:]:\n",
    "            mlp_layers.append(nn.Linear(input_dim, dim))\n",
    "            mlp_layers.append(nn.ReLU())\n",
    "            input_dim = dim\n",
    "        self.mlp = nn.Sequential(*mlp_layers)\n",
    "\n",
    "        self.final_layer = nn.Linear(mf_dim + mlp_dims[-1], 1)\n",
    "\n",
    "    def forward(self, user_ids, item_ids):\n",
    "        gmf_user = self.user_embedding_gmf(user_ids)\n",
    "        gmf_item = self.item_embedding_gmf(item_ids)\n",
    "        gmf_output = gmf_user * gmf_item\n",
    "\n",
    "        mlp_user = self.user_embedding_mlp(user_ids)\n",
    "        mlp_item = self.item_embedding_mlp(item_ids)\n",
    "        mlp_input = torch.cat((mlp_user, mlp_item), dim=1)\n",
    "        mlp_output = self.mlp(mlp_input)\n",
    "\n",
    "        concat = torch.cat((gmf_output, mlp_output), dim=1)\n",
    "        prediction = self.final_layer(concat)\n",
    "        return prediction.view(-1)\n",
    "\n",
    "# -------------------- 평가 지표 함수 정의 --------------------\n",
    "def mean_absolute_percentage_error(y_true, y_pred):\n",
    "    y_true = np.array(y_true)\n",
    "    y_pred = np.array(y_pred)\n",
    "    epsilon = 1e-10\n",
    "    return np.mean(np.abs((y_true - y_pred) / (y_true + epsilon))) * 100\n",
    "\n",
    "# -------------------- 5회 반복 학습 및 평가 (최적 하이퍼파라미터 적용) --------------------\n",
    "num_runs = 5\n",
    "mse_list, rmse_list, mae_list, mape_list = [], [], [], []\n",
    "device = torch.device('cuda' if torch.cuda.is_available() else 'cpu')\n",
    "\n",
    "# 최적의 하이퍼파라미터\n",
    "mf_dim = 32\n",
    "mlp_dims = [64, 32]\n",
    "learning_rate = 0.002\n",
    "batch_size = 128\n",
    "patience = 7\n",
    "min_delta = 0.0001\n",
    "epochs = 50\n",
    "\n",
    "for i in range(num_runs):\n",
    "    print(f\"\\n==================== {i+1}번째 반복 시작 ====================\")\n",
    "    print(f\"하이퍼파라미터: MF Dim={mf_dim}, MLP Dims={mlp_dims}, LR={learning_rate}, Batch Size={batch_size}, Patience={patience}\")\n",
    "\n",
    "    # 매 반복마다 데이터셋을 무작위로 분할하여 독립적인 테스트를 보장합니다.\n",
    "    random_state = 42 + i\n",
    "    train_val_df, test_df = train_test_split(df_processed, test_size=0.2, random_state=random_state)\n",
    "    val_size_ratio = 1 / 8\n",
    "    train_df, val_df = train_test_split(train_val_df, test_size=val_size_ratio, random_state=random_state)\n",
    "\n",
    "    train_dataset = NeuMFDataset(train_df)\n",
    "    val_dataset = NeuMFDataset(val_df)\n",
    "    test_dataset = NeuMFDataset(test_df)\n",
    "\n",
    "    train_loader = DataLoader(train_dataset, batch_size=batch_size, shuffle=True)\n",
    "    val_loader = DataLoader(val_dataset, batch_size=batch_size, shuffle=False)\n",
    "    test_loader = DataLoader(test_dataset, batch_size=batch_size, shuffle=False)\n",
    "\n",
    "    # 모델, 손실 함수, 옵티마이저는 매번 새로 초기화합니다.\n",
    "    model = NeuMF(num_users, num_businesses, mf_dim=mf_dim, mlp_dims=mlp_dims).to(device)\n",
    "    criterion = nn.MSELoss()\n",
    "    optimizer = optim.Adam(model.parameters(), lr=learning_rate)\n",
    "    model_path = f'best_neumf_model_run_{i+1}.pt'\n",
    "\n",
    "    best_val_rmse = float('inf')\n",
    "    epochs_no_improve = 0\n",
    "\n",
    "    # 학습 루프\n",
    "    for epoch in range(epochs):\n",
    "        model.train()\n",
    "        total_train_loss = 0\n",
    "        train_bar = tqdm(train_loader, desc=f\"[Run {i+1}, Epoch {epoch+1}] Training\", leave=False)\n",
    "        for user_ids, item_ids, ratings in train_bar:\n",
    "            user_ids, item_ids, ratings = user_ids.to(device), item_ids.to(device), ratings.to(device)\n",
    "            optimizer.zero_grad()\n",
    "            predictions = model(user_ids, item_ids)\n",
    "            loss = criterion(predictions, ratings)\n",
    "            loss.backward()\n",
    "            optimizer.step()\n",
    "            total_train_loss += loss.item()\n",
    "            train_bar.set_postfix(loss=loss.item())\n",
    "\n",
    "        model.eval()\n",
    "        val_predictions, val_true = [], []\n",
    "        with torch.no_grad():\n",
    "            for user_ids, item_ids, ratings in val_loader:\n",
    "                user_ids, item_ids, ratings = user_ids.to(device), item_ids.to(device), ratings.to(device)\n",
    "                preds = model(user_ids, item_ids)\n",
    "                val_predictions.extend(preds.tolist())\n",
    "                val_true.extend(ratings.tolist())\n",
    "\n",
    "        val_rmse = np.sqrt(mean_squared_error(val_true, val_predictions))\n",
    "\n",
    "        print(f\"Epoch {epoch+1} | Train Loss: {total_train_loss / len(train_loader):.4f} | Val RMSE: {val_rmse:.4f}\")\n",
    "\n",
    "        # 조기 종료 (Early Stopping) 로직\n",
    "        if val_rmse < best_val_rmse - min_delta:\n",
    "            best_val_rmse = val_rmse\n",
    "            epochs_no_improve = 0\n",
    "            torch.save(model.state_dict(), model_path)\n",
    "            print(f\"  --> 개선됨. 모델 저장됨 (RMSE: {best_val_rmse:.4f})\")\n",
    "        else:\n",
    "            epochs_no_improve += 1\n",
    "            if epochs_no_improve == patience:\n",
    "                print(f\"조기 종료 발생. (Run {i+1})\")\n",
    "                break\n",
    "\n",
    "    # 테스트 루프\n",
    "    if os.path.exists(model_path):\n",
    "        model.load_state_dict(torch.load(model_path))\n",
    "        print(f\"최적 모델 로드 완료: {model_path}\")\n",
    "    else:\n",
    "        print(f\"최적 모델을 찾지 못해 현재 모델을 사용합니다. (Run {i+1})\")\n",
    "\n",
    "    model.eval()\n",
    "    test_preds, test_true = [], []\n",
    "    with torch.no_grad():\n",
    "        for user_ids, item_ids, ratings in test_loader:\n",
    "            user_ids, item_ids, ratings = user_ids.to(device), item_ids.to(device), ratings.to(device)\n",
    "            preds = model(user_ids, item_ids)\n",
    "            test_preds.extend(preds.tolist())\n",
    "            test_true.extend(ratings.tolist())\n",
    "\n",
    "    test_mse = mean_squared_error(test_true, test_preds)\n",
    "    test_rmse = np.sqrt(test_mse)\n",
    "    test_mae = mean_absolute_error(test_true, test_preds)\n",
    "    test_mape = mean_absolute_percentage_error(test_true, test_preds)\n",
    "\n",
    "    print(f\"\\n✅ [NeuMF] {i+1}번째 테스트 결과:\")\n",
    "    print(f\" - MSE  : {test_mse:.4f}\")\n",
    "    print(f\" - RMSE : {test_rmse:.4f}\")\n",
    "    print(f\" - MAE  : {test_mae:.4f}\")\n",
    "    print(f\" - MAPE : {test_mape:.2f}%\")\n",
    "\n",
    "    mse_list.append(test_mse)\n",
    "    rmse_list.append(test_rmse)\n",
    "    mae_list.append(test_mae)\n",
    "    mape_list.append(test_mape)\n",
    "    \n",
    "    # 임시 모델 파일 삭제\n",
    "    if os.path.exists(model_path):\n",
    "        os.remove(model_path)\n",
    "        print(f\"임시 모델 파일 삭제: {model_path}\")\n",
    "\n",
    "# 최종 평균 계산 및 출력\n",
    "avg_mse = np.mean(mse_list)\n",
    "avg_rmse = np.mean(rmse_list)\n",
    "avg_mae = np.mean(mae_list)\n",
    "avg_mape = np.mean(mape_list)\n",
    "\n",
    "print(\"\\n\\n==================== 5회 반복 최종 평균 결과 ====================\")\n",
    "print(f\" - 평균 MSE  : {avg_mse:.4f}\")\n",
    "print(f\" - 평균 RMSE : {avg_rmse:.4f}\")\n",
    "print(f\" - 평균 MAE  : {avg_mae:.4f}\")\n",
    "print(f\" - 평균 MAPE : {avg_mape:.2f}%\")"
   ]
  },
  {
   "cell_type": "code",
   "execution_count": null,
   "id": "3a1aa7f0-dde1-4659-a995-2945605c00fe",
   "metadata": {},
   "outputs": [],
   "source": []
  }
 ],
 "metadata": {
  "kernelspec": {
   "display_name": "Python 3 (ipykernel)",
   "language": "python",
   "name": "python3"
  },
  "language_info": {
   "codemirror_mode": {
    "name": "ipython",
    "version": 3
   },
   "file_extension": ".py",
   "mimetype": "text/x-python",
   "name": "python",
   "nbconvert_exporter": "python",
   "pygments_lexer": "ipython3",
   "version": "3.12.3"
  }
 },
 "nbformat": 4,
 "nbformat_minor": 5
}
