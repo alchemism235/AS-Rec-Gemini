{
 "cells": [
  {
   "cell_type": "code",
   "execution_count": 1,
   "id": "3d962a17-2788-4dac-9c3f-6c798d9ad282",
   "metadata": {},
   "outputs": [
    {
     "name": "stdout",
     "output_type": "stream",
     "text": [
      "\n",
      "==================== 1번째 반복 시작 ====================\n"
     ]
    },
    {
     "name": "stderr",
     "output_type": "stream",
     "text": [
      "                                                                                           "
     ]
    },
    {
     "name": "stdout",
     "output_type": "stream",
     "text": [
      "조기 종료 발생. (Run 1)\n",
      "최적 모델 로드 완료: best_neumf_model_run_1.pt\n"
     ]
    },
    {
     "name": "stderr",
     "output_type": "stream",
     "text": [
      "                                                                   "
     ]
    },
    {
     "name": "stdout",
     "output_type": "stream",
     "text": [
      "\n",
      "✅ [NeuMF] 1번째 테스트 결과:\n",
      " - MSE  : 1.1683\n",
      " - RMSE : 1.0809\n",
      " - MAE  : 0.8567\n",
      " - MAPE : 34.13%\n",
      "\n",
      "==================== 2번째 반복 시작 ====================\n"
     ]
    },
    {
     "name": "stderr",
     "output_type": "stream",
     "text": [
      "                                                                                           "
     ]
    },
    {
     "name": "stdout",
     "output_type": "stream",
     "text": [
      "조기 종료 발생. (Run 2)\n",
      "최적 모델 로드 완료: best_neumf_model_run_2.pt\n"
     ]
    },
    {
     "name": "stderr",
     "output_type": "stream",
     "text": [
      "                                                                   "
     ]
    },
    {
     "name": "stdout",
     "output_type": "stream",
     "text": [
      "\n",
      "✅ [NeuMF] 2번째 테스트 결과:\n",
      " - MSE  : 1.1710\n",
      " - RMSE : 1.0822\n",
      " - MAE  : 0.8525\n",
      " - MAPE : 34.54%\n",
      "\n",
      "==================== 3번째 반복 시작 ====================\n"
     ]
    },
    {
     "name": "stderr",
     "output_type": "stream",
     "text": [
      "                                                                                           "
     ]
    },
    {
     "name": "stdout",
     "output_type": "stream",
     "text": [
      "조기 종료 발생. (Run 3)\n",
      "최적 모델 로드 완료: best_neumf_model_run_3.pt\n"
     ]
    },
    {
     "name": "stderr",
     "output_type": "stream",
     "text": [
      "                                                                   "
     ]
    },
    {
     "name": "stdout",
     "output_type": "stream",
     "text": [
      "\n",
      "✅ [NeuMF] 3번째 테스트 결과:\n",
      " - MSE  : 1.1788\n",
      " - RMSE : 1.0857\n",
      " - MAE  : 0.8466\n",
      " - MAPE : 34.79%\n",
      "\n",
      "==================== 4번째 반복 시작 ====================\n"
     ]
    },
    {
     "name": "stderr",
     "output_type": "stream",
     "text": [
      "                                                                                           "
     ]
    },
    {
     "name": "stdout",
     "output_type": "stream",
     "text": [
      "조기 종료 발생. (Run 4)\n",
      "최적 모델 로드 완료: best_neumf_model_run_4.pt\n"
     ]
    },
    {
     "name": "stderr",
     "output_type": "stream",
     "text": [
      "                                                                   "
     ]
    },
    {
     "name": "stdout",
     "output_type": "stream",
     "text": [
      "\n",
      "✅ [NeuMF] 4번째 테스트 결과:\n",
      " - MSE  : 1.1820\n",
      " - RMSE : 1.0872\n",
      " - MAE  : 0.8546\n",
      " - MAPE : 34.80%\n",
      "\n",
      "==================== 5번째 반복 시작 ====================\n"
     ]
    },
    {
     "name": "stderr",
     "output_type": "stream",
     "text": [
      "                                                                                            "
     ]
    },
    {
     "name": "stdout",
     "output_type": "stream",
     "text": [
      "조기 종료 발생. (Run 5)\n",
      "최적 모델 로드 완료: best_neumf_model_run_5.pt\n"
     ]
    },
    {
     "name": "stderr",
     "output_type": "stream",
     "text": [
      "                                                                   "
     ]
    },
    {
     "name": "stdout",
     "output_type": "stream",
     "text": [
      "\n",
      "✅ [NeuMF] 5번째 테스트 결과:\n",
      " - MSE  : 1.1852\n",
      " - RMSE : 1.0887\n",
      " - MAE  : 0.8501\n",
      " - MAPE : 34.58%\n",
      "\n",
      "\n",
      "==================== 5회 반복 최종 평균 결과 ====================\n",
      " - 평균 MSE  : 1.1771\n",
      " - 평균 RMSE : 1.0849\n",
      " - 평균 MAE  : 0.8521\n",
      " - 평균 MAPE : 34.57%\n"
     ]
    },
    {
     "name": "stderr",
     "output_type": "stream",
     "text": []
    }
   ],
   "source": [
    "import pandas as pd\n",
    "import numpy as np\n",
    "from sklearn.model_selection import train_test_split\n",
    "from sklearn.preprocessing import LabelEncoder\n",
    "from sklearn.metrics import mean_squared_error, mean_absolute_error\n",
    "from tqdm import tqdm\n",
    "import torch\n",
    "import torch.nn as nn\n",
    "import torch.optim as optim\n",
    "from torch.utils.data import Dataset, DataLoader\n",
    "import os\n",
    "\n",
    "# -------------------- 데이터 로딩 및 전처리 --------------------\n",
    "# 'review_data_optimized.parquet' 파일을 읽어옵니다.\n",
    "df = pd.read_parquet('review_data_optimized.parquet', engine='pyarrow')\n",
    "df_processed = df[['user_id', 'business_id', 'stars']].copy()\n",
    "\n",
    "# Label Encoding을 사용하여 user_id와 business_id를 정수형으로 변환합니다.\n",
    "user_encoder = LabelEncoder()\n",
    "business_encoder = LabelEncoder()\n",
    "df_processed['user_encoded'] = user_encoder.fit_transform(df_processed['user_id'])\n",
    "df_processed['business_encoded'] = business_encoder.fit_transform(df_processed['business_id'])\n",
    "\n",
    "num_users = len(user_encoder.classes_)\n",
    "num_businesses = len(business_encoder.classes_)\n",
    "\n",
    "# -------------------- Dataset 정의 --------------------\n",
    "class NeuMFDataset(Dataset):\n",
    "    def __init__(self, df):\n",
    "        self.user_ids = torch.tensor(df['user_encoded'].values, dtype=torch.long)\n",
    "        self.item_ids = torch.tensor(df['business_encoded'].values, dtype=torch.long)\n",
    "        self.ratings = torch.tensor(df['stars'].values, dtype=torch.float)\n",
    "\n",
    "    def __len__(self):\n",
    "        return len(self.ratings)\n",
    "\n",
    "    def __getitem__(self, idx):\n",
    "        return self.user_ids[idx], self.item_ids[idx], self.ratings[idx]\n",
    "\n",
    "# -------------------- 모델 정의 --------------------\n",
    "class NeuMF(nn.Module):\n",
    "    def __init__(self, num_users, num_items, mf_dim=16, mlp_dims=[64, 32]):\n",
    "        super(NeuMF, self).__init__()\n",
    "        self.user_embedding_gmf = nn.Embedding(num_users, mf_dim)\n",
    "        self.item_embedding_gmf = nn.Embedding(num_items, mf_dim)\n",
    "\n",
    "        self.user_embedding_mlp = nn.Embedding(num_users, mlp_dims[0] // 2)\n",
    "        self.item_embedding_mlp = nn.Embedding(num_items, mlp_dims[0] // 2)\n",
    "\n",
    "        mlp_layers = []\n",
    "        input_dim = mlp_dims[0]\n",
    "        for dim in mlp_dims[1:]:\n",
    "            mlp_layers.append(nn.Linear(input_dim, dim))\n",
    "            mlp_layers.append(nn.ReLU())\n",
    "            input_dim = dim\n",
    "        self.mlp = nn.Sequential(*mlp_layers)\n",
    "\n",
    "        self.final_layer = nn.Linear(mf_dim + mlp_dims[-1], 1)\n",
    "\n",
    "    def forward(self, user_ids, item_ids):\n",
    "        gmf_user = self.user_embedding_gmf(user_ids)\n",
    "        gmf_item = self.item_embedding_gmf(item_ids)\n",
    "        gmf_output = gmf_user * gmf_item\n",
    "\n",
    "        mlp_user = self.user_embedding_mlp(user_ids)\n",
    "        mlp_item = self.item_embedding_mlp(item_ids)\n",
    "        mlp_input = torch.cat((mlp_user, mlp_item), dim=1)\n",
    "        mlp_output = self.mlp(mlp_input)\n",
    "\n",
    "        concat = torch.cat((gmf_output, mlp_output), dim=1)\n",
    "        prediction = self.final_layer(concat)\n",
    "        return prediction.view(-1)\n",
    "\n",
    "# -------------------- 평가 지표 함수 정의 --------------------\n",
    "def mean_absolute_percentage_error(y_true, y_pred):\n",
    "    y_true = np.array(y_true)\n",
    "    y_pred = np.array(y_pred)\n",
    "    epsilon = 1e-10\n",
    "    return np.mean(np.abs((y_true - y_pred) / (y_true + epsilon))) * 100\n",
    "\n",
    "# -------------------- 5회 반복 학습 및 평가 --------------------\n",
    "num_runs = 5\n",
    "mse_list, rmse_list, mae_list, mape_list = [], [], [], []\n",
    "\n",
    "embedding_dim = 16\n",
    "mlp_dims = [64, 32]\n",
    "learning_rate = 0.001\n",
    "epochs = 50\n",
    "patience = 5\n",
    "min_delta = 0.0001\n",
    "\n",
    "for i in range(num_runs):\n",
    "    print(f\"\\n==================== {i+1}번째 반복 시작 ====================\")\n",
    "\n",
    "    # 매 반복마다 데이터셋을 무작위로 분할하여 독립적인 테스트를 보장합니다.\n",
    "    train_val_df, test_df = train_test_split(df_processed, test_size=0.2, random_state=42 + i)\n",
    "    val_size_ratio = 1 / 8\n",
    "    train_df, val_df = train_test_split(train_val_df, test_size=val_size_ratio, random_state=42 + i)\n",
    "\n",
    "    train_dataset = NeuMFDataset(train_df)\n",
    "    val_dataset = NeuMFDataset(val_df)\n",
    "    test_dataset = NeuMFDataset(test_df)\n",
    "\n",
    "    batch_size = 128\n",
    "    train_loader = DataLoader(train_dataset, batch_size=batch_size, shuffle=True)\n",
    "    val_loader = DataLoader(val_dataset, batch_size=batch_size, shuffle=False)\n",
    "    test_loader = DataLoader(test_dataset, batch_size=batch_size, shuffle=False)\n",
    "\n",
    "    # 모델, 손실 함수, 옵티마이저는 매번 새로 초기화합니다.\n",
    "    model = NeuMF(num_users, num_businesses, embedding_dim, mlp_dims)\n",
    "    criterion = nn.MSELoss()\n",
    "    optimizer = optim.Adam(model.parameters(), lr=learning_rate)\n",
    "    model_path = f'best_neumf_model_run_{i+1}.pt'\n",
    "\n",
    "    best_val_rmse = float('inf')\n",
    "    epochs_no_improve = 0\n",
    "\n",
    "    # 학습 루프\n",
    "    for epoch in range(epochs):\n",
    "        model.train()\n",
    "        total_train_loss = 0\n",
    "        train_bar = tqdm(train_loader, desc=f\"[Run {i+1}, Epoch {epoch+1}] Training\", leave=False)\n",
    "        for user_ids, item_ids, ratings in train_bar:\n",
    "            optimizer.zero_grad()\n",
    "            predictions = model(user_ids, item_ids)\n",
    "            loss = criterion(predictions, ratings)\n",
    "            loss.backward()\n",
    "            optimizer.step()\n",
    "            total_train_loss += loss.item()\n",
    "            train_bar.set_postfix(loss=loss.item())\n",
    "\n",
    "        model.eval()\n",
    "        val_predictions, val_true = [], []\n",
    "        val_bar = tqdm(val_loader, desc=f\"[Run {i+1}, Epoch {epoch+1}] Validating\", leave=False)\n",
    "        with torch.no_grad():\n",
    "            for user_ids, item_ids, ratings in val_bar:\n",
    "                preds = model(user_ids, item_ids)\n",
    "                val_predictions.extend(preds.tolist())\n",
    "                val_true.extend(ratings.tolist())\n",
    "\n",
    "        val_rmse = np.sqrt(mean_squared_error(val_true, val_predictions))\n",
    "\n",
    "        if val_rmse < best_val_rmse - min_delta:\n",
    "            best_val_rmse = val_rmse\n",
    "            epochs_no_improve = 0\n",
    "            torch.save(model.state_dict(), model_path)\n",
    "        else:\n",
    "            epochs_no_improve += 1\n",
    "            if epochs_no_improve == patience:\n",
    "                print(f\"조기 종료 발생. (Run {i+1})\")\n",
    "                break\n",
    "\n",
    "    # 테스트 루프\n",
    "    if os.path.exists(model_path):\n",
    "        model.load_state_dict(torch.load(model_path))\n",
    "        print(f\"최적 모델 로드 완료: {model_path}\")\n",
    "    else:\n",
    "        print(f\"최적 모델을 찾지 못해 현재 모델을 사용합니다. (Run {i+1})\")\n",
    "\n",
    "    model.eval()\n",
    "    test_preds, test_true = [], []\n",
    "    test_bar = tqdm(test_loader, desc=f\"Testing (Run {i+1})\", leave=False)\n",
    "    with torch.no_grad():\n",
    "        for user_ids, item_ids, ratings in test_bar:\n",
    "            preds = model(user_ids, item_ids)\n",
    "            test_preds.extend(preds.tolist())\n",
    "            test_true.extend(ratings.tolist())\n",
    "\n",
    "    test_mse = mean_squared_error(test_true, test_preds)\n",
    "    test_rmse = np.sqrt(test_mse)\n",
    "    test_mae = mean_absolute_error(test_true, test_preds)\n",
    "    test_mape = mean_absolute_percentage_error(test_true, test_preds)\n",
    "\n",
    "    print(f\"\\n✅ [NeuMF] {i+1}번째 테스트 결과:\")\n",
    "    print(f\" - MSE  : {test_mse:.4f}\")\n",
    "    print(f\" - RMSE : {test_rmse:.4f}\")\n",
    "    print(f\" - MAE  : {test_mae:.4f}\")\n",
    "    print(f\" - MAPE : {test_mape:.2f}%\")\n",
    "\n",
    "    mse_list.append(test_mse)\n",
    "    rmse_list.append(test_rmse)\n",
    "    mae_list.append(test_mae)\n",
    "    mape_list.append(test_mape)\n",
    "\n",
    "# 최종 평균 계산 및 출력\n",
    "avg_mse = np.mean(mse_list)\n",
    "avg_rmse = np.mean(rmse_list)\n",
    "avg_mae = np.mean(mae_list)\n",
    "avg_mape = np.mean(mape_list)\n",
    "\n",
    "print(\"\\n\\n==================== 5회 반복 최종 평균 결과 ====================\")\n",
    "print(f\" - 평균 MSE  : {avg_mse:.4f}\")\n",
    "print(f\" - 평균 RMSE : {avg_rmse:.4f}\")\n",
    "print(f\" - 평균 MAE  : {avg_mae:.4f}\")\n",
    "print(f\" - 평균 MAPE : {avg_mape:.2f}%\")\n",
    "\n"
   ]
  },
  {
   "cell_type": "code",
   "execution_count": null,
   "id": "3a1aa7f0-dde1-4659-a995-2945605c00fe",
   "metadata": {},
   "outputs": [],
   "source": []
  }
 ],
 "metadata": {
  "kernelspec": {
   "display_name": "Python 3 (ipykernel)",
   "language": "python",
   "name": "python3"
  },
  "language_info": {
   "codemirror_mode": {
    "name": "ipython",
    "version": 3
   },
   "file_extension": ".py",
   "mimetype": "text/x-python",
   "name": "python",
   "nbconvert_exporter": "python",
   "pygments_lexer": "ipython3",
   "version": "3.12.3"
  }
 },
 "nbformat": 4,
 "nbformat_minor": 5
}
