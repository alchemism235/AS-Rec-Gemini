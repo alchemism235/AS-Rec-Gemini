{
 "cells": [
  {
   "cell_type": "code",
   "execution_count": 3,
   "id": "078fbcda-881a-4585-a5b0-b4795fefeb23",
   "metadata": {},
   "outputs": [
    {
     "name": "stdout",
     "output_type": "stream",
     "text": [
      "✅ JSON 파일 로드 성공.\n",
      "\n",
      "==================== 실험 시작: random_state=42 ====================\n",
      "SBERT 모델 로딩 및 문맥 벡터 생성 중...\n"
     ]
    },
    {
     "name": "stderr",
     "output_type": "stream",
     "text": [
      "Batches: 100%|██████████| 11195/11195 [16:26<00:00, 11.35it/s] \n",
      "Batches: 100%|██████████| 2799/2799 [02:03<00:00, 22.58it/s]\n"
     ]
    },
    {
     "name": "stdout",
     "output_type": "stream",
     "text": [
      "모델 학습 시작...\n"
     ]
    },
    {
     "name": "stderr",
     "output_type": "stream",
     "text": [
      "                                                                        "
     ]
    },
    {
     "name": "stdout",
     "output_type": "stream",
     "text": [
      "\n",
      "Epoch 1 | Train Loss: 0.9286 | Val RMSE: 0.8269, MAE: 0.6573, MAPE: 24.01%\n",
      "  --> 개선됨. 모델 저장됨 (RMSE: 0.8269)\n"
     ]
    },
    {
     "name": "stderr",
     "output_type": "stream",
     "text": [
      "                                                                        "
     ]
    },
    {
     "name": "stdout",
     "output_type": "stream",
     "text": [
      "\n",
      "Epoch 2 | Train Loss: 0.6534 | Val RMSE: 0.8148, MAE: 0.6410, MAPE: 24.00%\n",
      "  --> 개선됨. 모델 저장됨 (RMSE: 0.8148)\n"
     ]
    },
    {
     "name": "stderr",
     "output_type": "stream",
     "text": [
      "                                                                        "
     ]
    },
    {
     "name": "stdout",
     "output_type": "stream",
     "text": [
      "\n",
      "Epoch 3 | Train Loss: 0.5864 | Val RMSE: 0.7787, MAE: 0.6069, MAPE: 21.93%\n",
      "  --> 개선됨. 모델 저장됨 (RMSE: 0.7787)\n"
     ]
    },
    {
     "name": "stderr",
     "output_type": "stream",
     "text": [
      "                                                                        "
     ]
    },
    {
     "name": "stdout",
     "output_type": "stream",
     "text": [
      "\n",
      "Epoch 4 | Train Loss: 0.5256 | Val RMSE: 0.7748, MAE: 0.6051, MAPE: 21.46%\n",
      "  --> 개선됨. 모델 저장됨 (RMSE: 0.7748)\n"
     ]
    },
    {
     "name": "stderr",
     "output_type": "stream",
     "text": [
      "                                                                        "
     ]
    },
    {
     "name": "stdout",
     "output_type": "stream",
     "text": [
      "\n",
      "Epoch 5 | Train Loss: 0.4845 | Val RMSE: 0.7697, MAE: 0.5929, MAPE: 21.38%\n",
      "  --> 개선됨. 모델 저장됨 (RMSE: 0.7697)\n"
     ]
    },
    {
     "name": "stderr",
     "output_type": "stream",
     "text": [
      "                                                                        "
     ]
    },
    {
     "name": "stdout",
     "output_type": "stream",
     "text": [
      "\n",
      "Epoch 6 | Train Loss: 0.4495 | Val RMSE: 0.7685, MAE: 0.5888, MAPE: 21.08%\n",
      "  --> 개선됨. 모델 저장됨 (RMSE: 0.7685)\n"
     ]
    },
    {
     "name": "stderr",
     "output_type": "stream",
     "text": [
      "                                                                        "
     ]
    },
    {
     "name": "stdout",
     "output_type": "stream",
     "text": [
      "\n",
      "Epoch 7 | Train Loss: 0.4165 | Val RMSE: 0.7763, MAE: 0.5992, MAPE: 20.73%\n",
      "  --> 개선 없음. (1/5)\n"
     ]
    },
    {
     "name": "stderr",
     "output_type": "stream",
     "text": [
      "                                                                       "
     ]
    },
    {
     "name": "stdout",
     "output_type": "stream",
     "text": [
      "\n",
      "Epoch 8 | Train Loss: 0.3853 | Val RMSE: 0.7782, MAE: 0.5942, MAPE: 21.27%\n",
      "  --> 개선 없음. (2/5)\n"
     ]
    },
    {
     "name": "stderr",
     "output_type": "stream",
     "text": [
      "                                                                       "
     ]
    },
    {
     "name": "stdout",
     "output_type": "stream",
     "text": [
      "\n",
      "Epoch 9 | Train Loss: 0.3561 | Val RMSE: 0.7873, MAE: 0.5990, MAPE: 20.71%\n",
      "  --> 개선 없음. (3/5)\n"
     ]
    },
    {
     "name": "stderr",
     "output_type": "stream",
     "text": [
      "                                                                        "
     ]
    },
    {
     "name": "stdout",
     "output_type": "stream",
     "text": [
      "\n",
      "Epoch 10 | Train Loss: 0.3283 | Val RMSE: 0.7945, MAE: 0.6032, MAPE: 20.84%\n",
      "  --> 개선 없음. (4/5)\n"
     ]
    },
    {
     "name": "stderr",
     "output_type": "stream",
     "text": [
      "                                                                        "
     ]
    },
    {
     "name": "stdout",
     "output_type": "stream",
     "text": [
      "\n",
      "Epoch 11 | Train Loss: 0.3027 | Val RMSE: 0.7997, MAE: 0.6076, MAPE: 21.23%\n",
      "  --> 개선 없음. (5/5)\n",
      "조기 종료 발생.\n",
      "\n",
      "최적 모델 로드 완료: best_ucam_model_42.pt\n",
      "\n",
      "✅ [UCAM] 최종 테스트 평가 지표 (random_state=42):\n",
      "   - MSE  : 0.5906\n",
      "   - RMSE : 0.7685\n",
      "   - MAE  : 0.5888\n",
      "   - MAPE : 21.08%\n",
      "\n",
      "==================== 실험 시작: random_state=43 ====================\n",
      "SBERT 모델 로딩 및 문맥 벡터 생성 중...\n"
     ]
    },
    {
     "name": "stderr",
     "output_type": "stream",
     "text": [
      "Batches: 100%|██████████| 11195/11195 [29:20<00:00,  6.36it/s] \n",
      "Batches: 100%|██████████| 2799/2799 [03:12<00:00, 14.55it/s]\n"
     ]
    },
    {
     "name": "stdout",
     "output_type": "stream",
     "text": [
      "모델 학습 시작...\n"
     ]
    },
    {
     "name": "stderr",
     "output_type": "stream",
     "text": [
      "                                                                       "
     ]
    },
    {
     "name": "stdout",
     "output_type": "stream",
     "text": [
      "\n",
      "Epoch 1 | Train Loss: 0.9329 | Val RMSE: 0.8333, MAE: 0.6617, MAPE: 24.24%\n",
      "  --> 개선됨. 모델 저장됨 (RMSE: 0.8333)\n"
     ]
    },
    {
     "name": "stderr",
     "output_type": "stream",
     "text": [
      "                                                                       "
     ]
    },
    {
     "name": "stdout",
     "output_type": "stream",
     "text": [
      "\n",
      "Epoch 2 | Train Loss: 0.6536 | Val RMSE: 0.8183, MAE: 0.6506, MAPE: 22.94%\n",
      "  --> 개선됨. 모델 저장됨 (RMSE: 0.8183)\n"
     ]
    },
    {
     "name": "stderr",
     "output_type": "stream",
     "text": [
      "                                                                       "
     ]
    },
    {
     "name": "stdout",
     "output_type": "stream",
     "text": [
      "\n",
      "Epoch 3 | Train Loss: 0.5802 | Val RMSE: 0.7780, MAE: 0.6040, MAPE: 22.05%\n",
      "  --> 개선됨. 모델 저장됨 (RMSE: 0.7780)\n"
     ]
    },
    {
     "name": "stderr",
     "output_type": "stream",
     "text": [
      "                                                                       "
     ]
    },
    {
     "name": "stdout",
     "output_type": "stream",
     "text": [
      "\n",
      "Epoch 4 | Train Loss: 0.5213 | Val RMSE: 0.7700, MAE: 0.5973, MAPE: 21.15%\n",
      "  --> 개선됨. 모델 저장됨 (RMSE: 0.7700)\n"
     ]
    },
    {
     "name": "stderr",
     "output_type": "stream",
     "text": [
      "                                                                       "
     ]
    },
    {
     "name": "stdout",
     "output_type": "stream",
     "text": [
      "\n",
      "Epoch 5 | Train Loss: 0.4797 | Val RMSE: 0.7680, MAE: 0.5947, MAPE: 21.23%\n",
      "  --> 개선됨. 모델 저장됨 (RMSE: 0.7680)\n"
     ]
    },
    {
     "name": "stderr",
     "output_type": "stream",
     "text": [
      "                                                                       "
     ]
    },
    {
     "name": "stdout",
     "output_type": "stream",
     "text": [
      "\n",
      "Epoch 6 | Train Loss: 0.4446 | Val RMSE: 0.7711, MAE: 0.5907, MAPE: 21.25%\n",
      "  --> 개선 없음. (1/5)\n"
     ]
    },
    {
     "name": "stderr",
     "output_type": "stream",
     "text": [
      "                                                                       "
     ]
    },
    {
     "name": "stdout",
     "output_type": "stream",
     "text": [
      "\n",
      "Epoch 7 | Train Loss: 0.4110 | Val RMSE: 0.7739, MAE: 0.5913, MAPE: 21.41%\n",
      "  --> 개선 없음. (2/5)\n"
     ]
    },
    {
     "name": "stderr",
     "output_type": "stream",
     "text": [
      "                                                                       "
     ]
    },
    {
     "name": "stdout",
     "output_type": "stream",
     "text": [
      "\n",
      "Epoch 8 | Train Loss: 0.3801 | Val RMSE: 0.7791, MAE: 0.5938, MAPE: 20.84%\n",
      "  --> 개선 없음. (3/5)\n"
     ]
    },
    {
     "name": "stderr",
     "output_type": "stream",
     "text": [
      "                                                                       "
     ]
    },
    {
     "name": "stdout",
     "output_type": "stream",
     "text": [
      "\n",
      "Epoch 9 | Train Loss: 0.3513 | Val RMSE: 0.7876, MAE: 0.5977, MAPE: 21.34%\n",
      "  --> 개선 없음. (4/5)\n"
     ]
    },
    {
     "name": "stderr",
     "output_type": "stream",
     "text": [
      "                                                                        "
     ]
    },
    {
     "name": "stdout",
     "output_type": "stream",
     "text": [
      "\n",
      "Epoch 10 | Train Loss: 0.3241 | Val RMSE: 0.7941, MAE: 0.6036, MAPE: 21.24%\n",
      "  --> 개선 없음. (5/5)\n",
      "조기 종료 발생.\n",
      "\n",
      "최적 모델 로드 완료: best_ucam_model_43.pt\n",
      "\n",
      "✅ [UCAM] 최종 테스트 평가 지표 (random_state=43):\n",
      "   - MSE  : 0.5898\n",
      "   - RMSE : 0.7680\n",
      "   - MAE  : 0.5947\n",
      "   - MAPE : 21.23%\n",
      "\n",
      "==================== 실험 시작: random_state=44 ====================\n",
      "SBERT 모델 로딩 및 문맥 벡터 생성 중...\n"
     ]
    },
    {
     "name": "stderr",
     "output_type": "stream",
     "text": [
      "Batches: 100%|██████████| 11195/11195 [27:43<00:00,  6.73it/s] \n",
      "Batches: 100%|██████████| 2799/2799 [00:58<00:00, 47.69it/s] \n"
     ]
    },
    {
     "name": "stdout",
     "output_type": "stream",
     "text": [
      "모델 학습 시작...\n"
     ]
    },
    {
     "name": "stderr",
     "output_type": "stream",
     "text": [
      "                                                                        "
     ]
    },
    {
     "name": "stdout",
     "output_type": "stream",
     "text": [
      "\n",
      "Epoch 1 | Train Loss: 1.0169 | Val RMSE: 0.8331, MAE: 0.6599, MAPE: 24.38%\n",
      "  --> 개선됨. 모델 저장됨 (RMSE: 0.8331)\n"
     ]
    },
    {
     "name": "stderr",
     "output_type": "stream",
     "text": [
      "                                                                        "
     ]
    },
    {
     "name": "stdout",
     "output_type": "stream",
     "text": [
      "\n",
      "Epoch 2 | Train Loss: 0.6520 | Val RMSE: 0.8135, MAE: 0.6432, MAPE: 23.59%\n",
      "  --> 개선됨. 모델 저장됨 (RMSE: 0.8135)\n"
     ]
    },
    {
     "name": "stderr",
     "output_type": "stream",
     "text": [
      "                                                                        "
     ]
    },
    {
     "name": "stdout",
     "output_type": "stream",
     "text": [
      "\n",
      "Epoch 3 | Train Loss: 0.5959 | Val RMSE: 0.7894, MAE: 0.6174, MAPE: 21.97%\n",
      "  --> 개선됨. 모델 저장됨 (RMSE: 0.7894)\n"
     ]
    },
    {
     "name": "stderr",
     "output_type": "stream",
     "text": [
      "                                                                        "
     ]
    },
    {
     "name": "stdout",
     "output_type": "stream",
     "text": [
      "\n",
      "Epoch 4 | Train Loss: 0.5308 | Val RMSE: 0.7770, MAE: 0.6011, MAPE: 21.45%\n",
      "  --> 개선됨. 모델 저장됨 (RMSE: 0.7770)\n"
     ]
    },
    {
     "name": "stderr",
     "output_type": "stream",
     "text": [
      "                                                                        "
     ]
    },
    {
     "name": "stdout",
     "output_type": "stream",
     "text": [
      "\n",
      "Epoch 5 | Train Loss: 0.4848 | Val RMSE: 0.7762, MAE: 0.5976, MAPE: 21.87%\n",
      "  --> 개선 없음. (1/5)\n"
     ]
    },
    {
     "name": "stderr",
     "output_type": "stream",
     "text": [
      "                                                                        "
     ]
    },
    {
     "name": "stdout",
     "output_type": "stream",
     "text": [
      "\n",
      "Epoch 6 | Train Loss: 0.4497 | Val RMSE: 0.7733, MAE: 0.5965, MAPE: 21.42%\n",
      "  --> 개선됨. 모델 저장됨 (RMSE: 0.7733)\n"
     ]
    },
    {
     "name": "stderr",
     "output_type": "stream",
     "text": [
      "                                                                        "
     ]
    },
    {
     "name": "stdout",
     "output_type": "stream",
     "text": [
      "\n",
      "Epoch 7 | Train Loss: 0.4168 | Val RMSE: 0.7838, MAE: 0.5984, MAPE: 22.13%\n",
      "  --> 개선 없음. (1/5)\n"
     ]
    },
    {
     "name": "stderr",
     "output_type": "stream",
     "text": [
      "                                                                        "
     ]
    },
    {
     "name": "stdout",
     "output_type": "stream",
     "text": [
      "\n",
      "Epoch 8 | Train Loss: 0.3867 | Val RMSE: 0.7825, MAE: 0.5990, MAPE: 21.70%\n",
      "  --> 개선 없음. (2/5)\n"
     ]
    },
    {
     "name": "stderr",
     "output_type": "stream",
     "text": [
      "                                                                        "
     ]
    },
    {
     "name": "stdout",
     "output_type": "stream",
     "text": [
      "\n",
      "Epoch 9 | Train Loss: 0.3571 | Val RMSE: 0.7912, MAE: 0.6055, MAPE: 21.44%\n",
      "  --> 개선 없음. (3/5)\n"
     ]
    },
    {
     "name": "stderr",
     "output_type": "stream",
     "text": [
      "                                                                         "
     ]
    },
    {
     "name": "stdout",
     "output_type": "stream",
     "text": [
      "\n",
      "Epoch 10 | Train Loss: 0.3296 | Val RMSE: 0.8040, MAE: 0.6097, MAPE: 22.40%\n",
      "  --> 개선 없음. (4/5)\n"
     ]
    },
    {
     "name": "stderr",
     "output_type": "stream",
     "text": [
      "                                                                         "
     ]
    },
    {
     "name": "stdout",
     "output_type": "stream",
     "text": [
      "\n",
      "Epoch 11 | Train Loss: 0.3033 | Val RMSE: 0.8075, MAE: 0.6132, MAPE: 22.10%\n",
      "  --> 개선 없음. (5/5)\n",
      "조기 종료 발생.\n",
      "\n",
      "최적 모델 로드 완료: best_ucam_model_44.pt\n",
      "\n",
      "✅ [UCAM] 최종 테스트 평가 지표 (random_state=44):\n",
      "   - MSE  : 0.5980\n",
      "   - RMSE : 0.7733\n",
      "   - MAE  : 0.5965\n",
      "   - MAPE : 21.42%\n",
      "\n",
      "==================== 실험 시작: random_state=45 ====================\n",
      "SBERT 모델 로딩 및 문맥 벡터 생성 중...\n"
     ]
    },
    {
     "name": "stderr",
     "output_type": "stream",
     "text": [
      "Batches: 100%|██████████| 11195/11195 [03:53<00:00, 47.88it/s] \n",
      "Batches: 100%|██████████| 2799/2799 [01:08<00:00, 40.66it/s] \n"
     ]
    },
    {
     "name": "stdout",
     "output_type": "stream",
     "text": [
      "모델 학습 시작...\n"
     ]
    },
    {
     "name": "stderr",
     "output_type": "stream",
     "text": [
      "                                                                        "
     ]
    },
    {
     "name": "stdout",
     "output_type": "stream",
     "text": [
      "\n",
      "Epoch 1 | Train Loss: 0.9487 | Val RMSE: 0.8385, MAE: 0.6616, MAPE: 24.88%\n",
      "  --> 개선됨. 모델 저장됨 (RMSE: 0.8385)\n"
     ]
    },
    {
     "name": "stderr",
     "output_type": "stream",
     "text": [
      "                                                                        "
     ]
    },
    {
     "name": "stdout",
     "output_type": "stream",
     "text": [
      "\n",
      "Epoch 2 | Train Loss: 0.6513 | Val RMSE: 0.8169, MAE: 0.6463, MAPE: 23.52%\n",
      "  --> 개선됨. 모델 저장됨 (RMSE: 0.8169)\n"
     ]
    },
    {
     "name": "stderr",
     "output_type": "stream",
     "text": [
      "                                                                        "
     ]
    },
    {
     "name": "stdout",
     "output_type": "stream",
     "text": [
      "\n",
      "Epoch 3 | Train Loss: 0.5920 | Val RMSE: 0.7882, MAE: 0.6142, MAPE: 22.19%\n",
      "  --> 개선됨. 모델 저장됨 (RMSE: 0.7882)\n"
     ]
    },
    {
     "name": "stderr",
     "output_type": "stream",
     "text": [
      "                                                                        "
     ]
    },
    {
     "name": "stdout",
     "output_type": "stream",
     "text": [
      "\n",
      "Epoch 4 | Train Loss: 0.5274 | Val RMSE: 0.7770, MAE: 0.6007, MAPE: 21.66%\n",
      "  --> 개선됨. 모델 저장됨 (RMSE: 0.7770)\n"
     ]
    },
    {
     "name": "stderr",
     "output_type": "stream",
     "text": [
      "                                                                        "
     ]
    },
    {
     "name": "stdout",
     "output_type": "stream",
     "text": [
      "\n",
      "Epoch 5 | Train Loss: 0.4844 | Val RMSE: 0.7783, MAE: 0.6001, MAPE: 21.52%\n",
      "  --> 개선 없음. (1/5)\n"
     ]
    },
    {
     "name": "stderr",
     "output_type": "stream",
     "text": [
      "                                                                        "
     ]
    },
    {
     "name": "stdout",
     "output_type": "stream",
     "text": [
      "\n",
      "Epoch 6 | Train Loss: 0.4479 | Val RMSE: 0.7773, MAE: 0.5962, MAPE: 21.57%\n",
      "  --> 개선 없음. (2/5)\n"
     ]
    },
    {
     "name": "stderr",
     "output_type": "stream",
     "text": [
      "                                                                        "
     ]
    },
    {
     "name": "stdout",
     "output_type": "stream",
     "text": [
      "\n",
      "Epoch 7 | Train Loss: 0.4153 | Val RMSE: 0.7848, MAE: 0.6047, MAPE: 21.39%\n",
      "  --> 개선 없음. (3/5)\n"
     ]
    },
    {
     "name": "stderr",
     "output_type": "stream",
     "text": [
      "                                                                        "
     ]
    },
    {
     "name": "stdout",
     "output_type": "stream",
     "text": [
      "\n",
      "Epoch 8 | Train Loss: 0.3843 | Val RMSE: 0.7857, MAE: 0.6016, MAPE: 21.70%\n",
      "  --> 개선 없음. (4/5)\n"
     ]
    },
    {
     "name": "stderr",
     "output_type": "stream",
     "text": [
      "                                                                        "
     ]
    },
    {
     "name": "stdout",
     "output_type": "stream",
     "text": [
      "\n",
      "Epoch 9 | Train Loss: 0.3554 | Val RMSE: 0.7946, MAE: 0.6055, MAPE: 21.95%\n",
      "  --> 개선 없음. (5/5)\n",
      "조기 종료 발생.\n",
      "\n",
      "최적 모델 로드 완료: best_ucam_model_45.pt\n",
      "\n",
      "✅ [UCAM] 최종 테스트 평가 지표 (random_state=45):\n",
      "   - MSE  : 0.6037\n",
      "   - RMSE : 0.7770\n",
      "   - MAE  : 0.6007\n",
      "   - MAPE : 21.66%\n",
      "\n",
      "==================== 실험 시작: random_state=46 ====================\n",
      "SBERT 모델 로딩 및 문맥 벡터 생성 중...\n"
     ]
    },
    {
     "name": "stderr",
     "output_type": "stream",
     "text": [
      "Batches: 100%|██████████| 11195/11195 [03:49<00:00, 48.86it/s] \n",
      "Batches: 100%|██████████| 2799/2799 [01:04<00:00, 43.33it/s] \n"
     ]
    },
    {
     "name": "stdout",
     "output_type": "stream",
     "text": [
      "모델 학습 시작...\n"
     ]
    },
    {
     "name": "stderr",
     "output_type": "stream",
     "text": [
      "                                                                        "
     ]
    },
    {
     "name": "stdout",
     "output_type": "stream",
     "text": [
      "\n",
      "Epoch 1 | Train Loss: 0.9229 | Val RMSE: 0.8339, MAE: 0.6597, MAPE: 24.64%\n",
      "  --> 개선됨. 모델 저장됨 (RMSE: 0.8339)\n"
     ]
    },
    {
     "name": "stderr",
     "output_type": "stream",
     "text": [
      "                                                                        "
     ]
    },
    {
     "name": "stdout",
     "output_type": "stream",
     "text": [
      "\n",
      "Epoch 2 | Train Loss: 0.6265 | Val RMSE: 0.7873, MAE: 0.6152, MAPE: 21.96%\n",
      "  --> 개선됨. 모델 저장됨 (RMSE: 0.7873)\n"
     ]
    },
    {
     "name": "stderr",
     "output_type": "stream",
     "text": [
      "                                                                        "
     ]
    },
    {
     "name": "stdout",
     "output_type": "stream",
     "text": [
      "\n",
      "Epoch 3 | Train Loss: 0.5633 | Val RMSE: 0.7758, MAE: 0.6079, MAPE: 21.37%\n",
      "  --> 개선됨. 모델 저장됨 (RMSE: 0.7758)\n"
     ]
    },
    {
     "name": "stderr",
     "output_type": "stream",
     "text": [
      "                                                                        "
     ]
    },
    {
     "name": "stdout",
     "output_type": "stream",
     "text": [
      "\n",
      "Epoch 4 | Train Loss: 0.5243 | Val RMSE: 0.7695, MAE: 0.5967, MAPE: 21.55%\n",
      "  --> 개선됨. 모델 저장됨 (RMSE: 0.7695)\n"
     ]
    },
    {
     "name": "stderr",
     "output_type": "stream",
     "text": [
      "                                                                        "
     ]
    },
    {
     "name": "stdout",
     "output_type": "stream",
     "text": [
      "\n",
      "Epoch 5 | Train Loss: 0.4941 | Val RMSE: 0.7677, MAE: 0.5948, MAPE: 21.24%\n",
      "  --> 개선됨. 모델 저장됨 (RMSE: 0.7677)\n"
     ]
    },
    {
     "name": "stderr",
     "output_type": "stream",
     "text": [
      "                                                                        "
     ]
    },
    {
     "name": "stdout",
     "output_type": "stream",
     "text": [
      "\n",
      "Epoch 6 | Train Loss: 0.4661 | Val RMSE: 0.7716, MAE: 0.5975, MAPE: 21.23%\n",
      "  --> 개선 없음. (1/5)\n"
     ]
    },
    {
     "name": "stderr",
     "output_type": "stream",
     "text": [
      "                                                                        "
     ]
    },
    {
     "name": "stdout",
     "output_type": "stream",
     "text": [
      "\n",
      "Epoch 7 | Train Loss: 0.4396 | Val RMSE: 0.7784, MAE: 0.6067, MAPE: 20.98%\n",
      "  --> 개선 없음. (2/5)\n"
     ]
    },
    {
     "name": "stderr",
     "output_type": "stream",
     "text": [
      "                                                                        "
     ]
    },
    {
     "name": "stdout",
     "output_type": "stream",
     "text": [
      "\n",
      "Epoch 8 | Train Loss: 0.4142 | Val RMSE: 0.7792, MAE: 0.6048, MAPE: 21.32%\n",
      "  --> 개선 없음. (3/5)\n"
     ]
    },
    {
     "name": "stderr",
     "output_type": "stream",
     "text": [
      "                                                                        "
     ]
    },
    {
     "name": "stdout",
     "output_type": "stream",
     "text": [
      "\n",
      "Epoch 9 | Train Loss: 0.3875 | Val RMSE: 0.7865, MAE: 0.6084, MAPE: 21.56%\n",
      "  --> 개선 없음. (4/5)\n"
     ]
    },
    {
     "name": "stderr",
     "output_type": "stream",
     "text": [
      "                                                                         "
     ]
    },
    {
     "name": "stdout",
     "output_type": "stream",
     "text": [
      "\n",
      "Epoch 10 | Train Loss: 0.3609 | Val RMSE: 0.8004, MAE: 0.6182, MAPE: 22.09%\n",
      "  --> 개선 없음. (5/5)\n",
      "조기 종료 발생.\n",
      "\n",
      "최적 모델 로드 완료: best_ucam_model_46.pt\n",
      "\n",
      "✅ [UCAM] 최종 테스트 평가 지표 (random_state=46):\n",
      "   - MSE  : 0.5894\n",
      "   - RMSE : 0.7677\n",
      "   - MAE  : 0.5948\n",
      "   - MAPE : 21.24%\n",
      "\n",
      "\n",
      "==================== 5회 실험 평균 결과 ====================\n",
      "✔️ 평균 MSE  : 0.5943\n",
      "✔️ 평균 RMSE : 0.7709\n",
      "✔️ 평균 MAE  : 0.5951\n",
      "✔️ 평균 MAPE : 21.32%\n"
     ]
    }
   ],
   "source": [
    "import json\n",
    "import os\n",
    "import pandas as pd\n",
    "import numpy as np\n",
    "from tqdm import tqdm\n",
    "import torch\n",
    "import torch.nn as nn\n",
    "from torch.utils.data import Dataset, DataLoader\n",
    "from sentence_transformers import SentenceTransformer\n",
    "from sklearn.model_selection import train_test_split\n",
    "from sklearn.metrics import mean_squared_error, mean_absolute_error\n",
    "\n",
    "# -------------------- Step 1: 데이터 로드 및 전처리 (JSON 파일용) --------------------\n",
    "# 'review.json' 파일을 올바르게 로드합니다.\n",
    "try:\n",
    "    # JSON 파일이 한 줄에 하나의 JSON 객체로 되어 있는 경우 (JSONL 형식)\n",
    "    df = pd.read_json('review.json', lines=True)\n",
    "    print(\"✅ JSON 파일 로드 성공.\")\n",
    "except FileNotFoundError:\n",
    "    print(\"❌ Error: 'review.json' 파일이 존재하지 않습니다.\")\n",
    "    exit()\n",
    "except ValueError as e:\n",
    "    # JSON 파일이 단일 JSON 배열인 경우\n",
    "    print(f\"JSONL 형식이 아닌 것 같습니다. 일반 JSON 파일로 다시 시도합니다. (오류: {e})\")\n",
    "    try:\n",
    "        df = pd.read_json('review.json')\n",
    "        print(\"✅ 일반 JSON 파일 로드 성공.\")\n",
    "    except Exception as e:\n",
    "        print(f\"❌ Error: 'review.json' 파일을 읽는 데 실패했습니다. 파일 형식을 확인해주세요. (오류: {e})\")\n",
    "        exit()\n",
    "\n",
    "# 필요한 컬럼만 선택하고, 결측치를 제거합니다.\n",
    "df = df[['user_id', 'business_id', 'stars', 'text']].dropna()\n",
    "\n",
    "# -------------------- 실험을 위한 함수 정의 --------------------\n",
    "def run_experiment(df, random_seed):\n",
    "    print(f\"\\n==================== 실험 시작: random_state={random_seed} ====================\")\n",
    "    \n",
    "    # 데이터 분할\n",
    "    train_df, test_df = train_test_split(df, test_size=0.2, random_state=random_seed)\n",
    "\n",
    "    # 훈련 세트의 고유한 사용자/아이템 ID를 기반으로 인덱스를 생성합니다.\n",
    "    user2idx = {uid: i for i, uid in enumerate(train_df['user_id'].unique())}\n",
    "    item2idx = {iid: i for i, iid in enumerate(train_df['business_id'].unique())}\n",
    "\n",
    "    # 테스트 세트에만 존재하는 사용자/아이템을 위한 '알 수 없음' 인덱스를 추가합니다.\n",
    "    unknown_user_idx = len(user2idx)\n",
    "    unknown_item_idx = len(item2idx)\n",
    "\n",
    "    # 사용자/아이템 ID를 인덱스로 매핑하고, '알 수 없음'은 새로운 인덱스로 채웁니다.\n",
    "    train_df['user'] = train_df['user_id'].map(user2idx)\n",
    "    train_df['item'] = train_df['business_id'].map(item2idx)\n",
    "    test_df['user'] = test_df['user_id'].map(user2idx).fillna(unknown_user_idx).astype(int)\n",
    "    test_df['item'] = test_df['business_id'].map(item2idx).fillna(unknown_item_idx).astype(int)\n",
    "\n",
    "    # SBERT 문맥 벡터 생성\n",
    "    print(\"SBERT 모델 로딩 및 문맥 벡터 생성 중...\")\n",
    "    device = torch.device('cuda' if torch.cuda.is_available() else 'cpu')\n",
    "    sbert = SentenceTransformer('all-MiniLM-L6-v2', device=device)\n",
    "    train_context_vectors = sbert.encode(train_df['text'].tolist(), show_progress_bar=True)\n",
    "    test_context_vectors = sbert.encode(test_df['text'].tolist(), show_progress_bar=True)\n",
    "\n",
    "    # Dataset 클래스 정의\n",
    "    class UCAMDataset(Dataset):\n",
    "        def __init__(self, users, items, ratings, contexts):\n",
    "            self.users = users\n",
    "            self.items = items\n",
    "            self.ratings = ratings\n",
    "            self.contexts = contexts\n",
    "\n",
    "        def __len__(self):\n",
    "            return len(self.ratings)\n",
    "\n",
    "        def __getitem__(self, idx):\n",
    "            return (\n",
    "                torch.tensor(self.users[idx], dtype=torch.long),\n",
    "                torch.tensor(self.items[idx], dtype=torch.long),\n",
    "                torch.tensor(self.contexts[idx], dtype=torch.float32),\n",
    "                torch.tensor(self.ratings[idx], dtype=torch.float32)\n",
    "            )\n",
    "\n",
    "    # DataLoader 생성\n",
    "    train_dataset = UCAMDataset(\n",
    "        train_df['user'].values,\n",
    "        train_df['item'].values,\n",
    "        train_df['stars'].values.astype(np.float32),\n",
    "        train_context_vectors\n",
    "    )\n",
    "    test_dataset = UCAMDataset(\n",
    "        test_df['user'].values,\n",
    "        test_df['item'].values,\n",
    "        test_df['stars'].values.astype(np.float32),\n",
    "        test_context_vectors\n",
    "    )\n",
    "\n",
    "    train_loader = DataLoader(train_dataset, batch_size=256, shuffle=True)\n",
    "    test_loader = DataLoader(test_dataset, batch_size=256, shuffle=False)\n",
    "\n",
    "    # 모델 정의\n",
    "    class UCAM(nn.Module):\n",
    "        def __init__(self, num_users, num_items, context_dim=384, embed_dim=64):\n",
    "            super().__init__()\n",
    "            # '알 수 없음' 인덱스를 위해 +1\n",
    "            self.user_embed = nn.Embedding(num_users + 1, embed_dim)\n",
    "            self.item_embed = nn.Embedding(num_items + 1, embed_dim)\n",
    "            self.fc_layers = nn.Sequential(\n",
    "                nn.Linear(embed_dim * 2 + context_dim, 128),\n",
    "                nn.ReLU(),\n",
    "                nn.Linear(128, 64),\n",
    "                nn.ReLU(),\n",
    "                nn.Linear(64, 1)\n",
    "            )\n",
    "\n",
    "        def forward(self, user_ids, item_ids, context_vecs):\n",
    "            u = self.user_embed(user_ids)\n",
    "            i = self.item_embed(item_ids)\n",
    "            x = torch.cat([u, i, context_vecs], dim=-1)\n",
    "            return self.fc_layers(x).squeeze()\n",
    "\n",
    "    model = UCAM(num_users=len(user2idx), num_items=len(item2idx)).to(device)\n",
    "    optimizer = torch.optim.Adam(model.parameters(), lr=1e-3)\n",
    "    criterion = nn.MSELoss()\n",
    "\n",
    "    best_val_rmse = float('inf')\n",
    "    epochs_no_improve = 0\n",
    "    patience = 5\n",
    "    min_delta = 0.001\n",
    "    epochs = 50\n",
    "    model_path = f'best_ucam_model_{random_seed}.pt'\n",
    "\n",
    "    print(\"모델 학습 시작...\")\n",
    "    for epoch in range(epochs):\n",
    "        model.train()\n",
    "        total_train_loss = 0\n",
    "        progress_bar = tqdm(train_loader, desc=f\"Epoch {epoch+1}/{epochs} (Train)\", leave=False)\n",
    "\n",
    "        for user_ids, item_ids, context_vectors, stars in progress_bar:\n",
    "            user_ids = user_ids.to(device)\n",
    "            item_ids = item_ids.to(device)\n",
    "            context_vectors = context_vectors.to(device)\n",
    "            stars = stars.to(device)\n",
    "\n",
    "            optimizer.zero_grad()\n",
    "            predictions = model(user_ids, item_ids, context_vectors)\n",
    "            loss = criterion(predictions, stars)\n",
    "            loss.backward()\n",
    "            optimizer.step()\n",
    "            total_train_loss += loss.item()\n",
    "            \n",
    "        # --- 검증 ---\n",
    "        model.eval()\n",
    "        val_preds, val_true = [], []\n",
    "        with torch.no_grad():\n",
    "            for user_ids, item_ids, context_vectors, stars in test_loader:\n",
    "                user_ids = user_ids.to(device)\n",
    "                item_ids = item_ids.to(device)\n",
    "                context_vectors = context_vectors.to(device)\n",
    "                stars = stars.to(device)\n",
    "\n",
    "                preds = model(user_ids, item_ids, context_vectors)\n",
    "                val_preds.extend(preds.cpu().numpy())\n",
    "                val_true.extend(stars.cpu().numpy())\n",
    "\n",
    "        val_preds = np.array(val_preds)\n",
    "        val_true = np.array(val_true)\n",
    "        val_mse = mean_squared_error(val_true, val_preds)\n",
    "        val_rmse = np.sqrt(val_mse)\n",
    "        val_mae = mean_absolute_error(val_true, val_preds)\n",
    "        val_mape = np.mean(np.abs((val_true - val_preds) / (val_true + 1e-10))) * 100\n",
    "\n",
    "        print(f\"\\nEpoch {epoch+1} | Train Loss: {total_train_loss / len(train_loader):.4f} | \"\n",
    "              f\"Val RMSE: {val_rmse:.4f}, MAE: {val_mae:.4f}, MAPE: {val_mape:.2f}%\")\n",
    "\n",
    "        if val_rmse < best_val_rmse - min_delta:\n",
    "            best_val_rmse = val_rmse\n",
    "            epochs_no_improve = 0\n",
    "            torch.save(model.state_dict(), model_path)\n",
    "            print(f\"  --> 개선됨. 모델 저장됨 (RMSE: {best_val_rmse:.4f})\")\n",
    "        else:\n",
    "            epochs_no_improve += 1\n",
    "            print(f\"  --> 개선 없음. ({epochs_no_improve}/{patience})\")\n",
    "            if epochs_no_improve == patience:\n",
    "                print(\"조기 종료 발생.\")\n",
    "                break\n",
    "    \n",
    "    # -------------------- 테스트셋 평가 --------------------\n",
    "    def evaluate_model(model, data_loader, device):\n",
    "        model.eval()\n",
    "        preds, targets = [], []\n",
    "\n",
    "        with torch.no_grad():\n",
    "            for users, items, contexts, ratings in data_loader:\n",
    "                users = users.to(device)\n",
    "                items = items.to(device)\n",
    "                contexts = contexts.to(device)\n",
    "                ratings = ratings.to(device)\n",
    "\n",
    "                output = model(users, items, contexts)\n",
    "                preds.extend(output.cpu().numpy())\n",
    "                targets.extend(ratings.cpu().numpy())\n",
    "\n",
    "        preds = np.array(preds)\n",
    "        targets = np.array(targets)\n",
    "\n",
    "        mae = mean_absolute_error(targets, preds)\n",
    "        mse = mean_squared_error(targets, preds)\n",
    "        rmse = np.sqrt(mse)\n",
    "        mape = np.mean(np.abs((targets - preds) / (targets + 1e-10))) * 100\n",
    "\n",
    "        return mae, mse, rmse, mape\n",
    "\n",
    "    if os.path.exists(model_path):\n",
    "        model.load_state_dict(torch.load(model_path))\n",
    "        print(f\"\\n최적 모델 로드 완료: {model_path}\")\n",
    "        mae, mse, rmse, mape = evaluate_model(model, test_loader, device)\n",
    "\n",
    "        print(f\"\\n✅ [UCAM] 최종 테스트 평가 지표 (random_state={random_seed}):\")\n",
    "        print(f\"   - MSE  : {mse:.4f}\")\n",
    "        print(f\"   - RMSE : {rmse:.4f}\")\n",
    "        print(f\"   - MAE  : {mae:.4f}\")\n",
    "        print(f\"   - MAPE : {mape:.2f}%\")\n",
    "\n",
    "        # MSE를 결과 딕셔너리에 추가\n",
    "        return {'mse': mse, 'rmse': rmse, 'mae': mae, 'mape': mape}\n",
    "    \n",
    "    return None\n",
    "\n",
    "# -------------------- Step 9: 5회 실험 및 평균 계산 --------------------\n",
    "all_results = []\n",
    "num_runs = 5\n",
    "start_seed = 42\n",
    "\n",
    "for i in range(num_runs):\n",
    "    seed = start_seed + i\n",
    "    results = run_experiment(df, seed)\n",
    "    if results:\n",
    "        all_results.append(results)\n",
    "\n",
    "if all_results:\n",
    "    avg_mse = np.mean([r['mse'] for r in all_results])\n",
    "    avg_rmse = np.mean([r['rmse'] for r in all_results])\n",
    "    avg_mae = np.mean([r['mae'] for r in all_results])\n",
    "    avg_mape = np.mean([r['mape'] for r in all_results])\n",
    "\n",
    "    print(\"\\n\\n==================== 5회 실험 평균 결과 ====================\")\n",
    "    print(f\"✔️ 평균 MSE  : {avg_mse:.4f}\")\n",
    "    print(f\"✔️ 평균 RMSE : {avg_rmse:.4f}\")\n",
    "    print(f\"✔️ 평균 MAE  : {avg_mae:.4f}\")\n",
    "    print(f\"✔️ 평균 MAPE : {avg_mape:.2f}%\")\n",
    "else:\n",
    "    print(\"❌ 실험 결과를 얻지 못했습니다. 오류를 확인해주세요.\")"
   ]
  },
  {
   "cell_type": "code",
   "execution_count": null,
   "id": "af7d7604-e3c7-43d0-a9b4-b2ea905498e1",
   "metadata": {},
   "outputs": [],
   "source": []
  }
 ],
 "metadata": {
  "kernelspec": {
   "display_name": "Python 3 (ipykernel)",
   "language": "python",
   "name": "python3"
  },
  "language_info": {
   "codemirror_mode": {
    "name": "ipython",
    "version": 3
   },
   "file_extension": ".py",
   "mimetype": "text/x-python",
   "name": "python",
   "nbconvert_exporter": "python",
   "pygments_lexer": "ipython3",
   "version": "3.12.3"
  }
 },
 "nbformat": 4,
 "nbformat_minor": 5
}
