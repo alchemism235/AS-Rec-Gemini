{
 "cells": [
  {
   "cell_type": "code",
   "execution_count": 2,
   "id": "aa72bb51-d405-4f8d-8b5c-93c23685ee16",
   "metadata": {},
   "outputs": [
    {
     "name": "stdout",
     "output_type": "stream",
     "text": [
      "Using device: cuda\n",
      "✅ JSON 파일 로드 성공.\n",
      "SBERT 모델 로딩 중...\n",
      "SBERT 모델 로딩 완료.\n",
      "\n",
      "--- Starting Hyperparameter Search with 10 trials ---\n",
      "Data Split Random State: 42\n",
      "SBERT 문맥 벡터 생성 중 (전체 데이터)...\n"
     ]
    },
    {
     "name": "stderr",
     "output_type": "stream",
     "text": [
      "Batches: 100%|██████████| 13994/13994 [06:23<00:00, 36.44it/s] \n"
     ]
    },
    {
     "name": "stdout",
     "output_type": "stream",
     "text": [
      "Fixed Data Split: Train=313456, Val=44780, Test=89560\n",
      "\n",
      "==================== Trial 1/10 ====================\n",
      "Current Parameters: {'embed_dim': 128, 'hidden_dims': [256, 128], 'learning_rate': 0.001, 'batch_size': 128, 'patience': 10}\n",
      "모델 학습 시작...\n"
     ]
    },
    {
     "name": "stderr",
     "output_type": "stream",
     "text": [
      "                                                                                             "
     ]
    },
    {
     "name": "stdout",
     "output_type": "stream",
     "text": [
      "Epoch 1 | Train Loss: 0.8242 | Val RMSE: 0.8432, MAE: 0.6711, MAPE: 24.08%\n"
     ]
    },
    {
     "name": "stderr",
     "output_type": "stream",
     "text": [
      "                                                                                             "
     ]
    },
    {
     "name": "stdout",
     "output_type": "stream",
     "text": [
      "Epoch 2 | Train Loss: 0.6458 | Val RMSE: 0.8237, MAE: 0.6498, MAPE: 23.92%\n"
     ]
    },
    {
     "name": "stderr",
     "output_type": "stream",
     "text": [
      "                                                                                             "
     ]
    },
    {
     "name": "stdout",
     "output_type": "stream",
     "text": [
      "Epoch 3 | Train Loss: 0.5841 | Val RMSE: 0.8218, MAE: 0.6433, MAPE: 23.97%\n"
     ]
    },
    {
     "name": "stderr",
     "output_type": "stream",
     "text": [
      "                                                                                             "
     ]
    },
    {
     "name": "stdout",
     "output_type": "stream",
     "text": [
      "Epoch 4 | Train Loss: 0.5274 | Val RMSE: 0.8129, MAE: 0.6331, MAPE: 22.95%\n"
     ]
    },
    {
     "name": "stderr",
     "output_type": "stream",
     "text": [
      "                                                                                             "
     ]
    },
    {
     "name": "stdout",
     "output_type": "stream",
     "text": [
      "Epoch 5 | Train Loss: 0.4593 | Val RMSE: 0.8160, MAE: 0.6302, MAPE: 22.95%\n"
     ]
    },
    {
     "name": "stderr",
     "output_type": "stream",
     "text": [
      "                                                                                             "
     ]
    },
    {
     "name": "stdout",
     "output_type": "stream",
     "text": [
      "Epoch 6 | Train Loss: 0.4035 | Val RMSE: 0.8126, MAE: 0.6252, MAPE: 22.86%\n"
     ]
    },
    {
     "name": "stderr",
     "output_type": "stream",
     "text": [
      "                                                                                             "
     ]
    },
    {
     "name": "stdout",
     "output_type": "stream",
     "text": [
      "Epoch 7 | Train Loss: 0.3513 | Val RMSE: 0.8198, MAE: 0.6332, MAPE: 22.53%\n"
     ]
    },
    {
     "name": "stderr",
     "output_type": "stream",
     "text": [
      "                                                                                             "
     ]
    },
    {
     "name": "stdout",
     "output_type": "stream",
     "text": [
      "Epoch 8 | Train Loss: 0.3037 | Val RMSE: 0.8383, MAE: 0.6416, MAPE: 23.69%\n"
     ]
    },
    {
     "name": "stderr",
     "output_type": "stream",
     "text": [
      "                                                                                             "
     ]
    },
    {
     "name": "stdout",
     "output_type": "stream",
     "text": [
      "Epoch 9 | Train Loss: 0.2602 | Val RMSE: 0.8433, MAE: 0.6494, MAPE: 23.01%\n"
     ]
    },
    {
     "name": "stderr",
     "output_type": "stream",
     "text": [
      "                                                                                              "
     ]
    },
    {
     "name": "stdout",
     "output_type": "stream",
     "text": [
      "Epoch 10 | Train Loss: 0.2229 | Val RMSE: 0.8543, MAE: 0.6540, MAPE: 23.42%\n"
     ]
    },
    {
     "name": "stderr",
     "output_type": "stream",
     "text": [
      "                                                                                              "
     ]
    },
    {
     "name": "stdout",
     "output_type": "stream",
     "text": [
      "Epoch 11 | Train Loss: 0.1914 | Val RMSE: 0.8685, MAE: 0.6638, MAPE: 23.76%\n"
     ]
    },
    {
     "name": "stderr",
     "output_type": "stream",
     "text": [
      "                                                                                              "
     ]
    },
    {
     "name": "stdout",
     "output_type": "stream",
     "text": [
      "Epoch 12 | Train Loss: 0.1648 | Val RMSE: 0.8800, MAE: 0.6713, MAPE: 23.92%\n"
     ]
    },
    {
     "name": "stderr",
     "output_type": "stream",
     "text": [
      "                                                                                               "
     ]
    },
    {
     "name": "stdout",
     "output_type": "stream",
     "text": [
      "Epoch 13 | Train Loss: 0.1436 | Val RMSE: 0.8769, MAE: 0.6691, MAPE: 24.28%\n"
     ]
    },
    {
     "name": "stderr",
     "output_type": "stream",
     "text": [
      "                                                                                               "
     ]
    },
    {
     "name": "stdout",
     "output_type": "stream",
     "text": [
      "Epoch 14 | Train Loss: 0.1256 | Val RMSE: 0.8846, MAE: 0.6753, MAPE: 24.21%\n"
     ]
    },
    {
     "name": "stderr",
     "output_type": "stream",
     "text": [
      "                                                                                               "
     ]
    },
    {
     "name": "stdout",
     "output_type": "stream",
     "text": [
      "Epoch 15 | Train Loss: 0.1110 | Val RMSE: 0.8884, MAE: 0.6779, MAPE: 24.20%\n"
     ]
    },
    {
     "name": "stderr",
     "output_type": "stream",
     "text": [
      "                                                                                               "
     ]
    },
    {
     "name": "stdout",
     "output_type": "stream",
     "text": [
      "Epoch 16 | Train Loss: 0.0986 | Val RMSE: 0.8921, MAE: 0.6815, MAPE: 24.51%\n",
      "Early stopping triggered for this trial.\n",
      "\n",
      "Loaded best model for trial 1 from temp_ucam_model_trial_1.pt\n",
      "\n",
      "✅ Trial 1 Test Results:\n",
      " - MSE  : 0.6371\n",
      " - RMSE : 0.7982\n",
      " - MAE  : 0.6161\n",
      " - MAPE : 22.44%\n",
      "  --> New overall best RMSE found: 0.7982 with params: {'embed_dim': 128, 'hidden_dims': [256, 128], 'learning_rate': 0.001, 'batch_size': 128, 'patience': 10}\n",
      "\n",
      "==================== Trial 2/10 ====================\n",
      "Current Parameters: {'embed_dim': 32, 'hidden_dims': [256, 128], 'learning_rate': 0.002, 'batch_size': 512, 'patience': 5}\n",
      "모델 학습 시작...\n"
     ]
    },
    {
     "name": "stderr",
     "output_type": "stream",
     "text": [
      "                                                                                          "
     ]
    },
    {
     "name": "stdout",
     "output_type": "stream",
     "text": [
      "Epoch 1 | Train Loss: 0.9355 | Val RMSE: 0.8392, MAE: 0.6643, MAPE: 24.39%\n"
     ]
    },
    {
     "name": "stderr",
     "output_type": "stream",
     "text": [
      "                                                                                          "
     ]
    },
    {
     "name": "stdout",
     "output_type": "stream",
     "text": [
      "Epoch 2 | Train Loss: 0.6551 | Val RMSE: 0.8198, MAE: 0.6429, MAPE: 24.18%\n"
     ]
    },
    {
     "name": "stderr",
     "output_type": "stream",
     "text": [
      "                                                                                          "
     ]
    },
    {
     "name": "stdout",
     "output_type": "stream",
     "text": [
      "Epoch 3 | Train Loss: 0.6050 | Val RMSE: 0.8089, MAE: 0.6381, MAPE: 22.94%\n"
     ]
    },
    {
     "name": "stderr",
     "output_type": "stream",
     "text": [
      "                                                                                          "
     ]
    },
    {
     "name": "stdout",
     "output_type": "stream",
     "text": [
      "Epoch 4 | Train Loss: 0.5648 | Val RMSE: 0.7996, MAE: 0.6269, MAPE: 22.99%\n"
     ]
    },
    {
     "name": "stderr",
     "output_type": "stream",
     "text": [
      "                                                                                          "
     ]
    },
    {
     "name": "stdout",
     "output_type": "stream",
     "text": [
      "Epoch 5 | Train Loss: 0.5326 | Val RMSE: 0.8042, MAE: 0.6295, MAPE: 22.80%\n"
     ]
    },
    {
     "name": "stderr",
     "output_type": "stream",
     "text": [
      "                                                                                          "
     ]
    },
    {
     "name": "stdout",
     "output_type": "stream",
     "text": [
      "Epoch 6 | Train Loss: 0.5062 | Val RMSE: 0.8094, MAE: 0.6304, MAPE: 23.09%\n"
     ]
    },
    {
     "name": "stderr",
     "output_type": "stream",
     "text": [
      "                                                                                          "
     ]
    },
    {
     "name": "stdout",
     "output_type": "stream",
     "text": [
      "Epoch 7 | Train Loss: 0.4663 | Val RMSE: 0.8057, MAE: 0.6207, MAPE: 22.90%\n"
     ]
    },
    {
     "name": "stderr",
     "output_type": "stream",
     "text": [
      "                                                                                          "
     ]
    },
    {
     "name": "stdout",
     "output_type": "stream",
     "text": [
      "Epoch 8 | Train Loss: 0.4285 | Val RMSE: 0.7909, MAE: 0.6086, MAPE: 22.17%\n"
     ]
    },
    {
     "name": "stderr",
     "output_type": "stream",
     "text": [
      "                                                                                          "
     ]
    },
    {
     "name": "stdout",
     "output_type": "stream",
     "text": [
      "Epoch 9 | Train Loss: 0.3973 | Val RMSE: 0.7986, MAE: 0.6131, MAPE: 22.30%\n"
     ]
    },
    {
     "name": "stderr",
     "output_type": "stream",
     "text": [
      "                                                                                           "
     ]
    },
    {
     "name": "stdout",
     "output_type": "stream",
     "text": [
      "Epoch 10 | Train Loss: 0.3686 | Val RMSE: 0.8036, MAE: 0.6120, MAPE: 22.28%\n"
     ]
    },
    {
     "name": "stderr",
     "output_type": "stream",
     "text": [
      "                                                                                           "
     ]
    },
    {
     "name": "stdout",
     "output_type": "stream",
     "text": [
      "Epoch 11 | Train Loss: 0.3420 | Val RMSE: 0.8124, MAE: 0.6172, MAPE: 22.68%\n"
     ]
    },
    {
     "name": "stderr",
     "output_type": "stream",
     "text": [
      "                                                                                           "
     ]
    },
    {
     "name": "stdout",
     "output_type": "stream",
     "text": [
      "Epoch 12 | Train Loss: 0.3160 | Val RMSE: 0.8326, MAE: 0.6406, MAPE: 21.86%\n"
     ]
    },
    {
     "name": "stderr",
     "output_type": "stream",
     "text": [
      "                                                                                            "
     ]
    },
    {
     "name": "stdout",
     "output_type": "stream",
     "text": [
      "Epoch 13 | Train Loss: 0.2913 | Val RMSE: 0.8348, MAE: 0.6298, MAPE: 23.38%\n",
      "Early stopping triggered for this trial.\n",
      "\n",
      "Loaded best model for trial 2 from temp_ucam_model_trial_2.pt\n",
      "\n",
      "✅ Trial 2 Test Results:\n",
      " - MSE  : 0.6080\n",
      " - RMSE : 0.7798\n",
      " - MAE  : 0.6020\n",
      " - MAPE : 21.82%\n",
      "  --> New overall best RMSE found: 0.7798 with params: {'embed_dim': 32, 'hidden_dims': [256, 128], 'learning_rate': 0.002, 'batch_size': 512, 'patience': 5}\n",
      "\n",
      "==================== Trial 3/10 ====================\n",
      "Current Parameters: {'embed_dim': 128, 'hidden_dims': [128, 64], 'learning_rate': 0.002, 'batch_size': 256, 'patience': 5}\n",
      "모델 학습 시작...\n"
     ]
    },
    {
     "name": "stderr",
     "output_type": "stream",
     "text": [
      "                                                                                             "
     ]
    },
    {
     "name": "stdout",
     "output_type": "stream",
     "text": [
      "Epoch 1 | Train Loss: 0.8791 | Val RMSE: 0.8420, MAE: 0.6682, MAPE: 24.50%\n"
     ]
    },
    {
     "name": "stderr",
     "output_type": "stream",
     "text": [
      "                                                                                             "
     ]
    },
    {
     "name": "stdout",
     "output_type": "stream",
     "text": [
      "Epoch 2 | Train Loss: 0.6380 | Val RMSE: 0.8292, MAE: 0.6601, MAPE: 23.38%\n"
     ]
    },
    {
     "name": "stderr",
     "output_type": "stream",
     "text": [
      "                                                                                             "
     ]
    },
    {
     "name": "stdout",
     "output_type": "stream",
     "text": [
      "Epoch 3 | Train Loss: 0.5649 | Val RMSE: 0.8276, MAE: 0.6480, MAPE: 24.25%\n"
     ]
    },
    {
     "name": "stderr",
     "output_type": "stream",
     "text": [
      "                                                                                             "
     ]
    },
    {
     "name": "stdout",
     "output_type": "stream",
     "text": [
      "Epoch 4 | Train Loss: 0.5058 | Val RMSE: 0.8286, MAE: 0.6529, MAPE: 23.48%\n"
     ]
    },
    {
     "name": "stderr",
     "output_type": "stream",
     "text": [
      "                                                                                             "
     ]
    },
    {
     "name": "stdout",
     "output_type": "stream",
     "text": [
      "Epoch 5 | Train Loss: 0.4478 | Val RMSE: 0.8377, MAE: 0.6560, MAPE: 23.91%\n"
     ]
    },
    {
     "name": "stderr",
     "output_type": "stream",
     "text": [
      "                                                                                             "
     ]
    },
    {
     "name": "stdout",
     "output_type": "stream",
     "text": [
      "Epoch 6 | Train Loss: 0.3857 | Val RMSE: 0.8513, MAE: 0.6645, MAPE: 24.08%\n"
     ]
    },
    {
     "name": "stderr",
     "output_type": "stream",
     "text": [
      "                                                                                             "
     ]
    },
    {
     "name": "stdout",
     "output_type": "stream",
     "text": [
      "Epoch 7 | Train Loss: 0.3236 | Val RMSE: 0.8539, MAE: 0.6665, MAPE: 24.01%\n"
     ]
    },
    {
     "name": "stderr",
     "output_type": "stream",
     "text": [
      "                                                                                             "
     ]
    },
    {
     "name": "stdout",
     "output_type": "stream",
     "text": [
      "Epoch 8 | Train Loss: 0.2651 | Val RMSE: 0.8794, MAE: 0.6800, MAPE: 25.25%\n",
      "Early stopping triggered for this trial.\n",
      "\n",
      "Loaded best model for trial 3 from temp_ucam_model_trial_3.pt\n",
      "\n",
      "✅ Trial 3 Test Results:\n",
      " - MSE  : 0.6682\n",
      " - RMSE : 0.8174\n",
      " - MAE  : 0.6421\n",
      " - MAPE : 23.87%\n",
      "\n",
      "==================== Trial 4/10 ====================\n",
      "Current Parameters: {'embed_dim': 64, 'hidden_dims': [128, 64], 'learning_rate': 0.002, 'batch_size': 256, 'patience': 10}\n",
      "모델 학습 시작...\n"
     ]
    },
    {
     "name": "stderr",
     "output_type": "stream",
     "text": [
      "                                                                                             "
     ]
    },
    {
     "name": "stdout",
     "output_type": "stream",
     "text": [
      "Epoch 1 | Train Loss: 0.8744 | Val RMSE: 0.8411, MAE: 0.6692, MAPE: 23.90%\n"
     ]
    },
    {
     "name": "stderr",
     "output_type": "stream",
     "text": [
      "                                                                                             "
     ]
    },
    {
     "name": "stdout",
     "output_type": "stream",
     "text": [
      "Epoch 2 | Train Loss: 0.6413 | Val RMSE: 0.8167, MAE: 0.6430, MAPE: 23.64%\n"
     ]
    },
    {
     "name": "stderr",
     "output_type": "stream",
     "text": [
      "                                                                                             "
     ]
    },
    {
     "name": "stdout",
     "output_type": "stream",
     "text": [
      "Epoch 3 | Train Loss: 0.5815 | Val RMSE: 0.8174, MAE: 0.6395, MAPE: 23.91%\n"
     ]
    },
    {
     "name": "stderr",
     "output_type": "stream",
     "text": [
      "                                                                                             "
     ]
    },
    {
     "name": "stdout",
     "output_type": "stream",
     "text": [
      "Epoch 4 | Train Loss: 0.5324 | Val RMSE: 0.8197, MAE: 0.6478, MAPE: 22.90%\n"
     ]
    },
    {
     "name": "stderr",
     "output_type": "stream",
     "text": [
      "                                                                                             "
     ]
    },
    {
     "name": "stdout",
     "output_type": "stream",
     "text": [
      "Epoch 5 | Train Loss: 0.4861 | Val RMSE: 0.8171, MAE: 0.6346, MAPE: 23.15%\n"
     ]
    },
    {
     "name": "stderr",
     "output_type": "stream",
     "text": [
      "                                                                                             "
     ]
    },
    {
     "name": "stdout",
     "output_type": "stream",
     "text": [
      "Epoch 6 | Train Loss: 0.4245 | Val RMSE: 0.8133, MAE: 0.6283, MAPE: 23.01%\n"
     ]
    },
    {
     "name": "stderr",
     "output_type": "stream",
     "text": [
      "                                                                                             "
     ]
    },
    {
     "name": "stdout",
     "output_type": "stream",
     "text": [
      "Epoch 7 | Train Loss: 0.3711 | Val RMSE: 0.8190, MAE: 0.6342, MAPE: 22.49%\n"
     ]
    },
    {
     "name": "stderr",
     "output_type": "stream",
     "text": [
      "                                                                                             "
     ]
    },
    {
     "name": "stdout",
     "output_type": "stream",
     "text": [
      "Epoch 8 | Train Loss: 0.3232 | Val RMSE: 0.8285, MAE: 0.6369, MAPE: 22.73%\n"
     ]
    },
    {
     "name": "stderr",
     "output_type": "stream",
     "text": [
      "                                                                                             "
     ]
    },
    {
     "name": "stdout",
     "output_type": "stream",
     "text": [
      "Epoch 9 | Train Loss: 0.2814 | Val RMSE: 0.8466, MAE: 0.6472, MAPE: 23.78%\n"
     ]
    },
    {
     "name": "stderr",
     "output_type": "stream",
     "text": [
      "                                                                                              "
     ]
    },
    {
     "name": "stdout",
     "output_type": "stream",
     "text": [
      "Epoch 10 | Train Loss: 0.2456 | Val RMSE: 0.8522, MAE: 0.6535, MAPE: 23.40%\n"
     ]
    },
    {
     "name": "stderr",
     "output_type": "stream",
     "text": [
      "                                                                                              "
     ]
    },
    {
     "name": "stdout",
     "output_type": "stream",
     "text": [
      "Epoch 11 | Train Loss: 0.2136 | Val RMSE: 0.8622, MAE: 0.6558, MAPE: 24.31%\n"
     ]
    },
    {
     "name": "stderr",
     "output_type": "stream",
     "text": [
      "                                                                                              "
     ]
    },
    {
     "name": "stdout",
     "output_type": "stream",
     "text": [
      "Epoch 12 | Train Loss: 0.1877 | Val RMSE: 0.8698, MAE: 0.6647, MAPE: 23.95%\n"
     ]
    },
    {
     "name": "stderr",
     "output_type": "stream",
     "text": [
      "                                                                                              "
     ]
    },
    {
     "name": "stdout",
     "output_type": "stream",
     "text": [
      "Epoch 13 | Train Loss: 0.1666 | Val RMSE: 0.8792, MAE: 0.6688, MAPE: 24.83%\n"
     ]
    },
    {
     "name": "stderr",
     "output_type": "stream",
     "text": [
      "                                                                                              "
     ]
    },
    {
     "name": "stdout",
     "output_type": "stream",
     "text": [
      "Epoch 14 | Train Loss: 0.1477 | Val RMSE: 0.8856, MAE: 0.6755, MAPE: 24.18%\n"
     ]
    },
    {
     "name": "stderr",
     "output_type": "stream",
     "text": [
      "                                                                                               "
     ]
    },
    {
     "name": "stdout",
     "output_type": "stream",
     "text": [
      "Epoch 15 | Train Loss: 0.1325 | Val RMSE: 0.8895, MAE: 0.6793, MAPE: 24.57%\n"
     ]
    },
    {
     "name": "stderr",
     "output_type": "stream",
     "text": [
      "                                                                                               "
     ]
    },
    {
     "name": "stdout",
     "output_type": "stream",
     "text": [
      "Epoch 16 | Train Loss: 0.1205 | Val RMSE: 0.8983, MAE: 0.6855, MAPE: 24.53%\n",
      "Early stopping triggered for this trial.\n",
      "\n",
      "Loaded best model for trial 4 from temp_ucam_model_trial_4.pt\n",
      "\n",
      "✅ Trial 4 Test Results:\n",
      " - MSE  : 0.6458\n",
      " - RMSE : 0.8036\n",
      " - MAE  : 0.6224\n",
      " - MAPE : 22.68%\n",
      "\n",
      "==================== Trial 5/10 ====================\n",
      "Current Parameters: {'embed_dim': 128, 'hidden_dims': [64, 32], 'learning_rate': 0.0005, 'batch_size': 256, 'patience': 10}\n",
      "모델 학습 시작...\n"
     ]
    },
    {
     "name": "stderr",
     "output_type": "stream",
     "text": [
      "                                                                                             "
     ]
    },
    {
     "name": "stdout",
     "output_type": "stream",
     "text": [
      "Epoch 1 | Train Loss: 1.3791 | Val RMSE: 0.8581, MAE: 0.6811, MAPE: 25.50%\n"
     ]
    },
    {
     "name": "stderr",
     "output_type": "stream",
     "text": [
      "                                                                                             "
     ]
    },
    {
     "name": "stdout",
     "output_type": "stream",
     "text": [
      "Epoch 2 | Train Loss: 0.6750 | Val RMSE: 0.8209, MAE: 0.6443, MAPE: 23.37%\n"
     ]
    },
    {
     "name": "stderr",
     "output_type": "stream",
     "text": [
      "                                                                                             "
     ]
    },
    {
     "name": "stdout",
     "output_type": "stream",
     "text": [
      "Epoch 3 | Train Loss: 0.6028 | Val RMSE: 0.8053, MAE: 0.6301, MAPE: 22.54%\n"
     ]
    },
    {
     "name": "stderr",
     "output_type": "stream",
     "text": [
      "                                                                                             "
     ]
    },
    {
     "name": "stdout",
     "output_type": "stream",
     "text": [
      "Epoch 4 | Train Loss: 0.5590 | Val RMSE: 0.7958, MAE: 0.6211, MAPE: 22.21%\n"
     ]
    },
    {
     "name": "stderr",
     "output_type": "stream",
     "text": [
      "                                                                                             "
     ]
    },
    {
     "name": "stdout",
     "output_type": "stream",
     "text": [
      "Epoch 5 | Train Loss: 0.5249 | Val RMSE: 0.7941, MAE: 0.6155, MAPE: 22.45%\n"
     ]
    },
    {
     "name": "stderr",
     "output_type": "stream",
     "text": [
      "                                                                                             "
     ]
    },
    {
     "name": "stdout",
     "output_type": "stream",
     "text": [
      "Epoch 6 | Train Loss: 0.4952 | Val RMSE: 0.7918, MAE: 0.6139, MAPE: 21.99%\n"
     ]
    },
    {
     "name": "stderr",
     "output_type": "stream",
     "text": [
      "                                                                                             "
     ]
    },
    {
     "name": "stdout",
     "output_type": "stream",
     "text": [
      "Epoch 7 | Train Loss: 0.4675 | Val RMSE: 0.7944, MAE: 0.6142, MAPE: 22.11%\n"
     ]
    },
    {
     "name": "stderr",
     "output_type": "stream",
     "text": [
      "                                                                                             "
     ]
    },
    {
     "name": "stdout",
     "output_type": "stream",
     "text": [
      "Epoch 8 | Train Loss: 0.4410 | Val RMSE: 0.7944, MAE: 0.6159, MAPE: 21.88%\n"
     ]
    },
    {
     "name": "stderr",
     "output_type": "stream",
     "text": [
      "                                                                                             "
     ]
    },
    {
     "name": "stdout",
     "output_type": "stream",
     "text": [
      "Epoch 9 | Train Loss: 0.4145 | Val RMSE: 0.7974, MAE: 0.6169, MAPE: 21.78%\n"
     ]
    },
    {
     "name": "stderr",
     "output_type": "stream",
     "text": [
      "                                                                                              "
     ]
    },
    {
     "name": "stdout",
     "output_type": "stream",
     "text": [
      "Epoch 10 | Train Loss: 0.3893 | Val RMSE: 0.8016, MAE: 0.6199, MAPE: 22.07%\n"
     ]
    },
    {
     "name": "stderr",
     "output_type": "stream",
     "text": [
      "                                                                                              "
     ]
    },
    {
     "name": "stdout",
     "output_type": "stream",
     "text": [
      "Epoch 11 | Train Loss: 0.3653 | Val RMSE: 0.8077, MAE: 0.6266, MAPE: 21.80%\n"
     ]
    },
    {
     "name": "stderr",
     "output_type": "stream",
     "text": [
      "                                                                                              "
     ]
    },
    {
     "name": "stdout",
     "output_type": "stream",
     "text": [
      "Epoch 12 | Train Loss: 0.3423 | Val RMSE: 0.8129, MAE: 0.6250, MAPE: 22.55%\n"
     ]
    },
    {
     "name": "stderr",
     "output_type": "stream",
     "text": [
      "                                                                                              "
     ]
    },
    {
     "name": "stdout",
     "output_type": "stream",
     "text": [
      "Epoch 13 | Train Loss: 0.3198 | Val RMSE: 0.8194, MAE: 0.6311, MAPE: 22.51%\n"
     ]
    },
    {
     "name": "stderr",
     "output_type": "stream",
     "text": [
      "                                                                                              "
     ]
    },
    {
     "name": "stdout",
     "output_type": "stream",
     "text": [
      "Epoch 14 | Train Loss: 0.2991 | Val RMSE: 0.8247, MAE: 0.6336, MAPE: 22.73%\n"
     ]
    },
    {
     "name": "stderr",
     "output_type": "stream",
     "text": [
      "                                                                                              "
     ]
    },
    {
     "name": "stdout",
     "output_type": "stream",
     "text": [
      "Epoch 15 | Train Loss: 0.2789 | Val RMSE: 0.8305, MAE: 0.6390, MAPE: 22.66%\n"
     ]
    },
    {
     "name": "stderr",
     "output_type": "stream",
     "text": [
      "                                                                                              "
     ]
    },
    {
     "name": "stdout",
     "output_type": "stream",
     "text": [
      "Epoch 16 | Train Loss: 0.2603 | Val RMSE: 0.8401, MAE: 0.6450, MAPE: 22.90%\n",
      "Early stopping triggered for this trial.\n",
      "\n",
      "Loaded best model for trial 5 from temp_ucam_model_trial_5.pt\n",
      "\n",
      "✅ Trial 5 Test Results:\n",
      " - MSE  : 0.6111\n",
      " - RMSE : 0.7818\n",
      " - MAE  : 0.6073\n",
      " - MAPE : 21.73%\n",
      "\n",
      "==================== Trial 6/10 ====================\n",
      "Current Parameters: {'embed_dim': 128, 'hidden_dims': [256, 128], 'learning_rate': 0.002, 'batch_size': 512, 'patience': 7}\n",
      "모델 학습 시작...\n"
     ]
    },
    {
     "name": "stderr",
     "output_type": "stream",
     "text": [
      "                                                                                           "
     ]
    },
    {
     "name": "stdout",
     "output_type": "stream",
     "text": [
      "Epoch 1 | Train Loss: 0.9172 | Val RMSE: 0.8448, MAE: 0.6699, MAPE: 24.93%\n"
     ]
    },
    {
     "name": "stderr",
     "output_type": "stream",
     "text": [
      "                                                                                          "
     ]
    },
    {
     "name": "stdout",
     "output_type": "stream",
     "text": [
      "Epoch 2 | Train Loss: 0.6433 | Val RMSE: 0.8283, MAE: 0.6540, MAPE: 24.12%\n"
     ]
    },
    {
     "name": "stderr",
     "output_type": "stream",
     "text": [
      "                                                                                          "
     ]
    },
    {
     "name": "stdout",
     "output_type": "stream",
     "text": [
      "Epoch 3 | Train Loss: 0.5803 | Val RMSE: 0.8220, MAE: 0.6491, MAPE: 23.58%\n"
     ]
    },
    {
     "name": "stderr",
     "output_type": "stream",
     "text": [
      "                                                                                          "
     ]
    },
    {
     "name": "stdout",
     "output_type": "stream",
     "text": [
      "Epoch 4 | Train Loss: 0.5279 | Val RMSE: 0.8247, MAE: 0.6486, MAPE: 23.82%\n"
     ]
    },
    {
     "name": "stderr",
     "output_type": "stream",
     "text": [
      "                                                                                          "
     ]
    },
    {
     "name": "stdout",
     "output_type": "stream",
     "text": [
      "Epoch 5 | Train Loss: 0.4809 | Val RMSE: 0.8343, MAE: 0.6571, MAPE: 23.63%\n"
     ]
    },
    {
     "name": "stderr",
     "output_type": "stream",
     "text": [
      "                                                                                          "
     ]
    },
    {
     "name": "stdout",
     "output_type": "stream",
     "text": [
      "Epoch 6 | Train Loss: 0.4359 | Val RMSE: 0.8406, MAE: 0.6628, MAPE: 23.63%\n"
     ]
    },
    {
     "name": "stderr",
     "output_type": "stream",
     "text": [
      "                                                                                          "
     ]
    },
    {
     "name": "stdout",
     "output_type": "stream",
     "text": [
      "Epoch 7 | Train Loss: 0.3856 | Val RMSE: 0.8731, MAE: 0.6787, MAPE: 25.50%\n"
     ]
    },
    {
     "name": "stderr",
     "output_type": "stream",
     "text": [
      "                                                                                          "
     ]
    },
    {
     "name": "stdout",
     "output_type": "stream",
     "text": [
      "Epoch 8 | Train Loss: 0.3278 | Val RMSE: 0.8540, MAE: 0.6660, MAPE: 23.43%\n"
     ]
    },
    {
     "name": "stderr",
     "output_type": "stream",
     "text": [
      "                                                                                          "
     ]
    },
    {
     "name": "stdout",
     "output_type": "stream",
     "text": [
      "Epoch 9 | Train Loss: 0.2709 | Val RMSE: 0.8647, MAE: 0.6734, MAPE: 23.47%\n"
     ]
    },
    {
     "name": "stderr",
     "output_type": "stream",
     "text": [
      "                                                                                           "
     ]
    },
    {
     "name": "stdout",
     "output_type": "stream",
     "text": [
      "Epoch 10 | Train Loss: 0.2272 | Val RMSE: 0.8698, MAE: 0.6713, MAPE: 24.36%\n",
      "Early stopping triggered for this trial.\n",
      "\n",
      "Loaded best model for trial 6 from temp_ucam_model_trial_6.pt\n",
      "\n",
      "✅ Trial 6 Test Results:\n",
      " - MSE  : 0.6603\n",
      " - RMSE : 0.8126\n",
      " - MAE  : 0.6434\n",
      " - MAPE : 23.22%\n",
      "\n",
      "==================== Trial 7/10 ====================\n",
      "Current Parameters: {'embed_dim': 32, 'hidden_dims': [256, 128], 'learning_rate': 0.001, 'batch_size': 512, 'patience': 7}\n",
      "모델 학습 시작...\n"
     ]
    },
    {
     "name": "stderr",
     "output_type": "stream",
     "text": [
      "                                                                                          "
     ]
    },
    {
     "name": "stdout",
     "output_type": "stream",
     "text": [
      "Epoch 1 | Train Loss: 1.0367 | Val RMSE: 0.8488, MAE: 0.6716, MAPE: 25.00%\n"
     ]
    },
    {
     "name": "stderr",
     "output_type": "stream",
     "text": [
      "                                                                                           "
     ]
    },
    {
     "name": "stdout",
     "output_type": "stream",
     "text": [
      "Epoch 2 | Train Loss: 0.6789 | Val RMSE: 0.8269, MAE: 0.6518, MAPE: 24.20%\n"
     ]
    },
    {
     "name": "stderr",
     "output_type": "stream",
     "text": [
      "                                                                                           "
     ]
    },
    {
     "name": "stdout",
     "output_type": "stream",
     "text": [
      "Epoch 3 | Train Loss: 0.6401 | Val RMSE: 0.8175, MAE: 0.6476, MAPE: 23.31%\n"
     ]
    },
    {
     "name": "stderr",
     "output_type": "stream",
     "text": [
      "                                                                                           "
     ]
    },
    {
     "name": "stdout",
     "output_type": "stream",
     "text": [
      "Epoch 4 | Train Loss: 0.6062 | Val RMSE: 0.8078, MAE: 0.6378, MAPE: 22.95%\n"
     ]
    },
    {
     "name": "stderr",
     "output_type": "stream",
     "text": [
      "                                                                                           "
     ]
    },
    {
     "name": "stdout",
     "output_type": "stream",
     "text": [
      "Epoch 5 | Train Loss: 0.5684 | Val RMSE: 0.7966, MAE: 0.6183, MAPE: 22.80%\n"
     ]
    },
    {
     "name": "stderr",
     "output_type": "stream",
     "text": [
      "                                                                                          "
     ]
    },
    {
     "name": "stdout",
     "output_type": "stream",
     "text": [
      "Epoch 6 | Train Loss: 0.5223 | Val RMSE: 0.7810, MAE: 0.6042, MAPE: 21.48%\n"
     ]
    },
    {
     "name": "stderr",
     "output_type": "stream",
     "text": [
      "                                                                                          "
     ]
    },
    {
     "name": "stdout",
     "output_type": "stream",
     "text": [
      "Epoch 7 | Train Loss: 0.4877 | Val RMSE: 0.7782, MAE: 0.6010, MAPE: 21.36%\n"
     ]
    },
    {
     "name": "stderr",
     "output_type": "stream",
     "text": [
      "                                                                                           "
     ]
    },
    {
     "name": "stdout",
     "output_type": "stream",
     "text": [
      "Epoch 8 | Train Loss: 0.4633 | Val RMSE: 0.7784, MAE: 0.5967, MAPE: 21.77%\n"
     ]
    },
    {
     "name": "stderr",
     "output_type": "stream",
     "text": [
      "                                                                                           "
     ]
    },
    {
     "name": "stdout",
     "output_type": "stream",
     "text": [
      "Epoch 9 | Train Loss: 0.4401 | Val RMSE: 0.7763, MAE: 0.5960, MAPE: 21.46%\n"
     ]
    },
    {
     "name": "stderr",
     "output_type": "stream",
     "text": [
      "                                                                                           "
     ]
    },
    {
     "name": "stdout",
     "output_type": "stream",
     "text": [
      "Epoch 10 | Train Loss: 0.4217 | Val RMSE: 0.7755, MAE: 0.5947, MAPE: 21.37%\n"
     ]
    },
    {
     "name": "stderr",
     "output_type": "stream",
     "text": [
      "                                                                                            "
     ]
    },
    {
     "name": "stdout",
     "output_type": "stream",
     "text": [
      "Epoch 11 | Train Loss: 0.4032 | Val RMSE: 0.7828, MAE: 0.5960, MAPE: 21.78%\n"
     ]
    },
    {
     "name": "stderr",
     "output_type": "stream",
     "text": [
      "                                                                                            "
     ]
    },
    {
     "name": "stdout",
     "output_type": "stream",
     "text": [
      "Epoch 12 | Train Loss: 0.3859 | Val RMSE: 0.7887, MAE: 0.6060, MAPE: 20.82%\n"
     ]
    },
    {
     "name": "stderr",
     "output_type": "stream",
     "text": [
      "                                                                                            "
     ]
    },
    {
     "name": "stdout",
     "output_type": "stream",
     "text": [
      "Epoch 13 | Train Loss: 0.3678 | Val RMSE: 0.7861, MAE: 0.5969, MAPE: 21.07%\n"
     ]
    },
    {
     "name": "stderr",
     "output_type": "stream",
     "text": [
      "                                                                                            "
     ]
    },
    {
     "name": "stdout",
     "output_type": "stream",
     "text": [
      "Epoch 14 | Train Loss: 0.3509 | Val RMSE: 0.7897, MAE: 0.5975, MAPE: 21.21%\n"
     ]
    },
    {
     "name": "stderr",
     "output_type": "stream",
     "text": [
      "                                                                                           "
     ]
    },
    {
     "name": "stdout",
     "output_type": "stream",
     "text": [
      "Epoch 15 | Train Loss: 0.3350 | Val RMSE: 0.7922, MAE: 0.5976, MAPE: 21.68%\n"
     ]
    },
    {
     "name": "stderr",
     "output_type": "stream",
     "text": [
      "                                                                                           "
     ]
    },
    {
     "name": "stdout",
     "output_type": "stream",
     "text": [
      "Epoch 16 | Train Loss: 0.3192 | Val RMSE: 0.7971, MAE: 0.6043, MAPE: 21.07%\n"
     ]
    },
    {
     "name": "stderr",
     "output_type": "stream",
     "text": [
      "                                                                                           "
     ]
    },
    {
     "name": "stdout",
     "output_type": "stream",
     "text": [
      "Epoch 17 | Train Loss: 0.3038 | Val RMSE: 0.7988, MAE: 0.6027, MAPE: 21.45%\n",
      "Early stopping triggered for this trial.\n",
      "\n",
      "Loaded best model for trial 7 from temp_ucam_model_trial_7.pt\n",
      "\n",
      "✅ Trial 7 Test Results:\n",
      " - MSE  : 0.5824\n",
      " - RMSE : 0.7631\n",
      " - MAE  : 0.5880\n",
      " - MAPE : 21.03%\n",
      "  --> New overall best RMSE found: 0.7631 with params: {'embed_dim': 32, 'hidden_dims': [256, 128], 'learning_rate': 0.001, 'batch_size': 512, 'patience': 7}\n",
      "\n",
      "==================== Trial 8/10 ====================\n",
      "Current Parameters: {'embed_dim': 32, 'hidden_dims': [64, 32], 'learning_rate': 0.0005, 'batch_size': 128, 'patience': 7}\n",
      "모델 학습 시작...\n"
     ]
    },
    {
     "name": "stderr",
     "output_type": "stream",
     "text": [
      "                                                                                             "
     ]
    },
    {
     "name": "stdout",
     "output_type": "stream",
     "text": [
      "Epoch 1 | Train Loss: 1.1320 | Val RMSE: 0.8400, MAE: 0.6612, MAPE: 24.45%\n"
     ]
    },
    {
     "name": "stderr",
     "output_type": "stream",
     "text": [
      "                                                                                             "
     ]
    },
    {
     "name": "stdout",
     "output_type": "stream",
     "text": [
      "Epoch 2 | Train Loss: 0.6518 | Val RMSE: 0.8033, MAE: 0.6297, MAPE: 22.47%\n"
     ]
    },
    {
     "name": "stderr",
     "output_type": "stream",
     "text": [
      "                                                                                             "
     ]
    },
    {
     "name": "stdout",
     "output_type": "stream",
     "text": [
      "Epoch 3 | Train Loss: 0.6050 | Val RMSE: 0.7899, MAE: 0.6164, MAPE: 22.05%\n"
     ]
    },
    {
     "name": "stderr",
     "output_type": "stream",
     "text": [
      "                                                                                             "
     ]
    },
    {
     "name": "stdout",
     "output_type": "stream",
     "text": [
      "Epoch 4 | Train Loss: 0.5718 | Val RMSE: 0.7795, MAE: 0.6052, MAPE: 21.89%\n"
     ]
    },
    {
     "name": "stderr",
     "output_type": "stream",
     "text": [
      "                                                                                             "
     ]
    },
    {
     "name": "stdout",
     "output_type": "stream",
     "text": [
      "Epoch 5 | Train Loss: 0.5422 | Val RMSE: 0.7713, MAE: 0.5961, MAPE: 21.45%\n"
     ]
    },
    {
     "name": "stderr",
     "output_type": "stream",
     "text": [
      "                                                                                             "
     ]
    },
    {
     "name": "stdout",
     "output_type": "stream",
     "text": [
      "Epoch 6 | Train Loss: 0.5173 | Val RMSE: 0.7663, MAE: 0.5887, MAPE: 21.54%\n"
     ]
    },
    {
     "name": "stderr",
     "output_type": "stream",
     "text": [
      "                                                                                             "
     ]
    },
    {
     "name": "stdout",
     "output_type": "stream",
     "text": [
      "Epoch 7 | Train Loss: 0.4957 | Val RMSE: 0.7663, MAE: 0.5898, MAPE: 21.08%\n"
     ]
    },
    {
     "name": "stderr",
     "output_type": "stream",
     "text": [
      "                                                                                             "
     ]
    },
    {
     "name": "stdout",
     "output_type": "stream",
     "text": [
      "Epoch 8 | Train Loss: 0.4755 | Val RMSE: 0.7676, MAE: 0.5934, MAPE: 21.21%\n"
     ]
    },
    {
     "name": "stderr",
     "output_type": "stream",
     "text": [
      "                                                                                             "
     ]
    },
    {
     "name": "stdout",
     "output_type": "stream",
     "text": [
      "Epoch 9 | Train Loss: 0.4578 | Val RMSE: 0.7663, MAE: 0.5928, MAPE: 20.93%\n"
     ]
    },
    {
     "name": "stderr",
     "output_type": "stream",
     "text": [
      "                                                                                              "
     ]
    },
    {
     "name": "stdout",
     "output_type": "stream",
     "text": [
      "Epoch 10 | Train Loss: 0.4405 | Val RMSE: 0.7657, MAE: 0.5882, MAPE: 21.11%\n"
     ]
    },
    {
     "name": "stderr",
     "output_type": "stream",
     "text": [
      "                                                                                              "
     ]
    },
    {
     "name": "stdout",
     "output_type": "stream",
     "text": [
      "Epoch 11 | Train Loss: 0.4241 | Val RMSE: 0.7705, MAE: 0.5928, MAPE: 20.95%\n"
     ]
    },
    {
     "name": "stderr",
     "output_type": "stream",
     "text": [
      "                                                                                              "
     ]
    },
    {
     "name": "stdout",
     "output_type": "stream",
     "text": [
      "Epoch 12 | Train Loss: 0.4092 | Val RMSE: 0.7740, MAE: 0.5946, MAPE: 21.14%\n"
     ]
    },
    {
     "name": "stderr",
     "output_type": "stream",
     "text": [
      "                                                                                              "
     ]
    },
    {
     "name": "stdout",
     "output_type": "stream",
     "text": [
      "Epoch 13 | Train Loss: 0.3944 | Val RMSE: 0.7776, MAE: 0.5926, MAPE: 21.40%\n"
     ]
    },
    {
     "name": "stderr",
     "output_type": "stream",
     "text": [
      "                                                                                              "
     ]
    },
    {
     "name": "stdout",
     "output_type": "stream",
     "text": [
      "Epoch 14 | Train Loss: 0.3805 | Val RMSE: 0.7826, MAE: 0.5940, MAPE: 21.26%\n"
     ]
    },
    {
     "name": "stderr",
     "output_type": "stream",
     "text": [
      "                                                                                              "
     ]
    },
    {
     "name": "stdout",
     "output_type": "stream",
     "text": [
      "Epoch 15 | Train Loss: 0.3673 | Val RMSE: 0.7861, MAE: 0.5964, MAPE: 21.47%\n"
     ]
    },
    {
     "name": "stderr",
     "output_type": "stream",
     "text": [
      "                                                                                              "
     ]
    },
    {
     "name": "stdout",
     "output_type": "stream",
     "text": [
      "Epoch 16 | Train Loss: 0.3543 | Val RMSE: 0.7912, MAE: 0.5994, MAPE: 21.70%\n"
     ]
    },
    {
     "name": "stderr",
     "output_type": "stream",
     "text": [
      "                                                                                              "
     ]
    },
    {
     "name": "stdout",
     "output_type": "stream",
     "text": [
      "Epoch 17 | Train Loss: 0.3417 | Val RMSE: 0.7959, MAE: 0.6011, MAPE: 21.95%\n",
      "Early stopping triggered for this trial.\n",
      "\n",
      "Loaded best model for trial 8 from temp_ucam_model_trial_8.pt\n",
      "\n",
      "✅ Trial 8 Test Results:\n",
      " - MSE  : 0.5692\n",
      " - RMSE : 0.7545\n",
      " - MAE  : 0.5827\n",
      " - MAPE : 20.83%\n",
      "  --> New overall best RMSE found: 0.7545 with params: {'embed_dim': 32, 'hidden_dims': [64, 32], 'learning_rate': 0.0005, 'batch_size': 128, 'patience': 7}\n",
      "\n",
      "==================== Trial 9/10 ====================\n",
      "Current Parameters: {'embed_dim': 32, 'hidden_dims': [64, 32], 'learning_rate': 0.001, 'batch_size': 512, 'patience': 10}\n",
      "모델 학습 시작...\n"
     ]
    },
    {
     "name": "stderr",
     "output_type": "stream",
     "text": [
      "                                                                                          "
     ]
    },
    {
     "name": "stdout",
     "output_type": "stream",
     "text": [
      "Epoch 1 | Train Loss: 1.4086 | Val RMSE: 0.8621, MAE: 0.6810, MAPE: 25.56%\n"
     ]
    },
    {
     "name": "stderr",
     "output_type": "stream",
     "text": [
      "                                                                                          "
     ]
    },
    {
     "name": "stdout",
     "output_type": "stream",
     "text": [
      "Epoch 2 | Train Loss: 0.6975 | Val RMSE: 0.8325, MAE: 0.6578, MAPE: 24.20%\n"
     ]
    },
    {
     "name": "stderr",
     "output_type": "stream",
     "text": [
      "                                                                                          "
     ]
    },
    {
     "name": "stdout",
     "output_type": "stream",
     "text": [
      "Epoch 3 | Train Loss: 0.6526 | Val RMSE: 0.8127, MAE: 0.6396, MAPE: 22.59%\n"
     ]
    },
    {
     "name": "stderr",
     "output_type": "stream",
     "text": [
      "                                                                                           "
     ]
    },
    {
     "name": "stdout",
     "output_type": "stream",
     "text": [
      "Epoch 4 | Train Loss: 0.5932 | Val RMSE: 0.7906, MAE: 0.6134, MAPE: 22.20%\n"
     ]
    },
    {
     "name": "stderr",
     "output_type": "stream",
     "text": [
      "                                                                                           "
     ]
    },
    {
     "name": "stdout",
     "output_type": "stream",
     "text": [
      "Epoch 5 | Train Loss: 0.5544 | Val RMSE: 0.7809, MAE: 0.6053, MAPE: 21.99%\n"
     ]
    },
    {
     "name": "stderr",
     "output_type": "stream",
     "text": [
      "                                                                                           "
     ]
    },
    {
     "name": "stdout",
     "output_type": "stream",
     "text": [
      "Epoch 6 | Train Loss: 0.5258 | Val RMSE: 0.7780, MAE: 0.6026, MAPE: 21.51%\n"
     ]
    },
    {
     "name": "stderr",
     "output_type": "stream",
     "text": [
      "                                                                                           "
     ]
    },
    {
     "name": "stdout",
     "output_type": "stream",
     "text": [
      "Epoch 7 | Train Loss: 0.5005 | Val RMSE: 0.7720, MAE: 0.5966, MAPE: 21.41%\n"
     ]
    },
    {
     "name": "stderr",
     "output_type": "stream",
     "text": [
      "                                                                                          "
     ]
    },
    {
     "name": "stdout",
     "output_type": "stream",
     "text": [
      "Epoch 8 | Train Loss: 0.4795 | Val RMSE: 0.7731, MAE: 0.5983, MAPE: 21.17%\n"
     ]
    },
    {
     "name": "stderr",
     "output_type": "stream",
     "text": [
      "                                                                                          "
     ]
    },
    {
     "name": "stdout",
     "output_type": "stream",
     "text": [
      "Epoch 9 | Train Loss: 0.4591 | Val RMSE: 0.7742, MAE: 0.5960, MAPE: 21.48%\n"
     ]
    },
    {
     "name": "stderr",
     "output_type": "stream",
     "text": [
      "                                                                                           "
     ]
    },
    {
     "name": "stdout",
     "output_type": "stream",
     "text": [
      "Epoch 10 | Train Loss: 0.4421 | Val RMSE: 0.7769, MAE: 0.5959, MAPE: 21.64%\n"
     ]
    },
    {
     "name": "stderr",
     "output_type": "stream",
     "text": [
      "                                                                                            "
     ]
    },
    {
     "name": "stdout",
     "output_type": "stream",
     "text": [
      "Epoch 11 | Train Loss: 0.4257 | Val RMSE: 0.7788, MAE: 0.5993, MAPE: 21.39%\n"
     ]
    },
    {
     "name": "stderr",
     "output_type": "stream",
     "text": [
      "                                                                                            "
     ]
    },
    {
     "name": "stdout",
     "output_type": "stream",
     "text": [
      "Epoch 12 | Train Loss: 0.4087 | Val RMSE: 0.7815, MAE: 0.6001, MAPE: 21.57%\n"
     ]
    },
    {
     "name": "stderr",
     "output_type": "stream",
     "text": [
      "                                                                                           "
     ]
    },
    {
     "name": "stdout",
     "output_type": "stream",
     "text": [
      "Epoch 13 | Train Loss: 0.3935 | Val RMSE: 0.7832, MAE: 0.6020, MAPE: 21.60%\n"
     ]
    },
    {
     "name": "stderr",
     "output_type": "stream",
     "text": [
      "                                                                                           "
     ]
    },
    {
     "name": "stdout",
     "output_type": "stream",
     "text": [
      "Epoch 14 | Train Loss: 0.3787 | Val RMSE: 0.7868, MAE: 0.6061, MAPE: 21.53%\n"
     ]
    },
    {
     "name": "stderr",
     "output_type": "stream",
     "text": [
      "                                                                                           "
     ]
    },
    {
     "name": "stdout",
     "output_type": "stream",
     "text": [
      "Epoch 15 | Train Loss: 0.3641 | Val RMSE: 0.7934, MAE: 0.6091, MAPE: 21.79%\n"
     ]
    },
    {
     "name": "stderr",
     "output_type": "stream",
     "text": [
      "                                                                                           "
     ]
    },
    {
     "name": "stdout",
     "output_type": "stream",
     "text": [
      "Epoch 16 | Train Loss: 0.3491 | Val RMSE: 0.7966, MAE: 0.6113, MAPE: 22.03%\n"
     ]
    },
    {
     "name": "stderr",
     "output_type": "stream",
     "text": [
      "                                                                                           "
     ]
    },
    {
     "name": "stdout",
     "output_type": "stream",
     "text": [
      "Epoch 17 | Train Loss: 0.3357 | Val RMSE: 0.8015, MAE: 0.6132, MAPE: 22.27%\n",
      "Early stopping triggered for this trial.\n",
      "\n",
      "Loaded best model for trial 9 from temp_ucam_model_trial_9.pt\n",
      "\n",
      "✅ Trial 9 Test Results:\n",
      " - MSE  : 0.5794\n",
      " - RMSE : 0.7612\n",
      " - MAE  : 0.5913\n",
      " - MAPE : 21.11%\n",
      "\n",
      "==================== Trial 10/10 ====================\n",
      "Current Parameters: {'embed_dim': 32, 'hidden_dims': [64, 32], 'learning_rate': 0.0005, 'batch_size': 512, 'patience': 7}\n",
      "모델 학습 시작...\n"
     ]
    },
    {
     "name": "stderr",
     "output_type": "stream",
     "text": [
      "                                                                                           "
     ]
    },
    {
     "name": "stdout",
     "output_type": "stream",
     "text": [
      "Epoch 1 | Train Loss: 2.1069 | Val RMSE: 0.8924, MAE: 0.7113, MAPE: 26.06%\n"
     ]
    },
    {
     "name": "stderr",
     "output_type": "stream",
     "text": [
      "                                                                                           "
     ]
    },
    {
     "name": "stdout",
     "output_type": "stream",
     "text": [
      "Epoch 2 | Train Loss: 0.7418 | Val RMSE: 0.8511, MAE: 0.6756, MAPE: 24.59%\n"
     ]
    },
    {
     "name": "stderr",
     "output_type": "stream",
     "text": [
      "                                                                                           "
     ]
    },
    {
     "name": "stdout",
     "output_type": "stream",
     "text": [
      "Epoch 3 | Train Loss: 0.6905 | Val RMSE: 0.8360, MAE: 0.6623, MAPE: 24.04%\n"
     ]
    },
    {
     "name": "stderr",
     "output_type": "stream",
     "text": [
      "                                                                                           "
     ]
    },
    {
     "name": "stdout",
     "output_type": "stream",
     "text": [
      "Epoch 4 | Train Loss: 0.6625 | Val RMSE: 0.8247, MAE: 0.6497, MAPE: 23.77%\n"
     ]
    },
    {
     "name": "stderr",
     "output_type": "stream",
     "text": [
      "                                                                                           "
     ]
    },
    {
     "name": "stdout",
     "output_type": "stream",
     "text": [
      "Epoch 5 | Train Loss: 0.6265 | Val RMSE: 0.8042, MAE: 0.6272, MAPE: 22.77%\n"
     ]
    },
    {
     "name": "stderr",
     "output_type": "stream",
     "text": [
      "                                                                                           "
     ]
    },
    {
     "name": "stdout",
     "output_type": "stream",
     "text": [
      "Epoch 6 | Train Loss: 0.5917 | Val RMSE: 0.7951, MAE: 0.6179, MAPE: 22.48%\n"
     ]
    },
    {
     "name": "stderr",
     "output_type": "stream",
     "text": [
      "                                                                                            "
     ]
    },
    {
     "name": "stdout",
     "output_type": "stream",
     "text": [
      "Epoch 7 | Train Loss: 0.5671 | Val RMSE: 0.7864, MAE: 0.6091, MAPE: 22.28%\n"
     ]
    },
    {
     "name": "stderr",
     "output_type": "stream",
     "text": [
      "                                                                                            "
     ]
    },
    {
     "name": "stdout",
     "output_type": "stream",
     "text": [
      "Epoch 8 | Train Loss: 0.5469 | Val RMSE: 0.7802, MAE: 0.6062, MAPE: 21.69%\n"
     ]
    },
    {
     "name": "stderr",
     "output_type": "stream",
     "text": [
      "                                                                                           "
     ]
    },
    {
     "name": "stdout",
     "output_type": "stream",
     "text": [
      "Epoch 9 | Train Loss: 0.5296 | Val RMSE: 0.7772, MAE: 0.6002, MAPE: 21.83%\n"
     ]
    },
    {
     "name": "stderr",
     "output_type": "stream",
     "text": [
      "                                                                                             "
     ]
    },
    {
     "name": "stdout",
     "output_type": "stream",
     "text": [
      "Epoch 10 | Train Loss: 0.5139 | Val RMSE: 0.7784, MAE: 0.5993, MAPE: 22.20%\n"
     ]
    },
    {
     "name": "stderr",
     "output_type": "stream",
     "text": [
      "                                                                                            "
     ]
    },
    {
     "name": "stdout",
     "output_type": "stream",
     "text": [
      "Epoch 11 | Train Loss: 0.4990 | Val RMSE: 0.7729, MAE: 0.5963, MAPE: 21.58%\n"
     ]
    },
    {
     "name": "stderr",
     "output_type": "stream",
     "text": [
      "                                                                                            "
     ]
    },
    {
     "name": "stdout",
     "output_type": "stream",
     "text": [
      "Epoch 12 | Train Loss: 0.4856 | Val RMSE: 0.7713, MAE: 0.5943, MAPE: 21.31%\n"
     ]
    },
    {
     "name": "stderr",
     "output_type": "stream",
     "text": [
      "                                                                                            "
     ]
    },
    {
     "name": "stdout",
     "output_type": "stream",
     "text": [
      "Epoch 13 | Train Loss: 0.4728 | Val RMSE: 0.7693, MAE: 0.5918, MAPE: 21.27%\n"
     ]
    },
    {
     "name": "stderr",
     "output_type": "stream",
     "text": [
      "                                                                                            "
     ]
    },
    {
     "name": "stdout",
     "output_type": "stream",
     "text": [
      "Epoch 14 | Train Loss: 0.4604 | Val RMSE: 0.7701, MAE: 0.5915, MAPE: 21.20%\n"
     ]
    },
    {
     "name": "stderr",
     "output_type": "stream",
     "text": [
      "                                                                                            "
     ]
    },
    {
     "name": "stdout",
     "output_type": "stream",
     "text": [
      "Epoch 15 | Train Loss: 0.4487 | Val RMSE: 0.7732, MAE: 0.5910, MAPE: 21.59%\n"
     ]
    },
    {
     "name": "stderr",
     "output_type": "stream",
     "text": [
      "                                                                                            "
     ]
    },
    {
     "name": "stdout",
     "output_type": "stream",
     "text": [
      "Epoch 16 | Train Loss: 0.4373 | Val RMSE: 0.7804, MAE: 0.5955, MAPE: 22.18%\n"
     ]
    },
    {
     "name": "stderr",
     "output_type": "stream",
     "text": [
      "                                                                                            "
     ]
    },
    {
     "name": "stdout",
     "output_type": "stream",
     "text": [
      "Epoch 17 | Train Loss: 0.4277 | Val RMSE: 0.7736, MAE: 0.5926, MAPE: 21.36%\n"
     ]
    },
    {
     "name": "stderr",
     "output_type": "stream",
     "text": [
      "                                                                                            "
     ]
    },
    {
     "name": "stdout",
     "output_type": "stream",
     "text": [
      "Epoch 18 | Train Loss: 0.4174 | Val RMSE: 0.7747, MAE: 0.5937, MAPE: 21.12%\n"
     ]
    },
    {
     "name": "stderr",
     "output_type": "stream",
     "text": [
      "                                                                                             "
     ]
    },
    {
     "name": "stdout",
     "output_type": "stream",
     "text": [
      "Epoch 19 | Train Loss: 0.4073 | Val RMSE: 0.7792, MAE: 0.5955, MAPE: 21.56%\n"
     ]
    },
    {
     "name": "stderr",
     "output_type": "stream",
     "text": [
      "                                                                                            "
     ]
    },
    {
     "name": "stdout",
     "output_type": "stream",
     "text": [
      "Epoch 20 | Train Loss: 0.3979 | Val RMSE: 0.7789, MAE: 0.5966, MAPE: 21.33%\n",
      "Early stopping triggered for this trial.\n",
      "\n",
      "Loaded best model for trial 10 from temp_ucam_model_trial_10.pt\n",
      "\n",
      "✅ Trial 10 Test Results:\n",
      " - MSE  : 0.5748\n",
      " - RMSE : 0.7582\n",
      " - MAE  : 0.5862\n",
      " - MAPE : 20.95%\n",
      "\n",
      "--- Hyperparameter Search Completed ---\n",
      "Overall Best RMSE found: 0.7545\n",
      "Optimal Parameters: {'embed_dim': 32, 'hidden_dims': [64, 32], 'learning_rate': 0.0005, 'batch_size': 128, 'patience': 7}\n"
     ]
    },
    {
     "ename": "TypeError",
     "evalue": "Object of type float32 is not JSON serializable",
     "output_type": "error",
     "traceback": [
      "\u001b[31m---------------------------------------------------------------------------\u001b[39m",
      "\u001b[31mTypeError\u001b[39m                                 Traceback (most recent call last)",
      "\u001b[36mCell\u001b[39m\u001b[36m \u001b[39m\u001b[32mIn[2]\u001b[39m\u001b[32m, line 331\u001b[39m\n\u001b[32m    329\u001b[39m \u001b[38;5;66;03m# Save the full results log to a JSON file\u001b[39;00m\n\u001b[32m    330\u001b[39m \u001b[38;5;28;01mwith\u001b[39;00m \u001b[38;5;28mopen\u001b[39m(\u001b[33m'\u001b[39m\u001b[33mucam_hyperparameter_search_results.json\u001b[39m\u001b[33m'\u001b[39m, \u001b[33m'\u001b[39m\u001b[33mw\u001b[39m\u001b[33m'\u001b[39m) \u001b[38;5;28;01mas\u001b[39;00m f:\n\u001b[32m--> \u001b[39m\u001b[32m331\u001b[39m     json.dump(results_log, f, indent=\u001b[32m4\u001b[39m)\n\u001b[32m    332\u001b[39m \u001b[38;5;28mprint\u001b[39m(\u001b[33mf\u001b[39m\u001b[33m\"\u001b[39m\u001b[33mFull results logged to \u001b[39m\u001b[33m'\u001b[39m\u001b[33mucam_hyperparameter_search_results.json\u001b[39m\u001b[33m'\u001b[39m\u001b[33m\"\u001b[39m)\n\u001b[32m    333\u001b[39m \u001b[38;5;28mprint\u001b[39m(\u001b[33mf\u001b[39m\u001b[33m\"\u001b[39m\u001b[33mOverall best model weights saved to \u001b[39m\u001b[33m'\u001b[39m\u001b[33mbest_overall_ucam_model.pt\u001b[39m\u001b[33m'\u001b[39m\u001b[33m\"\u001b[39m)\n",
      "\u001b[36mFile \u001b[39m\u001b[32m~\\anaconda3\\Lib\\json\\__init__.py:179\u001b[39m, in \u001b[36mdump\u001b[39m\u001b[34m(obj, fp, skipkeys, ensure_ascii, check_circular, allow_nan, cls, indent, separators, default, sort_keys, **kw)\u001b[39m\n\u001b[32m    173\u001b[39m     iterable = \u001b[38;5;28mcls\u001b[39m(skipkeys=skipkeys, ensure_ascii=ensure_ascii,\n\u001b[32m    174\u001b[39m         check_circular=check_circular, allow_nan=allow_nan, indent=indent,\n\u001b[32m    175\u001b[39m         separators=separators,\n\u001b[32m    176\u001b[39m         default=default, sort_keys=sort_keys, **kw).iterencode(obj)\n\u001b[32m    177\u001b[39m \u001b[38;5;66;03m# could accelerate with writelines in some versions of Python, at\u001b[39;00m\n\u001b[32m    178\u001b[39m \u001b[38;5;66;03m# a debuggability cost\u001b[39;00m\n\u001b[32m--> \u001b[39m\u001b[32m179\u001b[39m \u001b[38;5;28;01mfor\u001b[39;00m chunk \u001b[38;5;129;01min\u001b[39;00m iterable:\n\u001b[32m    180\u001b[39m     fp.write(chunk)\n",
      "\u001b[36mFile \u001b[39m\u001b[32m~\\anaconda3\\Lib\\json\\encoder.py:430\u001b[39m, in \u001b[36m_make_iterencode.<locals>._iterencode\u001b[39m\u001b[34m(o, _current_indent_level)\u001b[39m\n\u001b[32m    428\u001b[39m     \u001b[38;5;28;01myield\u001b[39;00m _floatstr(o)\n\u001b[32m    429\u001b[39m \u001b[38;5;28;01melif\u001b[39;00m \u001b[38;5;28misinstance\u001b[39m(o, (\u001b[38;5;28mlist\u001b[39m, \u001b[38;5;28mtuple\u001b[39m)):\n\u001b[32m--> \u001b[39m\u001b[32m430\u001b[39m     \u001b[38;5;28;01myield from\u001b[39;00m _iterencode_list(o, _current_indent_level)\n\u001b[32m    431\u001b[39m \u001b[38;5;28;01melif\u001b[39;00m \u001b[38;5;28misinstance\u001b[39m(o, \u001b[38;5;28mdict\u001b[39m):\n\u001b[32m    432\u001b[39m     \u001b[38;5;28;01myield from\u001b[39;00m _iterencode_dict(o, _current_indent_level)\n",
      "\u001b[36mFile \u001b[39m\u001b[32m~\\anaconda3\\Lib\\json\\encoder.py:326\u001b[39m, in \u001b[36m_make_iterencode.<locals>._iterencode_list\u001b[39m\u001b[34m(lst, _current_indent_level)\u001b[39m\n\u001b[32m    324\u001b[39m         \u001b[38;5;28;01melse\u001b[39;00m:\n\u001b[32m    325\u001b[39m             chunks = _iterencode(value, _current_indent_level)\n\u001b[32m--> \u001b[39m\u001b[32m326\u001b[39m         \u001b[38;5;28;01myield from\u001b[39;00m chunks\n\u001b[32m    327\u001b[39m \u001b[38;5;28;01mif\u001b[39;00m newline_indent \u001b[38;5;129;01mis\u001b[39;00m \u001b[38;5;129;01mnot\u001b[39;00m \u001b[38;5;28;01mNone\u001b[39;00m:\n\u001b[32m    328\u001b[39m     _current_indent_level -= \u001b[32m1\u001b[39m\n",
      "\u001b[36mFile \u001b[39m\u001b[32m~\\anaconda3\\Lib\\json\\encoder.py:406\u001b[39m, in \u001b[36m_make_iterencode.<locals>._iterencode_dict\u001b[39m\u001b[34m(dct, _current_indent_level)\u001b[39m\n\u001b[32m    404\u001b[39m         \u001b[38;5;28;01melse\u001b[39;00m:\n\u001b[32m    405\u001b[39m             chunks = _iterencode(value, _current_indent_level)\n\u001b[32m--> \u001b[39m\u001b[32m406\u001b[39m         \u001b[38;5;28;01myield from\u001b[39;00m chunks\n\u001b[32m    407\u001b[39m \u001b[38;5;28;01mif\u001b[39;00m newline_indent \u001b[38;5;129;01mis\u001b[39;00m \u001b[38;5;129;01mnot\u001b[39;00m \u001b[38;5;28;01mNone\u001b[39;00m:\n\u001b[32m    408\u001b[39m     _current_indent_level -= \u001b[32m1\u001b[39m\n",
      "\u001b[36mFile \u001b[39m\u001b[32m~\\anaconda3\\Lib\\json\\encoder.py:439\u001b[39m, in \u001b[36m_make_iterencode.<locals>._iterencode\u001b[39m\u001b[34m(o, _current_indent_level)\u001b[39m\n\u001b[32m    437\u001b[39m         \u001b[38;5;28;01mraise\u001b[39;00m \u001b[38;5;167;01mValueError\u001b[39;00m(\u001b[33m\"\u001b[39m\u001b[33mCircular reference detected\u001b[39m\u001b[33m\"\u001b[39m)\n\u001b[32m    438\u001b[39m     markers[markerid] = o\n\u001b[32m--> \u001b[39m\u001b[32m439\u001b[39m o = _default(o)\n\u001b[32m    440\u001b[39m \u001b[38;5;28;01myield from\u001b[39;00m _iterencode(o, _current_indent_level)\n\u001b[32m    441\u001b[39m \u001b[38;5;28;01mif\u001b[39;00m markers \u001b[38;5;129;01mis\u001b[39;00m \u001b[38;5;129;01mnot\u001b[39;00m \u001b[38;5;28;01mNone\u001b[39;00m:\n",
      "\u001b[36mFile \u001b[39m\u001b[32m~\\anaconda3\\Lib\\json\\encoder.py:180\u001b[39m, in \u001b[36mJSONEncoder.default\u001b[39m\u001b[34m(self, o)\u001b[39m\n\u001b[32m    161\u001b[39m \u001b[38;5;28;01mdef\u001b[39;00m \u001b[34mdefault\u001b[39m(\u001b[38;5;28mself\u001b[39m, o):\n\u001b[32m    162\u001b[39m \u001b[38;5;250m    \u001b[39m\u001b[33;03m\"\"\"Implement this method in a subclass such that it returns\u001b[39;00m\n\u001b[32m    163\u001b[39m \u001b[33;03m    a serializable object for ``o``, or calls the base implementation\u001b[39;00m\n\u001b[32m    164\u001b[39m \u001b[33;03m    (to raise a ``TypeError``).\u001b[39;00m\n\u001b[32m   (...)\u001b[39m\u001b[32m    178\u001b[39m \n\u001b[32m    179\u001b[39m \u001b[33;03m    \"\"\"\u001b[39;00m\n\u001b[32m--> \u001b[39m\u001b[32m180\u001b[39m     \u001b[38;5;28;01mraise\u001b[39;00m \u001b[38;5;167;01mTypeError\u001b[39;00m(\u001b[33mf\u001b[39m\u001b[33m'\u001b[39m\u001b[33mObject of type \u001b[39m\u001b[38;5;132;01m{\u001b[39;00mo.\u001b[34m__class__\u001b[39m.\u001b[34m__name__\u001b[39m\u001b[38;5;132;01m}\u001b[39;00m\u001b[33m \u001b[39m\u001b[33m'\u001b[39m\n\u001b[32m    181\u001b[39m                     \u001b[33mf\u001b[39m\u001b[33m'\u001b[39m\u001b[33mis not JSON serializable\u001b[39m\u001b[33m'\u001b[39m)\n",
      "\u001b[31mTypeError\u001b[39m: Object of type float32 is not JSON serializable"
     ]
    }
   ],
   "source": [
    "import json\n",
    "import os\n",
    "import pandas as pd\n",
    "import numpy as np\n",
    "from tqdm import tqdm\n",
    "import torch\n",
    "import torch.nn as nn\n",
    "from torch.utils.data import Dataset, DataLoader\n",
    "from sentence_transformers import SentenceTransformer\n",
    "from sklearn.model_selection import train_test_split\n",
    "from sklearn.metrics import mean_squared_error, mean_absolute_error\n",
    "import random # For randomized search\n",
    "import sys # For min_delta\n",
    "\n",
    "# -------------------- Utility Functions --------------------\n",
    "def mean_absolute_percentage_error(y_true, y_pred):\n",
    "    \"\"\"\n",
    "    Calculates MAPE, preventing division by zero.\n",
    "    \"\"\"\n",
    "    y_true = np.array(y_true)\n",
    "    y_pred = np.array(y_pred)\n",
    "    # Add a small epsilon to prevent division by zero for y_true values that are zero\n",
    "    epsilon = 1e-10\n",
    "    return np.mean(np.abs((y_true - y_pred) / (y_true + epsilon))) * 100\n",
    "\n",
    "# -------------------- Device Setup --------------------\n",
    "device = torch.device('cuda' if torch.cuda.is_available() else 'cpu')\n",
    "print(f\"Using device: {device}\")\n",
    "\n",
    "# -------------------- Step 1: 데이터 로드 및 전처리 (JSON 파일용) --------------------\n",
    "# 'review.json' 파일을 올바르게 로드합니다.\n",
    "try:\n",
    "    # JSON 파일이 한 줄에 하나의 JSON 객체로 되어 있는 경우 (JSONL 형식)\n",
    "    df = pd.read_json('review.json', lines=True)\n",
    "    print(\"✅ JSON 파일 로드 성공.\")\n",
    "except FileNotFoundError:\n",
    "    print(\"❌ Error: 'review.json' 파일이 존재하지 않습니다.\")\n",
    "    sys.exit()\n",
    "except ValueError as e:\n",
    "    # JSON 파일이 단일 JSON 배열인 경우\n",
    "    print(f\"JSONL 형식이 아닌 것 같습니다. 일반 JSON 파일로 다시 시도합니다. (오류: {e})\")\n",
    "    try:\n",
    "        df = pd.read_json('review.json')\n",
    "        print(\"✅ 일반 JSON 파일 로드 성공.\")\n",
    "    except Exception as e:\n",
    "        print(f\"❌ Error: 'review.json' 파일을 읽는 데 실패했습니다. 파일 형식을 확인해주세요. (오류: {e})\")\n",
    "        sys.exit()\n",
    "\n",
    "# 필요한 컬럼만 선택하고, 결측치를 제거합니다.\n",
    "df = df[['user_id', 'business_id', 'stars', 'text']].dropna()\n",
    "\n",
    "# -------------------- SBERT 모델 로딩 (한 번만) --------------------\n",
    "print(\"SBERT 모델 로딩 중...\")\n",
    "sbert_model = SentenceTransformer('all-MiniLM-L6-v2', device=device)\n",
    "print(\"SBERT 모델 로딩 완료.\")\n",
    "\n",
    "# -------------------- Dataset 클래스 정의 --------------------\n",
    "class UCAMDataset(Dataset):\n",
    "    def __init__(self, users, items, ratings, contexts):\n",
    "        self.users = users\n",
    "        self.items = items\n",
    "        self.ratings = ratings\n",
    "        self.contexts = contexts\n",
    "\n",
    "    def __len__(self):\n",
    "        return len(self.ratings)\n",
    "\n",
    "    def __getitem__(self, idx):\n",
    "        return (\n",
    "            torch.tensor(self.users[idx], dtype=torch.long),\n",
    "            torch.tensor(self.items[idx], dtype=torch.long),\n",
    "            torch.tensor(self.contexts[idx], dtype=torch.float32),\n",
    "            torch.tensor(self.ratings[idx], dtype=torch.float32)\n",
    "        )\n",
    "\n",
    "# -------------------- 모델 정의 --------------------\n",
    "class UCAM(nn.Module):\n",
    "    def __init__(self, num_users, num_items, context_dim=384, embed_dim=64, hidden_dims=[128, 64]):\n",
    "        super().__init__()\n",
    "        # '알 수 없음' 인덱스를 위해 +1\n",
    "        self.user_embed = nn.Embedding(num_users + 1, embed_dim)\n",
    "        self.item_embed = nn.Embedding(num_items + 1, embed_dim)\n",
    "\n",
    "        # MLP 레이어 동적으로 생성\n",
    "        layers = []\n",
    "        input_dim = embed_dim * 2 + context_dim\n",
    "        for h_dim in hidden_dims:\n",
    "            layers.append(nn.Linear(input_dim, h_dim))\n",
    "            layers.append(nn.ReLU())\n",
    "            input_dim = h_dim\n",
    "        \n",
    "        layers.append(nn.Linear(input_dim, 1)) # 최종 출력 레이어\n",
    "        self.fc_layers = nn.Sequential(*layers)\n",
    "\n",
    "    def forward(self, user_ids, item_ids, context_vecs):\n",
    "        u = self.user_embed(user_ids)\n",
    "        i = self.item_embed(item_ids)\n",
    "        x = torch.cat([u, i, context_vecs], dim=-1)\n",
    "        return self.fc_layers(x).squeeze()\n",
    "\n",
    "# -------------------- 평가 지표 함수 --------------------\n",
    "def evaluate_model(model, data_loader, device):\n",
    "    model.eval()\n",
    "    preds, targets = [], []\n",
    "\n",
    "    with torch.no_grad():\n",
    "        for users, items, contexts, ratings in data_loader:\n",
    "            users = users.to(device)\n",
    "            items = items.to(device)\n",
    "            contexts = contexts.to(device)\n",
    "            ratings = ratings.to(device)\n",
    "\n",
    "            output = model(users, items, contexts)\n",
    "            preds.extend(output.cpu().numpy())\n",
    "            targets.extend(ratings.cpu().numpy())\n",
    "\n",
    "    preds = np.array(preds)\n",
    "    targets = np.array(targets)\n",
    "\n",
    "    mae = mean_absolute_error(targets, preds)\n",
    "    mse = mean_squared_error(targets, preds)\n",
    "    rmse = np.sqrt(mse)\n",
    "    mape = mean_absolute_percentage_error(targets, preds)\n",
    "\n",
    "    return mae, mse, rmse, mape\n",
    "\n",
    "# -------------------- Hyperparameter Search Setup --------------------\n",
    "param_grid = {\n",
    "    'embed_dim': [32, 64, 128], # Embedding dimension for users and items\n",
    "    'hidden_dims': [[64, 32], [128, 64], [256, 128]], # Hidden layers for MLP\n",
    "    'learning_rate': [0.0005, 0.001, 0.002],\n",
    "    'batch_size': [128, 256, 512],\n",
    "    'patience': [5, 7, 10] # Early stopping patience\n",
    "}\n",
    "\n",
    "num_trials = 10 # Number of random combinations to try\n",
    "best_params = None\n",
    "best_rmse = float('inf')\n",
    "results_log = [] # To store results of each trial\n",
    "min_delta = 1e-4 # Minimum change to be considered an improvement\n",
    "\n",
    "# Fixed random state for data splitting. This ensures that\n",
    "# all hyperparameter trials use the exact same train/val/test splits,\n",
    "# making the comparison of hyperparameters fair.\n",
    "DATA_SPLIT_RANDOM_STATE = 42\n",
    "\n",
    "print(f\"\\n--- Starting Hyperparameter Search with {num_trials} trials ---\")\n",
    "print(f\"Data Split Random State: {DATA_SPLIT_RANDOM_STATE}\")\n",
    "\n",
    "# Perform data splitting once\n",
    "train_val_df, test_df = train_test_split(df, test_size=0.2, random_state=DATA_SPLIT_RANDOM_STATE)\n",
    "\n",
    "# 훈련 세트의 고유한 사용자/아이템 ID를 기반으로 인덱스를 생성합니다.\n",
    "user2idx = {uid: i for i, uid in enumerate(train_val_df['user_id'].unique())}\n",
    "item2idx = {iid: i for i, iid in enumerate(train_val_df['business_id'].unique())}\n",
    "\n",
    "# 테스트 세트에만 존재하는 사용자/아이템을 위한 '알 수 없음' 인덱스를 추가합니다.\n",
    "# 이 인덱스는 train_val_df에 없는 ID를 처리합니다.\n",
    "unknown_user_idx = len(user2idx)\n",
    "unknown_item_idx = len(item2idx)\n",
    "\n",
    "# SBERT 문맥 벡터 생성 (전체 데이터에서 한 번만)\n",
    "print(\"SBERT 문맥 벡터 생성 중 (전체 데이터)...\")\n",
    "# Note: For efficiency, we encode the full text column and then split\n",
    "# This avoids re-encoding the same texts if they appear in different splits.\n",
    "all_texts = df['text'].tolist()\n",
    "all_context_vectors = sbert_model.encode(all_texts, show_progress_bar=True)\n",
    "df['context_vectors'] = list(all_context_vectors) # Add as a new column\n",
    "\n",
    "# Split dataframes with context vectors\n",
    "train_val_df_with_contexts = df.loc[train_val_df.index]\n",
    "test_df_with_contexts = df.loc[test_df.index]\n",
    "\n",
    "# Map user/item IDs to indices for all splits\n",
    "train_val_df_with_contexts['user_idx'] = train_val_df_with_contexts['user_id'].map(user2idx)\n",
    "train_val_df_with_contexts['item_idx'] = train_val_df_with_contexts['business_id'].map(item2idx)\n",
    "test_df_with_contexts['user_idx'] = test_df_with_contexts['user_id'].map(user2idx).fillna(unknown_user_idx).astype(int)\n",
    "test_df_with_contexts['item_idx'] = test_df_with_contexts['business_id'].map(item2idx).fillna(unknown_item_idx).astype(int)\n",
    "\n",
    "# Further split train_val into train and validation for early stopping\n",
    "train_df, val_df = train_test_split(train_val_df_with_contexts, test_size=0.125, random_state=DATA_SPLIT_RANDOM_STATE) # 0.125 * 0.8 = 0.1 (10%)\n",
    "\n",
    "print(f\"Fixed Data Split: Train={len(train_df)}, Val={len(val_df)}, Test={len(test_df_with_contexts)}\")\n",
    "\n",
    "epochs = 50 # Maximum epochs for each trial\n",
    "context_dim = sbert_model.get_sentence_embedding_dimension() # Get SBERT embedding dimension\n",
    "\n",
    "# --- Hyperparameter Search Loop ---\n",
    "for trial_num in range(num_trials):\n",
    "    print(f\"\\n==================== Trial {trial_num + 1}/{num_trials} ====================\")\n",
    "\n",
    "    # Randomly select hyperparameters for the current trial\n",
    "    current_params = {k: random.choice(v) for k, v in param_grid.items()}\n",
    "    \n",
    "    # Ensure embed_dim is not too small relative to context_dim or hidden_dims to avoid issues\n",
    "    # This is a soft check; adjust ranges in param_grid for robust solutions\n",
    "    if current_params['embed_dim'] * 2 + context_dim < current_params['hidden_dims'][0]:\n",
    "        print(f\"Warning: Initial MLP input dim ({current_params['embed_dim'] * 2 + context_dim}) is smaller than first hidden layer ({current_params['hidden_dims'][0]}). This might not be optimal. Skipping this configuration.\")\n",
    "        # Optionally skip this trial or adjust hidden_dims to be smaller\n",
    "        continue\n",
    "    \n",
    "    print(f\"Current Parameters: {current_params}\")\n",
    "\n",
    "    # Create DataLoaders for the current trial\n",
    "    train_dataset = UCAMDataset(\n",
    "        train_df['user_idx'].values,\n",
    "        train_df['item_idx'].values,\n",
    "        train_df['stars'].values.astype(np.float32),\n",
    "        np.stack(train_df['context_vectors'].values) # Convert list of arrays to 2D array\n",
    "    )\n",
    "    val_dataset = UCAMDataset(\n",
    "        val_df['user_idx'].values,\n",
    "        val_df['item_idx'].values,\n",
    "        val_df['stars'].values.astype(np.float32),\n",
    "        np.stack(val_df['context_vectors'].values)\n",
    "    )\n",
    "    # 🚨 수정된 부분: test_df 대신 test_df_with_contexts 사용\n",
    "    test_dataset = UCAMDataset(\n",
    "        test_df_with_contexts['user_idx'].values,\n",
    "        test_df_with_contexts['item_idx'].values,\n",
    "        test_df_with_contexts['stars'].values.astype(np.float32),\n",
    "        np.stack(test_df_with_contexts['context_vectors'].values)\n",
    "    )\n",
    "\n",
    "    train_loader = DataLoader(train_dataset, batch_size=current_params['batch_size'], shuffle=True)\n",
    "    val_loader = DataLoader(val_dataset, batch_size=current_params['batch_size'], shuffle=False)\n",
    "    test_loader = DataLoader(test_dataset, batch_size=current_params['batch_size'], shuffle=False)\n",
    "\n",
    "    # Model, Loss Function, and Optimizer are re-initialized for each trial\n",
    "    model = UCAM(num_users=len(user2idx), num_items=len(item2idx),\n",
    "                 context_dim=context_dim,\n",
    "                 embed_dim=current_params['embed_dim'],\n",
    "                 hidden_dims=current_params['hidden_dims']).to(device)\n",
    "    \n",
    "    optimizer = torch.optim.Adam(model.parameters(), lr=current_params['learning_rate'])\n",
    "    criterion = nn.MSELoss()\n",
    "    \n",
    "    # Path to save the best model for this *specific trial*\n",
    "    trial_model_save_path = f'temp_ucam_model_trial_{trial_num+1}.pt'\n",
    "\n",
    "    trial_best_val_rmse = float('inf')\n",
    "    epochs_no_improve = 0\n",
    "    patience = current_params['patience'] # Use patience from current_params\n",
    "\n",
    "    # --- Training Loop for current trial ---\n",
    "    print(\"모델 학습 시작...\")\n",
    "    for epoch in range(epochs):\n",
    "        model.train()\n",
    "        total_train_loss = 0\n",
    "        train_bar = tqdm(train_loader, desc=f\"[Trial {trial_num+1}, Epoch {epoch+1}] Training\", leave=False)\n",
    "\n",
    "        for user_ids, item_ids, context_vectors, stars in train_bar:\n",
    "            user_ids = user_ids.to(device)\n",
    "            item_ids = item_ids.to(device)\n",
    "            context_vectors = context_vectors.to(device)\n",
    "            stars = stars.to(device)\n",
    "\n",
    "            optimizer.zero_grad()\n",
    "            predictions = model(user_ids, item_ids, context_vectors)\n",
    "            loss = criterion(predictions, stars)\n",
    "            loss.backward()\n",
    "            optimizer.step()\n",
    "            total_train_loss += loss.item()\n",
    "            train_bar.set_postfix(loss=loss.item())\n",
    "            \n",
    "        # --- Validation after each epoch ---\n",
    "        model.eval()\n",
    "        val_mae, val_mse, val_rmse, val_mape = evaluate_model(model, val_loader, device)\n",
    "\n",
    "        print(f\"Epoch {epoch+1} | Train Loss: {total_train_loss / len(train_loader):.4f} | \"\n",
    "              f\"Val RMSE: {val_rmse:.4f}, MAE: {val_mae:.4f}, MAPE: {val_mape:.2f}%\")\n",
    "\n",
    "        # Early stopping logic for this trial\n",
    "        if val_rmse < trial_best_val_rmse - min_delta:\n",
    "            trial_best_val_rmse = val_rmse\n",
    "            epochs_no_improve = 0\n",
    "            torch.save(model.state_dict(), trial_model_save_path)\n",
    "            # print(f\"    --> Improved. Model saved (RMSE: {trial_best_val_rmse:.4f})\") # Optional: detailed logging\n",
    "        else:\n",
    "            epochs_no_improve += 1\n",
    "            # print(f\"    --> No improvement. ({epochs_no_improve}/{patience})\")\n",
    "            if epochs_no_improve == patience:\n",
    "                print(\"Early stopping triggered for this trial.\")\n",
    "                break\n",
    "    \n",
    "    # --- Evaluate the best model from this trial on the Test Set ---\n",
    "    if os.path.exists(trial_model_save_path):\n",
    "        model.load_state_dict(torch.load(trial_model_save_path))\n",
    "        print(f\"\\nLoaded best model for trial {trial_num+1} from {trial_model_save_path}\")\n",
    "        test_mae, test_mse, test_rmse, test_mape = evaluate_model(model, test_loader, device)\n",
    "    else:\n",
    "        print(f\"\\nWarning: Best model for trial {trial_num+1} not found. Testing with last model state.\")\n",
    "        test_mae, test_mse, test_rmse, test_mape = evaluate_model(model, test_loader, device)\n",
    "\n",
    "    print(f\"\\n✅ Trial {trial_num+1} Test Results:\")\n",
    "    print(f\" - MSE  : {test_mse:.4f}\")\n",
    "    print(f\" - RMSE : {test_rmse:.4f}\")\n",
    "    print(f\" - MAE  : {test_mae:.4f}\")\n",
    "    print(f\" - MAPE : {test_mape:.2f}%\")\n",
    "\n",
    "    # Store results for this trial\n",
    "    trial_results = {\n",
    "        'trial_num': trial_num + 1,\n",
    "        'parameters': current_params,\n",
    "        'test_mse': test_mse,\n",
    "        'test_rmse': test_rmse,\n",
    "        'test_mae': test_mae,\n",
    "        'test_mape': test_mape\n",
    "    }\n",
    "    results_log.append(trial_results)\n",
    "\n",
    "    # Check if this trial yielded the overall best RMSE\n",
    "    if test_rmse < best_rmse:\n",
    "        best_rmse = test_rmse\n",
    "        best_params = current_params\n",
    "        # Save the overall best model\n",
    "        torch.save(model.state_dict(), 'best_overall_ucam_model.pt')\n",
    "        print(f\"  --> New overall best RMSE found: {best_rmse:.4f} with params: {best_params}\")\n",
    "\n",
    "    # Clean up the temporary model file for this trial\n",
    "    if os.path.exists(trial_model_save_path):\n",
    "        os.remove(trial_model_save_path)\n",
    "\n",
    "# -------------------- Final Results Output --------------------\n",
    "print(f\"\\n--- Hyperparameter Search Completed ---\")\n",
    "print(f\"Overall Best RMSE found: {best_rmse:.4f}\")\n",
    "print(f\"Optimal Parameters: {best_params}\")\n"
   ]
  },
  {
   "cell_type": "code",
   "execution_count": 3,
   "id": "078fbcda-881a-4585-a5b0-b4795fefeb23",
   "metadata": {},
   "outputs": [
    {
     "name": "stdout",
     "output_type": "stream",
     "text": [
      "✅ JSON 파일 로드 성공.\n",
      "\n",
      "==================== 실험 시작: random_state=42 ====================\n",
      "SBERT 모델 로딩 및 문맥 벡터 생성 중...\n"
     ]
    },
    {
     "name": "stderr",
     "output_type": "stream",
     "text": [
      "Batches: 100%|██████████| 11195/11195 [03:44<00:00, 49.80it/s] \n",
      "Batches: 100%|██████████| 2799/2799 [00:57<00:00, 49.01it/s] \n"
     ]
    },
    {
     "name": "stdout",
     "output_type": "stream",
     "text": [
      "모델 학습 시작...\n"
     ]
    },
    {
     "name": "stderr",
     "output_type": "stream",
     "text": [
      "                                                                        "
     ]
    },
    {
     "name": "stdout",
     "output_type": "stream",
     "text": [
      "\n",
      "Epoch 1 | Train Loss: 1.0736 | Val RMSE: 0.8306, MAE: 0.6574, MAPE: 24.22%\n",
      "  --> 개선됨. 모델 저장됨 (RMSE: 0.8306)\n"
     ]
    },
    {
     "name": "stderr",
     "output_type": "stream",
     "text": [
      "                                                                        "
     ]
    },
    {
     "name": "stdout",
     "output_type": "stream",
     "text": [
      "\n",
      "Epoch 2 | Train Loss: 0.6514 | Val RMSE: 0.7920, MAE: 0.6199, MAPE: 22.38%\n",
      "  --> 개선됨. 모델 저장됨 (RMSE: 0.7920)\n"
     ]
    },
    {
     "name": "stderr",
     "output_type": "stream",
     "text": [
      "                                                                        "
     ]
    },
    {
     "name": "stdout",
     "output_type": "stream",
     "text": [
      "\n",
      "Epoch 3 | Train Loss: 0.6015 | Val RMSE: 0.7763, MAE: 0.6059, MAPE: 22.07%\n",
      "  --> 개선됨. 모델 저장됨 (RMSE: 0.7763)\n"
     ]
    },
    {
     "name": "stderr",
     "output_type": "stream",
     "text": [
      "                                                                        "
     ]
    },
    {
     "name": "stdout",
     "output_type": "stream",
     "text": [
      "\n",
      "Epoch 4 | Train Loss: 0.5692 | Val RMSE: 0.7697, MAE: 0.5977, MAPE: 21.78%\n",
      "  --> 개선됨. 모델 저장됨 (RMSE: 0.7697)\n"
     ]
    },
    {
     "name": "stderr",
     "output_type": "stream",
     "text": [
      "                                                                        "
     ]
    },
    {
     "name": "stdout",
     "output_type": "stream",
     "text": [
      "\n",
      "Epoch 5 | Train Loss: 0.5436 | Val RMSE: 0.7595, MAE: 0.5876, MAPE: 21.30%\n",
      "  --> 개선됨. 모델 저장됨 (RMSE: 0.7595)\n"
     ]
    },
    {
     "name": "stderr",
     "output_type": "stream",
     "text": [
      "                                                                        "
     ]
    },
    {
     "name": "stdout",
     "output_type": "stream",
     "text": [
      "\n",
      "Epoch 6 | Train Loss: 0.5209 | Val RMSE: 0.7561, MAE: 0.5877, MAPE: 20.99%\n",
      "  --> 개선됨. 모델 저장됨 (RMSE: 0.7561)\n"
     ]
    },
    {
     "name": "stderr",
     "output_type": "stream",
     "text": [
      "                                                                        "
     ]
    },
    {
     "name": "stdout",
     "output_type": "stream",
     "text": [
      "\n",
      "Epoch 7 | Train Loss: 0.5014 | Val RMSE: 0.7524, MAE: 0.5819, MAPE: 20.82%\n",
      "  --> 개선됨. 모델 저장됨 (RMSE: 0.7524)\n"
     ]
    },
    {
     "name": "stderr",
     "output_type": "stream",
     "text": [
      "                                                                        "
     ]
    },
    {
     "name": "stdout",
     "output_type": "stream",
     "text": [
      "\n",
      "Epoch 8 | Train Loss: 0.4832 | Val RMSE: 0.7509, MAE: 0.5829, MAPE: 20.71%\n",
      "  --> 개선됨. 모델 저장됨 (RMSE: 0.7509)\n"
     ]
    },
    {
     "name": "stderr",
     "output_type": "stream",
     "text": [
      "                                                                        "
     ]
    },
    {
     "name": "stdout",
     "output_type": "stream",
     "text": [
      "\n",
      "Epoch 9 | Train Loss: 0.4668 | Val RMSE: 0.7502, MAE: 0.5815, MAPE: 20.56%\n",
      "  --> 개선 없음. (1/7)\n"
     ]
    },
    {
     "name": "stderr",
     "output_type": "stream",
     "text": [
      "                                                                         "
     ]
    },
    {
     "name": "stdout",
     "output_type": "stream",
     "text": [
      "\n",
      "Epoch 10 | Train Loss: 0.4512 | Val RMSE: 0.7524, MAE: 0.5795, MAPE: 20.80%\n",
      "  --> 개선 없음. (2/7)\n"
     ]
    },
    {
     "name": "stderr",
     "output_type": "stream",
     "text": [
      "                                                                         "
     ]
    },
    {
     "name": "stdout",
     "output_type": "stream",
     "text": [
      "\n",
      "Epoch 11 | Train Loss: 0.4359 | Val RMSE: 0.7553, MAE: 0.5793, MAPE: 20.50%\n",
      "  --> 개선 없음. (3/7)\n"
     ]
    },
    {
     "name": "stderr",
     "output_type": "stream",
     "text": [
      "                                                                         "
     ]
    },
    {
     "name": "stdout",
     "output_type": "stream",
     "text": [
      "\n",
      "Epoch 12 | Train Loss: 0.4222 | Val RMSE: 0.7578, MAE: 0.5801, MAPE: 20.98%\n",
      "  --> 개선 없음. (4/7)\n"
     ]
    },
    {
     "name": "stderr",
     "output_type": "stream",
     "text": [
      "                                                                         "
     ]
    },
    {
     "name": "stdout",
     "output_type": "stream",
     "text": [
      "\n",
      "Epoch 13 | Train Loss: 0.4088 | Val RMSE: 0.7584, MAE: 0.5815, MAPE: 20.81%\n",
      "  --> 개선 없음. (5/7)\n"
     ]
    },
    {
     "name": "stderr",
     "output_type": "stream",
     "text": [
      "                                                                         "
     ]
    },
    {
     "name": "stdout",
     "output_type": "stream",
     "text": [
      "\n",
      "Epoch 14 | Train Loss: 0.3955 | Val RMSE: 0.7599, MAE: 0.5838, MAPE: 20.94%\n",
      "  --> 개선 없음. (6/7)\n"
     ]
    },
    {
     "name": "stderr",
     "output_type": "stream",
     "text": [
      "                                                                         "
     ]
    },
    {
     "name": "stdout",
     "output_type": "stream",
     "text": [
      "\n",
      "Epoch 15 | Train Loss: 0.3824 | Val RMSE: 0.7657, MAE: 0.5855, MAPE: 20.93%\n",
      "  --> 개선 없음. (7/7)\n",
      "조기 종료 발생.\n",
      "\n",
      "최적 모델 로드 완료: best_ucam_model_42.pt\n",
      "\n",
      "✅ [UCAM] 최종 테스트 평가 지표 (random_state=42):\n",
      "    - MSE  : 0.5639\n",
      "    - RMSE : 0.7509\n",
      "    - MAE  : 0.5829\n",
      "    - MAPE : 20.71%\n",
      "\n",
      "==================== 실험 시작: random_state=43 ====================\n",
      "SBERT 모델 로딩 및 문맥 벡터 생성 중...\n"
     ]
    },
    {
     "name": "stderr",
     "output_type": "stream",
     "text": [
      "Batches: 100%|██████████| 11195/11195 [15:13<00:00, 12.26it/s] \n",
      "Batches: 100%|██████████| 2799/2799 [06:17<00:00,  7.41it/s] \n"
     ]
    },
    {
     "name": "stdout",
     "output_type": "stream",
     "text": [
      "모델 학습 시작...\n"
     ]
    },
    {
     "name": "stderr",
     "output_type": "stream",
     "text": [
      "                                                                        "
     ]
    },
    {
     "name": "stdout",
     "output_type": "stream",
     "text": [
      "\n",
      "Epoch 1 | Train Loss: 1.0119 | Val RMSE: 0.8198, MAE: 0.6488, MAPE: 22.91%\n",
      "  --> 개선됨. 모델 저장됨 (RMSE: 0.8198)\n"
     ]
    },
    {
     "name": "stderr",
     "output_type": "stream",
     "text": [
      "                                                                        "
     ]
    },
    {
     "name": "stdout",
     "output_type": "stream",
     "text": [
      "\n",
      "Epoch 2 | Train Loss: 0.6378 | Val RMSE: 0.7956, MAE: 0.6276, MAPE: 21.86%\n",
      "  --> 개선됨. 모델 저장됨 (RMSE: 0.7956)\n"
     ]
    },
    {
     "name": "stderr",
     "output_type": "stream",
     "text": [
      "                                                                        "
     ]
    },
    {
     "name": "stdout",
     "output_type": "stream",
     "text": [
      "\n",
      "Epoch 3 | Train Loss: 0.5954 | Val RMSE: 0.7765, MAE: 0.6061, MAPE: 21.65%\n",
      "  --> 개선됨. 모델 저장됨 (RMSE: 0.7765)\n"
     ]
    },
    {
     "name": "stderr",
     "output_type": "stream",
     "text": [
      "                                                                        "
     ]
    },
    {
     "name": "stdout",
     "output_type": "stream",
     "text": [
      "\n",
      "Epoch 4 | Train Loss: 0.5646 | Val RMSE: 0.7652, MAE: 0.5956, MAPE: 21.20%\n",
      "  --> 개선됨. 모델 저장됨 (RMSE: 0.7652)\n"
     ]
    },
    {
     "name": "stderr",
     "output_type": "stream",
     "text": [
      "                                                                        "
     ]
    },
    {
     "name": "stdout",
     "output_type": "stream",
     "text": [
      "\n",
      "Epoch 5 | Train Loss: 0.5401 | Val RMSE: 0.7601, MAE: 0.5928, MAPE: 20.78%\n",
      "  --> 개선됨. 모델 저장됨 (RMSE: 0.7601)\n"
     ]
    },
    {
     "name": "stderr",
     "output_type": "stream",
     "text": [
      "                                                                        "
     ]
    },
    {
     "name": "stdout",
     "output_type": "stream",
     "text": [
      "\n",
      "Epoch 6 | Train Loss: 0.5181 | Val RMSE: 0.7570, MAE: 0.5849, MAPE: 20.45%\n",
      "  --> 개선됨. 모델 저장됨 (RMSE: 0.7570)\n"
     ]
    },
    {
     "name": "stderr",
     "output_type": "stream",
     "text": [
      "                                                                        "
     ]
    },
    {
     "name": "stdout",
     "output_type": "stream",
     "text": [
      "\n",
      "Epoch 7 | Train Loss: 0.4985 | Val RMSE: 0.7518, MAE: 0.5827, MAPE: 20.57%\n",
      "  --> 개선됨. 모델 저장됨 (RMSE: 0.7518)\n"
     ]
    },
    {
     "name": "stderr",
     "output_type": "stream",
     "text": [
      "                                                                        "
     ]
    },
    {
     "name": "stdout",
     "output_type": "stream",
     "text": [
      "\n",
      "Epoch 8 | Train Loss: 0.4801 | Val RMSE: 0.7563, MAE: 0.5880, MAPE: 20.28%\n",
      "  --> 개선 없음. (1/7)\n"
     ]
    },
    {
     "name": "stderr",
     "output_type": "stream",
     "text": [
      "                                                                        "
     ]
    },
    {
     "name": "stdout",
     "output_type": "stream",
     "text": [
      "\n",
      "Epoch 9 | Train Loss: 0.4626 | Val RMSE: 0.7507, MAE: 0.5795, MAPE: 20.48%\n",
      "  --> 개선됨. 모델 저장됨 (RMSE: 0.7507)\n"
     ]
    },
    {
     "name": "stderr",
     "output_type": "stream",
     "text": [
      "                                                                        "
     ]
    },
    {
     "name": "stdout",
     "output_type": "stream",
     "text": [
      "\n",
      "Epoch 10 | Train Loss: 0.4466 | Val RMSE: 0.7521, MAE: 0.5797, MAPE: 20.55%\n",
      "  --> 개선 없음. (1/7)\n"
     ]
    },
    {
     "name": "stderr",
     "output_type": "stream",
     "text": [
      "                                                                        "
     ]
    },
    {
     "name": "stdout",
     "output_type": "stream",
     "text": [
      "\n",
      "Epoch 11 | Train Loss: 0.4316 | Val RMSE: 0.7537, MAE: 0.5815, MAPE: 20.47%\n",
      "  --> 개선 없음. (2/7)\n"
     ]
    },
    {
     "name": "stderr",
     "output_type": "stream",
     "text": [
      "                                                                         "
     ]
    },
    {
     "name": "stdout",
     "output_type": "stream",
     "text": [
      "\n",
      "Epoch 12 | Train Loss: 0.4172 | Val RMSE: 0.7556, MAE: 0.5787, MAPE: 20.60%\n",
      "  --> 개선 없음. (3/7)\n"
     ]
    },
    {
     "name": "stderr",
     "output_type": "stream",
     "text": [
      "                                                                         "
     ]
    },
    {
     "name": "stdout",
     "output_type": "stream",
     "text": [
      "\n",
      "Epoch 13 | Train Loss: 0.4028 | Val RMSE: 0.7618, MAE: 0.5810, MAPE: 21.03%\n",
      "  --> 개선 없음. (4/7)\n"
     ]
    },
    {
     "name": "stderr",
     "output_type": "stream",
     "text": [
      "                                                                         "
     ]
    },
    {
     "name": "stdout",
     "output_type": "stream",
     "text": [
      "\n",
      "Epoch 14 | Train Loss: 0.3896 | Val RMSE: 0.7611, MAE: 0.5821, MAPE: 20.61%\n",
      "  --> 개선 없음. (5/7)\n"
     ]
    },
    {
     "name": "stderr",
     "output_type": "stream",
     "text": [
      "                                                                         "
     ]
    },
    {
     "name": "stdout",
     "output_type": "stream",
     "text": [
      "\n",
      "Epoch 15 | Train Loss: 0.3763 | Val RMSE: 0.7625, MAE: 0.5820, MAPE: 20.70%\n",
      "  --> 개선 없음. (6/7)\n"
     ]
    },
    {
     "name": "stderr",
     "output_type": "stream",
     "text": [
      "                                                                         "
     ]
    },
    {
     "name": "stdout",
     "output_type": "stream",
     "text": [
      "\n",
      "Epoch 16 | Train Loss: 0.3639 | Val RMSE: 0.7647, MAE: 0.5866, MAPE: 20.69%\n",
      "  --> 개선 없음. (7/7)\n",
      "조기 종료 발생.\n",
      "\n",
      "최적 모델 로드 완료: best_ucam_model_43.pt\n",
      "\n",
      "✅ [UCAM] 최종 테스트 평가 지표 (random_state=43):\n",
      "    - MSE  : 0.5635\n",
      "    - RMSE : 0.7507\n",
      "    - MAE  : 0.5795\n",
      "    - MAPE : 20.48%\n",
      "\n",
      "==================== 실험 시작: random_state=44 ====================\n",
      "SBERT 모델 로딩 및 문맥 벡터 생성 중...\n"
     ]
    },
    {
     "name": "stderr",
     "output_type": "stream",
     "text": [
      "Batches: 100%|██████████| 11195/11195 [05:31<00:00, 33.74it/s] \n",
      "Batches: 100%|██████████| 2799/2799 [01:09<00:00, 40.04it/s] \n"
     ]
    },
    {
     "name": "stdout",
     "output_type": "stream",
     "text": [
      "모델 학습 시작...\n"
     ]
    },
    {
     "name": "stderr",
     "output_type": "stream",
     "text": [
      "                                                                        "
     ]
    },
    {
     "name": "stdout",
     "output_type": "stream",
     "text": [
      "\n",
      "Epoch 1 | Train Loss: 1.0780 | Val RMSE: 0.8311, MAE: 0.6559, MAPE: 24.03%\n",
      "  --> 개선됨. 모델 저장됨 (RMSE: 0.8311)\n"
     ]
    },
    {
     "name": "stderr",
     "output_type": "stream",
     "text": [
      "                                                                        "
     ]
    },
    {
     "name": "stdout",
     "output_type": "stream",
     "text": [
      "\n",
      "Epoch 2 | Train Loss: 0.6449 | Val RMSE: 0.7923, MAE: 0.6193, MAPE: 22.47%\n",
      "  --> 개선됨. 모델 저장됨 (RMSE: 0.7923)\n"
     ]
    },
    {
     "name": "stderr",
     "output_type": "stream",
     "text": [
      "                                                                        "
     ]
    },
    {
     "name": "stdout",
     "output_type": "stream",
     "text": [
      "\n",
      "Epoch 3 | Train Loss: 0.5947 | Val RMSE: 0.7780, MAE: 0.6059, MAPE: 21.62%\n",
      "  --> 개선됨. 모델 저장됨 (RMSE: 0.7780)\n"
     ]
    },
    {
     "name": "stderr",
     "output_type": "stream",
     "text": [
      "                                                                        "
     ]
    },
    {
     "name": "stdout",
     "output_type": "stream",
     "text": [
      "\n",
      "Epoch 4 | Train Loss: 0.5618 | Val RMSE: 0.7688, MAE: 0.5973, MAPE: 21.37%\n",
      "  --> 개선됨. 모델 저장됨 (RMSE: 0.7688)\n"
     ]
    },
    {
     "name": "stderr",
     "output_type": "stream",
     "text": [
      "                                                                        "
     ]
    },
    {
     "name": "stdout",
     "output_type": "stream",
     "text": [
      "\n",
      "Epoch 5 | Train Loss: 0.5352 | Val RMSE: 0.7639, MAE: 0.5903, MAPE: 21.08%\n",
      "  --> 개선됨. 모델 저장됨 (RMSE: 0.7639)\n"
     ]
    },
    {
     "name": "stderr",
     "output_type": "stream",
     "text": [
      "                                                                       "
     ]
    },
    {
     "name": "stdout",
     "output_type": "stream",
     "text": [
      "\n",
      "Epoch 6 | Train Loss: 0.5129 | Val RMSE: 0.7580, MAE: 0.5861, MAPE: 21.07%\n",
      "  --> 개선됨. 모델 저장됨 (RMSE: 0.7580)\n"
     ]
    },
    {
     "name": "stderr",
     "output_type": "stream",
     "text": [
      "                                                                        "
     ]
    },
    {
     "name": "stdout",
     "output_type": "stream",
     "text": [
      "\n",
      "Epoch 7 | Train Loss: 0.4934 | Val RMSE: 0.7633, MAE: 0.5855, MAPE: 21.28%\n",
      "  --> 개선 없음. (1/7)\n"
     ]
    },
    {
     "name": "stderr",
     "output_type": "stream",
     "text": [
      "                                                                        "
     ]
    },
    {
     "name": "stdout",
     "output_type": "stream",
     "text": [
      "\n",
      "Epoch 8 | Train Loss: 0.4760 | Val RMSE: 0.7539, MAE: 0.5812, MAPE: 20.53%\n",
      "  --> 개선됨. 모델 저장됨 (RMSE: 0.7539)\n"
     ]
    },
    {
     "name": "stderr",
     "output_type": "stream",
     "text": [
      "                                                                        "
     ]
    },
    {
     "name": "stdout",
     "output_type": "stream",
     "text": [
      "\n",
      "Epoch 9 | Train Loss: 0.4587 | Val RMSE: 0.7588, MAE: 0.5881, MAPE: 20.31%\n",
      "  --> 개선 없음. (1/7)\n"
     ]
    },
    {
     "name": "stderr",
     "output_type": "stream",
     "text": [
      "                                                                         "
     ]
    },
    {
     "name": "stdout",
     "output_type": "stream",
     "text": [
      "\n",
      "Epoch 10 | Train Loss: 0.4428 | Val RMSE: 0.7553, MAE: 0.5819, MAPE: 20.37%\n",
      "  --> 개선 없음. (2/7)\n"
     ]
    },
    {
     "name": "stderr",
     "output_type": "stream",
     "text": [
      "                                                                         "
     ]
    },
    {
     "name": "stdout",
     "output_type": "stream",
     "text": [
      "\n",
      "Epoch 11 | Train Loss: 0.4283 | Val RMSE: 0.7620, MAE: 0.5889, MAPE: 20.51%\n",
      "  --> 개선 없음. (3/7)\n"
     ]
    },
    {
     "name": "stderr",
     "output_type": "stream",
     "text": [
      "                                                                         "
     ]
    },
    {
     "name": "stdout",
     "output_type": "stream",
     "text": [
      "\n",
      "Epoch 12 | Train Loss: 0.4134 | Val RMSE: 0.7617, MAE: 0.5855, MAPE: 20.73%\n",
      "  --> 개선 없음. (4/7)\n"
     ]
    },
    {
     "name": "stderr",
     "output_type": "stream",
     "text": [
      "                                                                         "
     ]
    },
    {
     "name": "stdout",
     "output_type": "stream",
     "text": [
      "\n",
      "Epoch 13 | Train Loss: 0.3999 | Val RMSE: 0.7694, MAE: 0.5931, MAPE: 20.32%\n",
      "  --> 개선 없음. (5/7)\n"
     ]
    },
    {
     "name": "stderr",
     "output_type": "stream",
     "text": [
      "                                                                        "
     ]
    },
    {
     "name": "stdout",
     "output_type": "stream",
     "text": [
      "\n",
      "Epoch 14 | Train Loss: 0.3870 | Val RMSE: 0.7680, MAE: 0.5877, MAPE: 20.79%\n",
      "  --> 개선 없음. (6/7)\n"
     ]
    },
    {
     "name": "stderr",
     "output_type": "stream",
     "text": [
      "                                                                        "
     ]
    },
    {
     "name": "stdout",
     "output_type": "stream",
     "text": [
      "\n",
      "Epoch 15 | Train Loss: 0.3740 | Val RMSE: 0.7712, MAE: 0.5891, MAPE: 21.19%\n",
      "  --> 개선 없음. (7/7)\n",
      "조기 종료 발생.\n",
      "\n",
      "최적 모델 로드 완료: best_ucam_model_44.pt\n",
      "\n",
      "✅ [UCAM] 최종 테스트 평가 지표 (random_state=44):\n",
      "    - MSE  : 0.5684\n",
      "    - RMSE : 0.7539\n",
      "    - MAE  : 0.5812\n",
      "    - MAPE : 20.53%\n",
      "\n",
      "==================== 실험 시작: random_state=45 ====================\n",
      "SBERT 모델 로딩 및 문맥 벡터 생성 중...\n"
     ]
    },
    {
     "name": "stderr",
     "output_type": "stream",
     "text": [
      "Batches: 100%|██████████| 11195/11195 [16:30<00:00, 11.31it/s] \n",
      "Batches: 100%|██████████| 2799/2799 [02:58<00:00, 15.68it/s] \n"
     ]
    },
    {
     "name": "stdout",
     "output_type": "stream",
     "text": [
      "모델 학습 시작...\n"
     ]
    },
    {
     "name": "stderr",
     "output_type": "stream",
     "text": [
      "                                                                        "
     ]
    },
    {
     "name": "stdout",
     "output_type": "stream",
     "text": [
      "\n",
      "Epoch 1 | Train Loss: 1.0316 | Val RMSE: 0.8359, MAE: 0.6609, MAPE: 24.46%\n",
      "  --> 개선됨. 모델 저장됨 (RMSE: 0.8359)\n"
     ]
    },
    {
     "name": "stderr",
     "output_type": "stream",
     "text": [
      "                                                                        "
     ]
    },
    {
     "name": "stdout",
     "output_type": "stream",
     "text": [
      "\n",
      "Epoch 2 | Train Loss: 0.6584 | Val RMSE: 0.8001, MAE: 0.6258, MAPE: 22.55%\n",
      "  --> 개선됨. 모델 저장됨 (RMSE: 0.8001)\n"
     ]
    },
    {
     "name": "stderr",
     "output_type": "stream",
     "text": [
      "                                                                        "
     ]
    },
    {
     "name": "stdout",
     "output_type": "stream",
     "text": [
      "\n",
      "Epoch 3 | Train Loss: 0.5978 | Val RMSE: 0.7809, MAE: 0.6086, MAPE: 21.90%\n",
      "  --> 개선됨. 모델 저장됨 (RMSE: 0.7809)\n"
     ]
    },
    {
     "name": "stderr",
     "output_type": "stream",
     "text": [
      "                                                                        "
     ]
    },
    {
     "name": "stdout",
     "output_type": "stream",
     "text": [
      "\n",
      "Epoch 4 | Train Loss: 0.5608 | Val RMSE: 0.7685, MAE: 0.5950, MAPE: 21.66%\n",
      "  --> 개선됨. 모델 저장됨 (RMSE: 0.7685)\n"
     ]
    },
    {
     "name": "stderr",
     "output_type": "stream",
     "text": [
      "                                                                        "
     ]
    },
    {
     "name": "stdout",
     "output_type": "stream",
     "text": [
      "\n",
      "Epoch 5 | Train Loss: 0.5322 | Val RMSE: 0.7624, MAE: 0.5895, MAPE: 21.41%\n",
      "  --> 개선됨. 모델 저장됨 (RMSE: 0.7624)\n"
     ]
    },
    {
     "name": "stderr",
     "output_type": "stream",
     "text": [
      "                                                                        "
     ]
    },
    {
     "name": "stdout",
     "output_type": "stream",
     "text": [
      "\n",
      "Epoch 6 | Train Loss: 0.5081 | Val RMSE: 0.7633, MAE: 0.5924, MAPE: 20.80%\n",
      "  --> 개선 없음. (1/7)\n"
     ]
    },
    {
     "name": "stderr",
     "output_type": "stream",
     "text": [
      "                                                                        "
     ]
    },
    {
     "name": "stdout",
     "output_type": "stream",
     "text": [
      "\n",
      "Epoch 7 | Train Loss: 0.4873 | Val RMSE: 0.7696, MAE: 0.5872, MAPE: 22.17%\n",
      "  --> 개선 없음. (2/7)\n"
     ]
    },
    {
     "name": "stderr",
     "output_type": "stream",
     "text": [
      "                                                                        "
     ]
    },
    {
     "name": "stdout",
     "output_type": "stream",
     "text": [
      "\n",
      "Epoch 8 | Train Loss: 0.4680 | Val RMSE: 0.7566, MAE: 0.5805, MAPE: 21.24%\n",
      "  --> 개선됨. 모델 저장됨 (RMSE: 0.7566)\n"
     ]
    },
    {
     "name": "stderr",
     "output_type": "stream",
     "text": [
      "                                                                        "
     ]
    },
    {
     "name": "stdout",
     "output_type": "stream",
     "text": [
      "\n",
      "Epoch 9 | Train Loss: 0.4507 | Val RMSE: 0.7543, MAE: 0.5787, MAPE: 20.78%\n",
      "  --> 개선됨. 모델 저장됨 (RMSE: 0.7543)\n"
     ]
    },
    {
     "name": "stderr",
     "output_type": "stream",
     "text": [
      "                                                                         "
     ]
    },
    {
     "name": "stdout",
     "output_type": "stream",
     "text": [
      "\n",
      "Epoch 10 | Train Loss: 0.4347 | Val RMSE: 0.7581, MAE: 0.5831, MAPE: 20.75%\n",
      "  --> 개선 없음. (1/7)\n"
     ]
    },
    {
     "name": "stderr",
     "output_type": "stream",
     "text": [
      "                                                                         "
     ]
    },
    {
     "name": "stdout",
     "output_type": "stream",
     "text": [
      "\n",
      "Epoch 11 | Train Loss: 0.4190 | Val RMSE: 0.7594, MAE: 0.5790, MAPE: 20.77%\n",
      "  --> 개선 없음. (2/7)\n"
     ]
    },
    {
     "name": "stderr",
     "output_type": "stream",
     "text": [
      "                                                                         "
     ]
    },
    {
     "name": "stdout",
     "output_type": "stream",
     "text": [
      "\n",
      "Epoch 12 | Train Loss: 0.4041 | Val RMSE: 0.7663, MAE: 0.5869, MAPE: 20.36%\n",
      "  --> 개선 없음. (3/7)\n"
     ]
    },
    {
     "name": "stderr",
     "output_type": "stream",
     "text": [
      "                                                                         "
     ]
    },
    {
     "name": "stdout",
     "output_type": "stream",
     "text": [
      "\n",
      "Epoch 13 | Train Loss: 0.3906 | Val RMSE: 0.7630, MAE: 0.5855, MAPE: 20.93%\n",
      "  --> 개선 없음. (4/7)\n"
     ]
    },
    {
     "name": "stderr",
     "output_type": "stream",
     "text": [
      "                                                                         "
     ]
    },
    {
     "name": "stdout",
     "output_type": "stream",
     "text": [
      "\n",
      "Epoch 14 | Train Loss: 0.3776 | Val RMSE: 0.7707, MAE: 0.5841, MAPE: 21.50%\n",
      "  --> 개선 없음. (5/7)\n"
     ]
    },
    {
     "name": "stderr",
     "output_type": "stream",
     "text": [
      "                                                                         "
     ]
    },
    {
     "name": "stdout",
     "output_type": "stream",
     "text": [
      "\n",
      "Epoch 15 | Train Loss: 0.3651 | Val RMSE: 0.7805, MAE: 0.5904, MAPE: 21.59%\n",
      "  --> 개선 없음. (6/7)\n"
     ]
    },
    {
     "name": "stderr",
     "output_type": "stream",
     "text": [
      "                                                                         "
     ]
    },
    {
     "name": "stdout",
     "output_type": "stream",
     "text": [
      "\n",
      "Epoch 16 | Train Loss: 0.3539 | Val RMSE: 0.7725, MAE: 0.5866, MAPE: 21.12%\n",
      "  --> 개선 없음. (7/7)\n",
      "조기 종료 발생.\n",
      "\n",
      "최적 모델 로드 완료: best_ucam_model_45.pt\n",
      "\n",
      "✅ [UCAM] 최종 테스트 평가 지표 (random_state=45):\n",
      "    - MSE  : 0.5690\n",
      "    - RMSE : 0.7543\n",
      "    - MAE  : 0.5787\n",
      "    - MAPE : 20.78%\n",
      "\n",
      "==================== 실험 시작: random_state=46 ====================\n",
      "SBERT 모델 로딩 및 문맥 벡터 생성 중...\n"
     ]
    },
    {
     "name": "stderr",
     "output_type": "stream",
     "text": [
      "Batches: 100%|██████████| 11195/11195 [09:01<00:00, 20.69it/s] \n",
      "Batches: 100%|██████████| 2799/2799 [06:10<00:00,  7.56it/s]\n"
     ]
    },
    {
     "name": "stdout",
     "output_type": "stream",
     "text": [
      "모델 학습 시작...\n"
     ]
    },
    {
     "name": "stderr",
     "output_type": "stream",
     "text": [
      "                                                                       "
     ]
    },
    {
     "name": "stdout",
     "output_type": "stream",
     "text": [
      "\n",
      "Epoch 1 | Train Loss: 1.0543 | Val RMSE: 0.8261, MAE: 0.6515, MAPE: 23.64%\n",
      "  --> 개선됨. 모델 저장됨 (RMSE: 0.8261)\n"
     ]
    },
    {
     "name": "stderr",
     "output_type": "stream",
     "text": [
      "                                                                        "
     ]
    },
    {
     "name": "stdout",
     "output_type": "stream",
     "text": [
      "\n",
      "Epoch 2 | Train Loss: 0.6422 | Val RMSE: 0.7907, MAE: 0.6179, MAPE: 22.33%\n",
      "  --> 개선됨. 모델 저장됨 (RMSE: 0.7907)\n"
     ]
    },
    {
     "name": "stderr",
     "output_type": "stream",
     "text": [
      "                                                                        "
     ]
    },
    {
     "name": "stdout",
     "output_type": "stream",
     "text": [
      "\n",
      "Epoch 3 | Train Loss: 0.5948 | Val RMSE: 0.7743, MAE: 0.6028, MAPE: 21.52%\n",
      "  --> 개선됨. 모델 저장됨 (RMSE: 0.7743)\n"
     ]
    },
    {
     "name": "stderr",
     "output_type": "stream",
     "text": [
      "                                                                        "
     ]
    },
    {
     "name": "stdout",
     "output_type": "stream",
     "text": [
      "\n",
      "Epoch 4 | Train Loss: 0.5604 | Val RMSE: 0.7640, MAE: 0.5953, MAPE: 21.11%\n",
      "  --> 개선됨. 모델 저장됨 (RMSE: 0.7640)\n"
     ]
    },
    {
     "name": "stderr",
     "output_type": "stream",
     "text": [
      "                                                                        "
     ]
    },
    {
     "name": "stdout",
     "output_type": "stream",
     "text": [
      "\n",
      "Epoch 5 | Train Loss: 0.5332 | Val RMSE: 0.7545, MAE: 0.5840, MAPE: 20.86%\n",
      "  --> 개선됨. 모델 저장됨 (RMSE: 0.7545)\n"
     ]
    },
    {
     "name": "stderr",
     "output_type": "stream",
     "text": [
      "                                                                        "
     ]
    },
    {
     "name": "stdout",
     "output_type": "stream",
     "text": [
      "\n",
      "Epoch 6 | Train Loss: 0.5104 | Val RMSE: 0.7522, MAE: 0.5782, MAPE: 20.82%\n",
      "  --> 개선됨. 모델 저장됨 (RMSE: 0.7522)\n"
     ]
    },
    {
     "name": "stderr",
     "output_type": "stream",
     "text": [
      "                                                                        "
     ]
    },
    {
     "name": "stdout",
     "output_type": "stream",
     "text": [
      "\n",
      "Epoch 7 | Train Loss: 0.4902 | Val RMSE: 0.7510, MAE: 0.5800, MAPE: 20.45%\n",
      "  --> 개선됨. 모델 저장됨 (RMSE: 0.7510)\n"
     ]
    },
    {
     "name": "stderr",
     "output_type": "stream",
     "text": [
      "                                                                        "
     ]
    },
    {
     "name": "stdout",
     "output_type": "stream",
     "text": [
      "\n",
      "Epoch 8 | Train Loss: 0.4727 | Val RMSE: 0.7500, MAE: 0.5796, MAPE: 20.30%\n",
      "  --> 개선 없음. (1/7)\n"
     ]
    },
    {
     "name": "stderr",
     "output_type": "stream",
     "text": [
      "                                                                        "
     ]
    },
    {
     "name": "stdout",
     "output_type": "stream",
     "text": [
      "\n",
      "Epoch 9 | Train Loss: 0.4560 | Val RMSE: 0.7502, MAE: 0.5755, MAPE: 20.66%\n",
      "  --> 개선 없음. (2/7)\n"
     ]
    },
    {
     "name": "stderr",
     "output_type": "stream",
     "text": [
      "                                                                         "
     ]
    },
    {
     "name": "stdout",
     "output_type": "stream",
     "text": [
      "\n",
      "Epoch 10 | Train Loss: 0.4405 | Val RMSE: 0.7479, MAE: 0.5750, MAPE: 20.55%\n",
      "  --> 개선됨. 모델 저장됨 (RMSE: 0.7479)\n"
     ]
    },
    {
     "name": "stderr",
     "output_type": "stream",
     "text": [
      "                                                                         "
     ]
    },
    {
     "name": "stdout",
     "output_type": "stream",
     "text": [
      "\n",
      "Epoch 11 | Train Loss: 0.4264 | Val RMSE: 0.7520, MAE: 0.5761, MAPE: 20.77%\n",
      "  --> 개선 없음. (1/7)\n"
     ]
    },
    {
     "name": "stderr",
     "output_type": "stream",
     "text": [
      "                                                                         "
     ]
    },
    {
     "name": "stdout",
     "output_type": "stream",
     "text": [
      "\n",
      "Epoch 12 | Train Loss: 0.4126 | Val RMSE: 0.7539, MAE: 0.5800, MAPE: 20.46%\n",
      "  --> 개선 없음. (2/7)\n"
     ]
    },
    {
     "name": "stderr",
     "output_type": "stream",
     "text": [
      "                                                                         "
     ]
    },
    {
     "name": "stdout",
     "output_type": "stream",
     "text": [
      "\n",
      "Epoch 13 | Train Loss: 0.3996 | Val RMSE: 0.7617, MAE: 0.5888, MAPE: 20.62%\n",
      "  --> 개선 없음. (3/7)\n"
     ]
    },
    {
     "name": "stderr",
     "output_type": "stream",
     "text": [
      "                                                                         "
     ]
    },
    {
     "name": "stdout",
     "output_type": "stream",
     "text": [
      "\n",
      "Epoch 14 | Train Loss: 0.3871 | Val RMSE: 0.7624, MAE: 0.5836, MAPE: 21.02%\n",
      "  --> 개선 없음. (4/7)\n"
     ]
    },
    {
     "name": "stderr",
     "output_type": "stream",
     "text": [
      "                                                                         "
     ]
    },
    {
     "name": "stdout",
     "output_type": "stream",
     "text": [
      "\n",
      "Epoch 15 | Train Loss: 0.3749 | Val RMSE: 0.7694, MAE: 0.5933, MAPE: 20.59%\n",
      "  --> 개선 없음. (5/7)\n"
     ]
    },
    {
     "name": "stderr",
     "output_type": "stream",
     "text": [
      "                                                                         "
     ]
    },
    {
     "name": "stdout",
     "output_type": "stream",
     "text": [
      "\n",
      "Epoch 16 | Train Loss: 0.3627 | Val RMSE: 0.7695, MAE: 0.5896, MAPE: 20.91%\n",
      "  --> 개선 없음. (6/7)\n"
     ]
    },
    {
     "name": "stderr",
     "output_type": "stream",
     "text": [
      "                                                                         "
     ]
    },
    {
     "name": "stdout",
     "output_type": "stream",
     "text": [
      "\n",
      "Epoch 17 | Train Loss: 0.3510 | Val RMSE: 0.7740, MAE: 0.5931, MAPE: 20.97%\n",
      "  --> 개선 없음. (7/7)\n",
      "조기 종료 발생.\n",
      "\n",
      "최적 모델 로드 완료: best_ucam_model_46.pt\n",
      "\n",
      "✅ [UCAM] 최종 테스트 평가 지표 (random_state=46):\n",
      "    - MSE  : 0.5594\n",
      "    - RMSE : 0.7479\n",
      "    - MAE  : 0.5750\n",
      "    - MAPE : 20.55%\n",
      "\n",
      "\n",
      "==================== 5회 실험 평균 결과 ====================\n",
      "✔️ 평균 MSE  : 0.5648\n",
      "✔️ 평균 RMSE : 0.7515\n",
      "✔️ 평균 MAE  : 0.5795\n",
      "✔️ 평균 MAPE : 20.61%\n"
     ]
    }
   ],
   "source": [
    "import json\n",
    "import os\n",
    "import pandas as pd\n",
    "import numpy as np\n",
    "from tqdm import tqdm\n",
    "import torch\n",
    "import torch.nn as nn\n",
    "from torch.utils.data import Dataset, DataLoader\n",
    "from sentence_transformers import SentenceTransformer\n",
    "from sklearn.model_selection import train_test_split\n",
    "from sklearn.metrics import mean_squared_error, mean_absolute_error\n",
    "import sys\n",
    "\n",
    "# -------------------- Utility Functions --------------------\n",
    "def mean_absolute_percentage_error(y_true, y_pred):\n",
    "    \"\"\"\n",
    "    Calculates MAPE, preventing division by zero.\n",
    "    \"\"\"\n",
    "    y_true = np.array(y_true)\n",
    "    y_pred = np.array(y_pred)\n",
    "    epsilon = 1e-10\n",
    "    return np.mean(np.abs((y_true - y_pred) / (y_true + epsilon))) * 100\n",
    "\n",
    "# -------------------- Step 1: 데이터 로드 및 전처리 (JSON 파일용) --------------------\n",
    "# 'review.json' 파일을 올바르게 로드합니다.\n",
    "try:\n",
    "    df = pd.read_json('review.json', lines=True)\n",
    "    print(\"✅ JSON 파일 로드 성공.\")\n",
    "except FileNotFoundError:\n",
    "    print(\"❌ Error: 'review.json' 파일이 존재하지 않습니다.\")\n",
    "    sys.exit()\n",
    "except ValueError as e:\n",
    "    print(f\"JSONL 형식이 아닌 것 같습니다. 일반 JSON 파일로 다시 시도합니다. (오류: {e})\")\n",
    "    try:\n",
    "        df = pd.read_json('review.json')\n",
    "        print(\"✅ 일반 JSON 파일 로드 성공.\")\n",
    "    except Exception as e:\n",
    "        print(f\"❌ Error: 'review.json' 파일을 읽는 데 실패했습니다. 파일 형식을 확인해주세요. (오류: {e})\")\n",
    "        sys.exit()\n",
    "\n",
    "df = df[['user_id', 'business_id', 'stars', 'text']].dropna()\n",
    "\n",
    "# -------------------- Dataset 클래스 정의 --------------------\n",
    "class UCAMDataset(Dataset):\n",
    "    def __init__(self, users, items, ratings, contexts):\n",
    "        self.users = users\n",
    "        self.items = items\n",
    "        self.ratings = ratings\n",
    "        self.contexts = contexts\n",
    "\n",
    "    def __len__(self):\n",
    "        return len(self.ratings)\n",
    "\n",
    "    def __getitem__(self, idx):\n",
    "        return (\n",
    "            torch.tensor(self.users[idx], dtype=torch.long),\n",
    "            torch.tensor(self.items[idx], dtype=torch.long),\n",
    "            torch.tensor(self.contexts[idx], dtype=torch.float32),\n",
    "            torch.tensor(self.ratings[idx], dtype=torch.float32)\n",
    "        )\n",
    "\n",
    "# -------------------- 모델 정의 (하이퍼파라미터 적용) --------------------\n",
    "class UCAM(nn.Module):\n",
    "    def __init__(self, num_users, num_items, context_dim=384, embed_dim=32):\n",
    "        super().__init__()\n",
    "        self.user_embed = nn.Embedding(num_users + 1, embed_dim)\n",
    "        self.item_embed = nn.Embedding(num_items + 1, embed_dim)\n",
    "        \n",
    "        # 최적의 hidden_dims: [64, 32] 적용\n",
    "        self.fc_layers = nn.Sequential(\n",
    "            nn.Linear(embed_dim * 2 + context_dim, 64),\n",
    "            nn.ReLU(),\n",
    "            nn.Linear(64, 32),\n",
    "            nn.ReLU(),\n",
    "            nn.Linear(32, 1)\n",
    "        )\n",
    "\n",
    "    def forward(self, user_ids, item_ids, context_vecs):\n",
    "        u = self.user_embed(user_ids)\n",
    "        i = self.item_embed(item_ids)\n",
    "        x = torch.cat([u, i, context_vecs], dim=-1)\n",
    "        return self.fc_layers(x).squeeze()\n",
    "\n",
    "# -------------------- 실험을 위한 함수 정의 (하이퍼파라미터 적용) --------------------\n",
    "def run_experiment(df, random_seed):\n",
    "    print(f\"\\n==================== 실험 시작: random_state={random_seed} ====================\")\n",
    "    \n",
    "    # 데이터 분할\n",
    "    train_df, test_df = train_test_split(df, test_size=0.2, random_state=random_seed)\n",
    "\n",
    "    # 훈련 세트의 고유한 사용자/아이템 ID를 기반으로 인덱스를 생성합니다.\n",
    "    user2idx = {uid: i for i, uid in enumerate(train_df['user_id'].unique())}\n",
    "    item2idx = {iid: i for i, iid in enumerate(train_df['business_id'].unique())}\n",
    "\n",
    "    # 테스트 세트에만 존재하는 사용자/아이템을 위한 '알 수 없음' 인덱스를 추가합니다.\n",
    "    unknown_user_idx = len(user2idx)\n",
    "    unknown_item_idx = len(item2idx)\n",
    "\n",
    "    # SBERT 모델 로딩 및 문맥 벡터 생성\n",
    "    print(\"SBERT 모델 로딩 및 문맥 벡터 생성 중...\")\n",
    "    device = torch.device('cuda' if torch.cuda.is_available() else 'cpu')\n",
    "    sbert = SentenceTransformer('all-MiniLM-L6-v2', device=device)\n",
    "    train_context_vectors = sbert.encode(train_df['text'].tolist(), show_progress_bar=True)\n",
    "    test_context_vectors = sbert.encode(test_df['text'].tolist(), show_progress_bar=True)\n",
    "\n",
    "    # 사용자/아이템 ID를 인덱스로 매핑하고, '알 수 없음'은 새로운 인덱스로 채웁니다.\n",
    "    train_df['user'] = train_df['user_id'].map(user2idx)\n",
    "    train_df['item'] = train_df['business_id'].map(item2idx)\n",
    "    test_df['user'] = test_df['user_id'].map(user2idx).fillna(unknown_user_idx).astype(int)\n",
    "    test_df['item'] = test_df['business_id'].map(item2idx).fillna(unknown_item_idx).astype(int)\n",
    "\n",
    "    # DataLoader 생성 (최적의 batch_size: 128 적용)\n",
    "    train_dataset = UCAMDataset(\n",
    "        train_df['user'].values,\n",
    "        train_df['item'].values,\n",
    "        train_df['stars'].values.astype(np.float32),\n",
    "        train_context_vectors\n",
    "    )\n",
    "    test_dataset = UCAMDataset(\n",
    "        test_df['user'].values,\n",
    "        test_df['item'].values,\n",
    "        test_df['stars'].values.astype(np.float32),\n",
    "        test_context_vectors\n",
    "    )\n",
    "\n",
    "    train_loader = DataLoader(train_dataset, batch_size=128, shuffle=True)\n",
    "    test_loader = DataLoader(test_dataset, batch_size=128, shuffle=False)\n",
    "\n",
    "    # 모델, 옵티마이저, 손실 함수 정의 (최적의 embed_dim: 32, learning_rate: 0.0005 적용)\n",
    "    context_dim = sbert.get_sentence_embedding_dimension()\n",
    "    model = UCAM(num_users=len(user2idx), num_items=len(item2idx), embed_dim=32, context_dim=context_dim).to(device)\n",
    "    optimizer = torch.optim.Adam(model.parameters(), lr=0.0005)\n",
    "    criterion = nn.MSELoss()\n",
    "\n",
    "    best_val_rmse = float('inf')\n",
    "    epochs_no_improve = 0\n",
    "    patience = 7  # 최적의 patience: 7 적용\n",
    "    min_delta = 0.001\n",
    "    epochs = 50\n",
    "    model_path = f'best_ucam_model_{random_seed}.pt'\n",
    "\n",
    "    print(\"모델 학습 시작...\")\n",
    "    for epoch in range(epochs):\n",
    "        model.train()\n",
    "        total_train_loss = 0\n",
    "        progress_bar = tqdm(train_loader, desc=f\"Epoch {epoch+1}/{epochs} (Train)\", leave=False)\n",
    "\n",
    "        for user_ids, item_ids, context_vectors, stars in progress_bar:\n",
    "            user_ids = user_ids.to(device)\n",
    "            item_ids = item_ids.to(device)\n",
    "            context_vectors = context_vectors.to(device)\n",
    "            stars = stars.to(device)\n",
    "\n",
    "            optimizer.zero_grad()\n",
    "            predictions = model(user_ids, item_ids, context_vectors)\n",
    "            loss = criterion(predictions, stars)\n",
    "            loss.backward()\n",
    "            optimizer.step()\n",
    "            total_train_loss += loss.item()\n",
    "            \n",
    "        # --- 검증 ---\n",
    "        model.eval()\n",
    "        val_preds, val_true = [], []\n",
    "        with torch.no_grad():\n",
    "            for user_ids, item_ids, context_vectors, stars in test_loader:\n",
    "                user_ids = user_ids.to(device)\n",
    "                item_ids = item_ids.to(device)\n",
    "                context_vectors = context_vectors.to(device)\n",
    "                stars = stars.to(device)\n",
    "\n",
    "                preds = model(user_ids, item_ids, context_vectors)\n",
    "                val_preds.extend(preds.cpu().numpy())\n",
    "                val_true.extend(stars.cpu().numpy())\n",
    "\n",
    "        val_preds = np.array(val_preds)\n",
    "        val_true = np.array(val_true)\n",
    "        val_mse = mean_squared_error(val_true, val_preds)\n",
    "        val_rmse = np.sqrt(val_mse)\n",
    "        val_mae = mean_absolute_error(val_true, val_preds)\n",
    "        val_mape = mean_absolute_percentage_error(val_true, val_preds)\n",
    "\n",
    "        print(f\"\\nEpoch {epoch+1} | Train Loss: {total_train_loss / len(train_loader):.4f} | \"\n",
    "              f\"Val RMSE: {val_rmse:.4f}, MAE: {val_mae:.4f}, MAPE: {val_mape:.2f}%\")\n",
    "\n",
    "        if val_rmse < best_val_rmse - min_delta:\n",
    "            best_val_rmse = val_rmse\n",
    "            epochs_no_improve = 0\n",
    "            torch.save(model.state_dict(), model_path)\n",
    "            print(f\"  --> 개선됨. 모델 저장됨 (RMSE: {best_val_rmse:.4f})\")\n",
    "        else:\n",
    "            epochs_no_improve += 1\n",
    "            print(f\"  --> 개선 없음. ({epochs_no_improve}/{patience})\")\n",
    "            if epochs_no_improve == patience:\n",
    "                print(\"조기 종료 발생.\")\n",
    "                break\n",
    "    \n",
    "    # -------------------- 테스트셋 평가 --------------------\n",
    "    def evaluate_model(model, data_loader, device):\n",
    "        model.eval()\n",
    "        preds, targets = [], []\n",
    "\n",
    "        with torch.no_grad():\n",
    "            for users, items, contexts, ratings in data_loader:\n",
    "                users = users.to(device)\n",
    "                items = items.to(device)\n",
    "                contexts = contexts.to(device)\n",
    "                ratings = ratings.to(device)\n",
    "\n",
    "                output = model(users, items, contexts)\n",
    "                preds.extend(output.cpu().numpy())\n",
    "                targets.extend(ratings.cpu().numpy())\n",
    "\n",
    "        preds = np.array(preds)\n",
    "        targets = np.array(targets)\n",
    "\n",
    "        mae = mean_absolute_error(targets, preds)\n",
    "        mse = mean_squared_error(targets, preds)\n",
    "        rmse = np.sqrt(mse)\n",
    "        mape = mean_absolute_percentage_error(targets, preds)\n",
    "\n",
    "        return mae, mse, rmse, mape\n",
    "\n",
    "    if os.path.exists(model_path):\n",
    "        model.load_state_dict(torch.load(model_path))\n",
    "        print(f\"\\n최적 모델 로드 완료: {model_path}\")\n",
    "        mae, mse, rmse, mape = evaluate_model(model, test_loader, device)\n",
    "\n",
    "        print(f\"\\n✅ [UCAM] 최종 테스트 평가 지표 (random_state={random_seed}):\")\n",
    "        print(f\"    - MSE  : {mse:.4f}\")\n",
    "        print(f\"    - RMSE : {rmse:.4f}\")\n",
    "        print(f\"    - MAE  : {mae:.4f}\")\n",
    "        print(f\"    - MAPE : {mape:.2f}%\")\n",
    "        \n",
    "        return {'mse': mse, 'rmse': rmse, 'mae': mae, 'mape': mape}\n",
    "    \n",
    "    return None\n",
    "\n",
    "# -------------------- Step 9: 5회 실험 및 평균 계산 --------------------\n",
    "all_results = []\n",
    "num_runs = 5\n",
    "start_seed = 42\n",
    "\n",
    "for i in range(num_runs):\n",
    "    seed = start_seed + i\n",
    "    results = run_experiment(df, seed)\n",
    "    if results:\n",
    "        all_results.append(results)\n",
    "\n",
    "if all_results:\n",
    "    avg_mse = np.mean([r['mse'] for r in all_results])\n",
    "    avg_rmse = np.mean([r['rmse'] for r in all_results])\n",
    "    avg_mae = np.mean([r['mae'] for r in all_results])\n",
    "    avg_mape = np.mean([r['mape'] for r in all_results])\n",
    "\n",
    "    print(\"\\n\\n==================== 5회 실험 평균 결과 ====================\")\n",
    "    print(f\"✔️ 평균 MSE  : {avg_mse:.4f}\")\n",
    "    print(f\"✔️ 평균 RMSE : {avg_rmse:.4f}\")\n",
    "    print(f\"✔️ 평균 MAE  : {avg_mae:.4f}\")\n",
    "    print(f\"✔️ 평균 MAPE : {avg_mape:.2f}%\")\n",
    "else:\n",
    "    print(\"❌ 실험 결과를 얻지 못했습니다. 오류를 확인해주세요.\")"
   ]
  },
  {
   "cell_type": "code",
   "execution_count": null,
   "id": "af7d7604-e3c7-43d0-a9b4-b2ea905498e1",
   "metadata": {},
   "outputs": [],
   "source": []
  }
 ],
 "metadata": {
  "kernelspec": {
   "display_name": "Python 3 (ipykernel)",
   "language": "python",
   "name": "python3"
  },
  "language_info": {
   "codemirror_mode": {
    "name": "ipython",
    "version": 3
   },
   "file_extension": ".py",
   "mimetype": "text/x-python",
   "name": "python",
   "nbconvert_exporter": "python",
   "pygments_lexer": "ipython3",
   "version": "3.12.3"
  }
 },
 "nbformat": 4,
 "nbformat_minor": 5
}
